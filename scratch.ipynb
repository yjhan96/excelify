{
 "cells": [
  {
   "cell_type": "code",
   "execution_count": 1,
   "metadata": {},
   "outputs": [],
   "source": [
    "import excelify as el\n",
    "import polars as pl\n",
    "import numpy as np"
   ]
  },
  {
   "cell_type": "markdown",
   "metadata": {},
   "source": [
    "### Scratch"
   ]
  },
  {
   "cell_type": "code",
   "execution_count": 2,
   "metadata": {},
   "outputs": [],
   "source": [
    "df = el.ExcelFrame({\n",
    "    \"x\": [1, 2, 3]\n",
    "})"
   ]
  },
  {
   "cell_type": "code",
   "execution_count": 3,
   "metadata": {},
   "outputs": [
    {
     "data": {
      "text/html": [
       "<div><style>\n",
       ".dataframe > thead > tr,\n",
       ".dataframe > tbody > tr {\n",
       "  text-align: right;\n",
       "  white-space: pre-wrap;\n",
       "}\n",
       "</style>\n",
       "<small>shape; (3, 1)</small><table border=\"1\" class=\"dataframe\"><thead><tr><th>x</th></tr></thead><tbody><tr><td>1</td></tr><tr><td>2</td></tr><tr><td>3</td></tr></tbody></table></div>"
      ],
      "text/plain": [
       "<excelify.ExcelFrame at 0x115b47190>"
      ]
     },
     "execution_count": 3,
     "metadata": {},
     "output_type": "execute_result"
    }
   ],
   "source": [
    "df"
   ]
  },
  {
   "cell_type": "code",
   "execution_count": 4,
   "metadata": {},
   "outputs": [],
   "source": [
    "df.write_excel(\"example.xlsx\")"
   ]
  },
  {
   "cell_type": "code",
   "execution_count": 3,
   "metadata": {},
   "outputs": [
    {
     "data": {
      "text/plain": [
       "[Const(1), Const(2), Const(3)]"
      ]
     },
     "execution_count": 3,
     "metadata": {},
     "output_type": "execute_result"
    }
   ],
   "source": [
    "df[\"x\"]"
   ]
  },
  {
   "cell_type": "markdown",
   "metadata": {},
   "source": [
    "## DCF using Python"
   ]
  },
  {
   "cell_type": "markdown",
   "metadata": {},
   "source": [
    "### Step 1: Raw Input Data"
   ]
  },
  {
   "cell_type": "code",
   "execution_count": 41,
   "metadata": {},
   "outputs": [],
   "source": [
    "tax_rates = [6858. / 20564., 4915. / 20116., 4281. / 11460.]\n",
    "effective_tax_rate = sum(tax_rates) / len(tax_rates)"
   ]
  },
  {
   "cell_type": "code",
   "execution_count": 4,
   "metadata": {},
   "outputs": [],
   "source": [
    "df = pl.DataFrame(\n",
    "    {\n",
    "        \"Year\": [\"FY19\", \"FY20\", \"FY21\"],\n",
    "        \"Retail Square Foot\": [1129, 1129, 1121],\n",
    "        \"Net Sales\": [510_329, 519_926, 555_233],\n",
    "        \"Membership & Other Income\": [4076, 4038, 3918],\n",
    "        \"Operating Income (EBIT)\": [21_957, 20_568, 22_548],\n",
    "        \"Capital Expenditures\": [-10_344, -10_705, -10_604],\n",
    "        \"Depreciation & Amortization\": [10_678, 10_987, 11_152],\n",
    "    }\n",
    ")\n",
    "fy18_retail_square_foot = 1158"
   ]
  },
  {
   "cell_type": "code",
   "execution_count": 10,
   "metadata": {},
   "outputs": [
    {
     "data": {
      "text/html": [
       "<div><style>\n",
       ".dataframe > thead > tr,\n",
       ".dataframe > tbody > tr {\n",
       "  text-align: right;\n",
       "  white-space: pre-wrap;\n",
       "}\n",
       "</style>\n",
       "<small>shape: (1,)</small><table border=\"1\" class=\"dataframe\"><thead><tr><th>Retail Square Foot</th></tr><tr><td>i64</td></tr></thead><tbody><tr><td>1129</td></tr></tbody></table></div>"
      ],
      "text/plain": [
       "shape: (1,)\n",
       "Series: 'Retail Square Foot' [i64]\n",
       "[\n",
       "\t1129\n",
       "]"
      ]
     },
     "execution_count": 10,
     "metadata": {},
     "output_type": "execute_result"
    }
   ],
   "source": [
    "df[0][\"Retail Square Foot\"]"
   ]
  },
  {
   "cell_type": "markdown",
   "metadata": {},
   "source": [
    "### Design\n",
    "\n",
    "Programmable Excel - Maybe a better VBA\n",
    "\n",
    "Why is this different from dataframes?\n",
    "Dataframe is not a DAG computation graph, but Excel is. But Excel looks very similar to Dataframe in a way that it's tabular.\n",
    "\n",
    "So I'd like to build a python library that makes it easier to define an excel-like table, like:\n",
    "\n",
    "```python\n",
    "\n",
    "df = el.excelFrame({\"x\": [1, 2, 3]})\n",
    "df = df.with_columns(\n",
    "    # It'll define \"y\" as \"x\" column cell * 2 for each row.\n",
    "    (el.col(\"x\") * 2).alias(\"y\"),\n",
    "    # This is a common financial excel pattern (e.g. previous earnings * expected growth rate).\n",
    "    (el.col(\"y\").prev(1) * el.col(\"x\")).alias(\"z\"),\n",
    "    # Empty column.\n",
    "    (el.empty()).alias(\"empty_col\")\n",
    ")\n",
    "\n",
    "df[\"empty_col\"][2] = df[\"x\"][0] + df[\"y\"][0]\n",
    "df[\"y\"][:3].clear()\n",
    "\n",
    "df.write_excel()\n",
    "\n",
    "```"
   ]
  },
  {
   "cell_type": "code",
   "execution_count": 43,
   "metadata": {},
   "outputs": [],
   "source": [
    "[quarter, retail_square_foot, net_sales, other_income, ebit, capex, d_and_a] = [\n",
    "    pl.col(c) for c in df.columns\n",
    "]"
   ]
  },
  {
   "cell_type": "markdown",
   "metadata": {},
   "source": [
    "### Derive Other Columns"
   ]
  },
  {
   "cell_type": "code",
   "execution_count": 44,
   "metadata": {},
   "outputs": [],
   "source": [
    "lf = df.lazy().with_columns(\n",
    "    (net_sales / retail_square_foot).alias(\"Sales per Square Foot\"),\n",
    "    ((net_sales - ebit) / retail_square_foot).alias(\"COGS and OpEx per Square Foot\"),\n",
    "    (-capex / retail_square_foot.shift(1).fill_null(fy18_retail_square_foot)).alias(\n",
    "        \"Maintenance CapEx per Square Foot\"\n",
    "    ),\n",
    "    (d_and_a / retail_square_foot).alias(\"D&A per Square Foot\"),\n",
    "    (net_sales + other_income).alias(\"Total Revenue\"),\n",
    "    (-ebit * effective_tax_rate).alias(\"(-) Taxes, Excluding Effect of Interest:\"),\n",
    ")\n",
    "lf = lf.with_columns(\n",
    "    (pl.col(\"(-) Taxes, Excluding Effect of Interest:\") + ebit).alias(\n",
    "        \"Net Operating Profit After Tax (NOPAT)\"\n",
    "    ),\n",
    ")\n",
    "historical_df = lf.collect()"
   ]
  },
  {
   "cell_type": "markdown",
   "metadata": {},
   "source": [
    "### Projections"
   ]
  },
  {
   "cell_type": "code",
   "execution_count": 45,
   "metadata": {},
   "outputs": [],
   "source": [
    "projected_years = [f\"FY{22 + i}\" for i in range(10)]\n",
    "retail_square_foot_gr = [0.02] * 2 + [0.015] * 2 + [0.01] * 2 + [0.005] * 4\n",
    "sales_per_sqft_gr = [0.03] * 2 + [0.025] * 2 + [0.02] * 2 + [0.015] * 2 + [0.01] * 2\n",
    "cogs_and_opex_per_sqft_gr = sales_per_sqft_gr\n",
    "maintenance_capex_per_sqft_gr = sales_per_sqft_gr\n",
    "d_and_a_per_sqft_gr = [0.025] * 2 + [0.02] * 2 + [0.015] * 2 + [0.01] * 2 + [0.008] * 2\n",
    "initial_growth_capex_per_sqft = 150.\n",
    "growth_capex_per_sqft_gr = [np.nan] + [0.03] * 2 + [0.025] * 2 + [0.02] * 2 + [0.015] * 2 + [0.01]\n",
    "membersip_and_other_income_gr = [0.03] * 2 + [0.025] * 2 + [0.02] * 2 + [0.015] * 2 + [0.01] * 2"
   ]
  },
  {
   "cell_type": "code",
   "execution_count": 46,
   "metadata": {},
   "outputs": [
    {
     "data": {
      "text/html": [
       "<div><style>\n",
       ".dataframe > thead > tr,\n",
       ".dataframe > tbody > tr {\n",
       "  text-align: right;\n",
       "  white-space: pre-wrap;\n",
       "}\n",
       "</style>\n",
       "<small>shape: (10, 8)</small><table border=\"1\" class=\"dataframe\"><thead><tr><th>Year</th><th>Retail Square Foot Growth Rate</th><th>Sales per Square Foot Growth Rate</th><th>COGS and OPEX per Square Foot Growth Rate</th><th>Maintenance CapEx per Square Foot Growth Rate</th><th>D&amp;A per Square Foot Growth Rate</th><th>Growth CapEx per New Square Foot Growth Rate</th><th>Membership and Other Income Growth Rate</th></tr><tr><td>str</td><td>f64</td><td>f64</td><td>f64</td><td>f64</td><td>f64</td><td>f64</td><td>f64</td></tr></thead><tbody><tr><td>&quot;FY22&quot;</td><td>0.02</td><td>0.03</td><td>0.03</td><td>0.03</td><td>0.025</td><td>NaN</td><td>0.03</td></tr><tr><td>&quot;FY23&quot;</td><td>0.02</td><td>0.03</td><td>0.03</td><td>0.03</td><td>0.025</td><td>0.03</td><td>0.03</td></tr><tr><td>&quot;FY24&quot;</td><td>0.015</td><td>0.025</td><td>0.025</td><td>0.025</td><td>0.02</td><td>0.03</td><td>0.025</td></tr><tr><td>&quot;FY25&quot;</td><td>0.015</td><td>0.025</td><td>0.025</td><td>0.025</td><td>0.02</td><td>0.025</td><td>0.025</td></tr><tr><td>&quot;FY26&quot;</td><td>0.01</td><td>0.02</td><td>0.02</td><td>0.02</td><td>0.015</td><td>0.025</td><td>0.02</td></tr><tr><td>&quot;FY27&quot;</td><td>0.01</td><td>0.02</td><td>0.02</td><td>0.02</td><td>0.015</td><td>0.02</td><td>0.02</td></tr><tr><td>&quot;FY28&quot;</td><td>0.005</td><td>0.015</td><td>0.015</td><td>0.015</td><td>0.01</td><td>0.02</td><td>0.015</td></tr><tr><td>&quot;FY29&quot;</td><td>0.005</td><td>0.015</td><td>0.015</td><td>0.015</td><td>0.01</td><td>0.015</td><td>0.015</td></tr><tr><td>&quot;FY30&quot;</td><td>0.005</td><td>0.01</td><td>0.01</td><td>0.01</td><td>0.008</td><td>0.015</td><td>0.01</td></tr><tr><td>&quot;FY31&quot;</td><td>0.005</td><td>0.01</td><td>0.01</td><td>0.01</td><td>0.008</td><td>0.01</td><td>0.01</td></tr></tbody></table></div>"
      ],
      "text/plain": [
       "shape: (10, 8)\n",
       "┌──────┬────────┬──────────────┬──────────────┬──────────────┬─────────┬─────────────┬─────────────┐\n",
       "│ Year ┆ Retail ┆ Sales per    ┆ COGS and     ┆ Maintenance  ┆ D&A per ┆ Growth      ┆ Membership  │\n",
       "│ ---  ┆ Square ┆ Square Foot  ┆ OPEX per     ┆ CapEx per    ┆ Square  ┆ CapEx per   ┆ and Other   │\n",
       "│ str  ┆ Foot   ┆ Growth R…    ┆ Square Foot  ┆ Square F…    ┆ Foot    ┆ New Square  ┆ Income Gr…  │\n",
       "│      ┆ Growth ┆ ---          ┆ …            ┆ ---          ┆ Growth  ┆ Fo…         ┆ ---         │\n",
       "│      ┆ Rate   ┆ f64          ┆ ---          ┆ f64          ┆ Rat…    ┆ ---         ┆ f64         │\n",
       "│      ┆ ---    ┆              ┆ f64          ┆              ┆ ---     ┆ f64         ┆             │\n",
       "│      ┆ f64    ┆              ┆              ┆              ┆ f64     ┆             ┆             │\n",
       "╞══════╪════════╪══════════════╪══════════════╪══════════════╪═════════╪═════════════╪═════════════╡\n",
       "│ FY22 ┆ 0.02   ┆ 0.03         ┆ 0.03         ┆ 0.03         ┆ 0.025   ┆ NaN         ┆ 0.03        │\n",
       "│ FY23 ┆ 0.02   ┆ 0.03         ┆ 0.03         ┆ 0.03         ┆ 0.025   ┆ 0.03        ┆ 0.03        │\n",
       "│ FY24 ┆ 0.015  ┆ 0.025        ┆ 0.025        ┆ 0.025        ┆ 0.02    ┆ 0.03        ┆ 0.025       │\n",
       "│ FY25 ┆ 0.015  ┆ 0.025        ┆ 0.025        ┆ 0.025        ┆ 0.02    ┆ 0.025       ┆ 0.025       │\n",
       "│ FY26 ┆ 0.01   ┆ 0.02         ┆ 0.02         ┆ 0.02         ┆ 0.015   ┆ 0.025       ┆ 0.02        │\n",
       "│ FY27 ┆ 0.01   ┆ 0.02         ┆ 0.02         ┆ 0.02         ┆ 0.015   ┆ 0.02        ┆ 0.02        │\n",
       "│ FY28 ┆ 0.005  ┆ 0.015        ┆ 0.015        ┆ 0.015        ┆ 0.01    ┆ 0.02        ┆ 0.015       │\n",
       "│ FY29 ┆ 0.005  ┆ 0.015        ┆ 0.015        ┆ 0.015        ┆ 0.01    ┆ 0.015       ┆ 0.015       │\n",
       "│ FY30 ┆ 0.005  ┆ 0.01         ┆ 0.01         ┆ 0.01         ┆ 0.008   ┆ 0.015       ┆ 0.01        │\n",
       "│ FY31 ┆ 0.005  ┆ 0.01         ┆ 0.01         ┆ 0.01         ┆ 0.008   ┆ 0.01        ┆ 0.01        │\n",
       "└──────┴────────┴──────────────┴──────────────┴──────────────┴─────────┴─────────────┴─────────────┘"
      ]
     },
     "execution_count": 46,
     "metadata": {},
     "output_type": "execute_result"
    }
   ],
   "source": [
    "manual_inputs = pl.DataFrame(\n",
    "    {\n",
    "        \"Year\": projected_years,\n",
    "        \"Retail Square Foot Growth Rate\": retail_square_foot_gr,\n",
    "        \"Sales per Square Foot Growth Rate\": sales_per_sqft_gr,\n",
    "        \"COGS and OPEX per Square Foot Growth Rate\": cogs_and_opex_per_sqft_gr,\n",
    "        \"Maintenance CapEx per Square Foot Growth Rate\": maintenance_capex_per_sqft_gr,\n",
    "        \"D&A per Square Foot Growth Rate\": d_and_a_per_sqft_gr,\n",
    "        \"Growth CapEx per New Square Foot Growth Rate\": growth_capex_per_sqft_gr,\n",
    "        \"Membership and Other Income Growth Rate\": membersip_and_other_income_gr,\n",
    "    }\n",
    ")\n",
    "manual_inputs"
   ]
  },
  {
   "cell_type": "code",
   "execution_count": 47,
   "metadata": {},
   "outputs": [
    {
     "data": {
      "text/html": [
       "<div><style>\n",
       ".dataframe > thead > tr,\n",
       ".dataframe > tbody > tr {\n",
       "  text-align: right;\n",
       "  white-space: pre-wrap;\n",
       "}\n",
       "</style>\n",
       "<small>shape: (13, 21)</small><table border=\"1\" class=\"dataframe\"><thead><tr><th>Year</th><th>Retail Square Foot</th><th>Net Sales</th><th>Membership &amp; Other Income</th><th>Operating Income (EBIT)</th><th>Capital Expenditures</th><th>Depreciation &amp; Amortization</th><th>Sales per Square Foot</th><th>COGS and OpEx per Square Foot</th><th>Maintenance CapEx per Square Foot</th><th>D&amp;A per Square Foot</th><th>Total Revenue</th><th>(-) Taxes, Excluding Effect of Interest:</th><th>Net Operating Profit After Tax (NOPAT)</th><th>Retail Square Foot Growth Rate</th><th>Sales per Square Foot Growth Rate</th><th>COGS and OPEX per Square Foot Growth Rate</th><th>Maintenance CapEx per Square Foot Growth Rate</th><th>D&amp;A per Square Foot Growth Rate</th><th>Growth CapEx per New Square Foot Growth Rate</th><th>Membership and Other Income Growth Rate</th></tr><tr><td>str</td><td>i64</td><td>i64</td><td>i64</td><td>i64</td><td>i64</td><td>i64</td><td>f64</td><td>f64</td><td>f64</td><td>f64</td><td>i64</td><td>f64</td><td>f64</td><td>f64</td><td>f64</td><td>f64</td><td>f64</td><td>f64</td><td>f64</td><td>f64</td></tr></thead><tbody><tr><td>&quot;FY19&quot;</td><td>1129</td><td>510329</td><td>4076</td><td>21957</td><td>-10344</td><td>10678</td><td>452.018601</td><td>432.570416</td><td>8.932642</td><td>9.457927</td><td>514405</td><td>-6963.212488</td><td>14993.787512</td><td>null</td><td>null</td><td>null</td><td>null</td><td>null</td><td>null</td><td>null</td></tr><tr><td>&quot;FY20&quot;</td><td>1129</td><td>519926</td><td>4038</td><td>20568</td><td>-10705</td><td>10987</td><td>460.519043</td><td>442.301151</td><td>9.481842</td><td>9.731621</td><td>523964</td><td>-6522.719609</td><td>14045.280391</td><td>null</td><td>null</td><td>null</td><td>null</td><td>null</td><td>null</td><td>null</td></tr><tr><td>&quot;FY21&quot;</td><td>1121</td><td>555233</td><td>3918</td><td>22548</td><td>-10604</td><td>11152</td><td>495.301517</td><td>475.187333</td><td>9.392383</td><td>9.94826</td><td>559151</td><td>-7150.636024</td><td>15397.363976</td><td>null</td><td>null</td><td>null</td><td>null</td><td>null</td><td>null</td><td>null</td></tr><tr><td>&quot;FY22&quot;</td><td>null</td><td>null</td><td>null</td><td>null</td><td>null</td><td>null</td><td>null</td><td>null</td><td>null</td><td>null</td><td>null</td><td>null</td><td>null</td><td>0.02</td><td>0.03</td><td>0.03</td><td>0.03</td><td>0.025</td><td>NaN</td><td>0.03</td></tr><tr><td>&quot;FY23&quot;</td><td>null</td><td>null</td><td>null</td><td>null</td><td>null</td><td>null</td><td>null</td><td>null</td><td>null</td><td>null</td><td>null</td><td>null</td><td>null</td><td>0.02</td><td>0.03</td><td>0.03</td><td>0.03</td><td>0.025</td><td>0.03</td><td>0.03</td></tr><tr><td>&hellip;</td><td>&hellip;</td><td>&hellip;</td><td>&hellip;</td><td>&hellip;</td><td>&hellip;</td><td>&hellip;</td><td>&hellip;</td><td>&hellip;</td><td>&hellip;</td><td>&hellip;</td><td>&hellip;</td><td>&hellip;</td><td>&hellip;</td><td>&hellip;</td><td>&hellip;</td><td>&hellip;</td><td>&hellip;</td><td>&hellip;</td><td>&hellip;</td><td>&hellip;</td></tr><tr><td>&quot;FY27&quot;</td><td>null</td><td>null</td><td>null</td><td>null</td><td>null</td><td>null</td><td>null</td><td>null</td><td>null</td><td>null</td><td>null</td><td>null</td><td>null</td><td>0.01</td><td>0.02</td><td>0.02</td><td>0.02</td><td>0.015</td><td>0.02</td><td>0.02</td></tr><tr><td>&quot;FY28&quot;</td><td>null</td><td>null</td><td>null</td><td>null</td><td>null</td><td>null</td><td>null</td><td>null</td><td>null</td><td>null</td><td>null</td><td>null</td><td>null</td><td>0.005</td><td>0.015</td><td>0.015</td><td>0.015</td><td>0.01</td><td>0.02</td><td>0.015</td></tr><tr><td>&quot;FY29&quot;</td><td>null</td><td>null</td><td>null</td><td>null</td><td>null</td><td>null</td><td>null</td><td>null</td><td>null</td><td>null</td><td>null</td><td>null</td><td>null</td><td>0.005</td><td>0.015</td><td>0.015</td><td>0.015</td><td>0.01</td><td>0.015</td><td>0.015</td></tr><tr><td>&quot;FY30&quot;</td><td>null</td><td>null</td><td>null</td><td>null</td><td>null</td><td>null</td><td>null</td><td>null</td><td>null</td><td>null</td><td>null</td><td>null</td><td>null</td><td>0.005</td><td>0.01</td><td>0.01</td><td>0.01</td><td>0.008</td><td>0.015</td><td>0.01</td></tr><tr><td>&quot;FY31&quot;</td><td>null</td><td>null</td><td>null</td><td>null</td><td>null</td><td>null</td><td>null</td><td>null</td><td>null</td><td>null</td><td>null</td><td>null</td><td>null</td><td>0.005</td><td>0.01</td><td>0.01</td><td>0.01</td><td>0.008</td><td>0.01</td><td>0.01</td></tr></tbody></table></div>"
      ],
      "text/plain": [
       "shape: (13, 21)\n",
       "┌──────┬────────┬───────────┬──────────────┬───┬─────────────┬─────────┬─────────────┬─────────────┐\n",
       "│ Year ┆ Retail ┆ Net Sales ┆ Membership & ┆ … ┆ Maintenance ┆ D&A per ┆ Growth      ┆ Membership  │\n",
       "│ ---  ┆ Square ┆ ---       ┆ Other Income ┆   ┆ CapEx per   ┆ Square  ┆ CapEx per   ┆ and Other   │\n",
       "│ str  ┆ Foot   ┆ i64       ┆ ---          ┆   ┆ Square F…   ┆ Foot    ┆ New Square  ┆ Income Gr…  │\n",
       "│      ┆ ---    ┆           ┆ i64          ┆   ┆ ---         ┆ Growth  ┆ Fo…         ┆ ---         │\n",
       "│      ┆ i64    ┆           ┆              ┆   ┆ f64         ┆ Rat…    ┆ ---         ┆ f64         │\n",
       "│      ┆        ┆           ┆              ┆   ┆             ┆ ---     ┆ f64         ┆             │\n",
       "│      ┆        ┆           ┆              ┆   ┆             ┆ f64     ┆             ┆             │\n",
       "╞══════╪════════╪═══════════╪══════════════╪═══╪═════════════╪═════════╪═════════════╪═════════════╡\n",
       "│ FY19 ┆ 1129   ┆ 510329    ┆ 4076         ┆ … ┆ null        ┆ null    ┆ null        ┆ null        │\n",
       "│ FY20 ┆ 1129   ┆ 519926    ┆ 4038         ┆ … ┆ null        ┆ null    ┆ null        ┆ null        │\n",
       "│ FY21 ┆ 1121   ┆ 555233    ┆ 3918         ┆ … ┆ null        ┆ null    ┆ null        ┆ null        │\n",
       "│ FY22 ┆ null   ┆ null      ┆ null         ┆ … ┆ 0.03        ┆ 0.025   ┆ NaN         ┆ 0.03        │\n",
       "│ FY23 ┆ null   ┆ null      ┆ null         ┆ … ┆ 0.03        ┆ 0.025   ┆ 0.03        ┆ 0.03        │\n",
       "│ …    ┆ …      ┆ …         ┆ …            ┆ … ┆ …           ┆ …       ┆ …           ┆ …           │\n",
       "│ FY27 ┆ null   ┆ null      ┆ null         ┆ … ┆ 0.02        ┆ 0.015   ┆ 0.02        ┆ 0.02        │\n",
       "│ FY28 ┆ null   ┆ null      ┆ null         ┆ … ┆ 0.015       ┆ 0.01    ┆ 0.02        ┆ 0.015       │\n",
       "│ FY29 ┆ null   ┆ null      ┆ null         ┆ … ┆ 0.015       ┆ 0.01    ┆ 0.015       ┆ 0.015       │\n",
       "│ FY30 ┆ null   ┆ null      ┆ null         ┆ … ┆ 0.01        ┆ 0.008   ┆ 0.015       ┆ 0.01        │\n",
       "│ FY31 ┆ null   ┆ null      ┆ null         ┆ … ┆ 0.01        ┆ 0.008   ┆ 0.01        ┆ 0.01        │\n",
       "└──────┴────────┴───────────┴──────────────┴───┴─────────────┴─────────┴─────────────┴─────────────┘"
      ]
     },
     "execution_count": 47,
     "metadata": {},
     "output_type": "execute_result"
    }
   ],
   "source": [
    "joined_df = (\n",
    "    historical_df.join(manual_inputs, on=\"Year\", how=\"full\")\n",
    "    .with_columns(pl.coalesce([\"Year\", \"Year_right\"]).alias(\"Year\"))\n",
    "    .drop(\"Year_right\")\n",
    "    .sort(\"Year\")\n",
    ")\n",
    "joined_df"
   ]
  },
  {
   "cell_type": "code",
   "execution_count": 48,
   "metadata": {},
   "outputs": [
    {
     "data": {
      "text/html": [
       "<div><style>\n",
       ".dataframe > thead > tr,\n",
       ".dataframe > tbody > tr {\n",
       "  text-align: right;\n",
       "  white-space: pre-wrap;\n",
       "}\n",
       "</style>\n",
       "<small>shape: (1, 21)</small><table border=\"1\" class=\"dataframe\"><thead><tr><th>Year</th><th>Retail Square Foot</th><th>Net Sales</th><th>Membership &amp; Other Income</th><th>Operating Income (EBIT)</th><th>Capital Expenditures</th><th>Depreciation &amp; Amortization</th><th>Sales per Square Foot</th><th>COGS and OpEx per Square Foot</th><th>Maintenance CapEx per Square Foot</th><th>D&amp;A per Square Foot</th><th>Total Revenue</th><th>(-) Taxes, Excluding Effect of Interest:</th><th>Net Operating Profit After Tax (NOPAT)</th><th>Retail Square Foot Growth Rate</th><th>Sales per Square Foot Growth Rate</th><th>COGS and OPEX per Square Foot Growth Rate</th><th>Maintenance CapEx per Square Foot Growth Rate</th><th>D&amp;A per Square Foot Growth Rate</th><th>Growth CapEx per New Square Foot Growth Rate</th><th>Membership and Other Income Growth Rate</th></tr><tr><td>str</td><td>i64</td><td>i64</td><td>i64</td><td>i64</td><td>i64</td><td>i64</td><td>f64</td><td>f64</td><td>f64</td><td>f64</td><td>i64</td><td>f64</td><td>f64</td><td>f64</td><td>f64</td><td>f64</td><td>f64</td><td>f64</td><td>f64</td><td>f64</td></tr></thead><tbody><tr><td>&quot;FY25&quot;</td><td>null</td><td>null</td><td>null</td><td>null</td><td>null</td><td>null</td><td>null</td><td>null</td><td>null</td><td>null</td><td>null</td><td>null</td><td>null</td><td>0.015</td><td>0.025</td><td>0.025</td><td>0.025</td><td>0.02</td><td>0.025</td><td>0.025</td></tr></tbody></table></div>"
      ],
      "text/plain": [
       "shape: (1, 21)\n",
       "┌──────┬────────┬───────────┬──────────────┬───┬─────────────┬─────────┬─────────────┬─────────────┐\n",
       "│ Year ┆ Retail ┆ Net Sales ┆ Membership & ┆ … ┆ Maintenance ┆ D&A per ┆ Growth      ┆ Membership  │\n",
       "│ ---  ┆ Square ┆ ---       ┆ Other Income ┆   ┆ CapEx per   ┆ Square  ┆ CapEx per   ┆ and Other   │\n",
       "│ str  ┆ Foot   ┆ i64       ┆ ---          ┆   ┆ Square F…   ┆ Foot    ┆ New Square  ┆ Income Gr…  │\n",
       "│      ┆ ---    ┆           ┆ i64          ┆   ┆ ---         ┆ Growth  ┆ Fo…         ┆ ---         │\n",
       "│      ┆ i64    ┆           ┆              ┆   ┆ f64         ┆ Rat…    ┆ ---         ┆ f64         │\n",
       "│      ┆        ┆           ┆              ┆   ┆             ┆ ---     ┆ f64         ┆             │\n",
       "│      ┆        ┆           ┆              ┆   ┆             ┆ f64     ┆             ┆             │\n",
       "╞══════╪════════╪═══════════╪══════════════╪═══╪═════════════╪═════════╪═════════════╪═════════════╡\n",
       "│ FY25 ┆ null   ┆ null      ┆ null         ┆ … ┆ 0.025       ┆ 0.02    ┆ 0.025       ┆ 0.025       │\n",
       "└──────┴────────┴───────────┴──────────────┴───┴─────────────┴─────────┴─────────────┴─────────────┘"
      ]
     },
     "execution_count": 48,
     "metadata": {},
     "output_type": "execute_result"
    }
   ],
   "source": [
    "joined_df.filter(pl.col(\"Year\") == \"FY25\")"
   ]
  },
  {
   "cell_type": "code",
   "execution_count": 52,
   "metadata": {},
   "outputs": [
    {
     "data": {
      "text/plain": [
       "'\\nsyntax I want:\\n\\n\"x\".prev(1) * \"r\"\\n'"
      ]
     },
     "execution_count": 52,
     "metadata": {},
     "output_type": "execute_result"
    }
   ],
   "source": [
    "\"\"\"\n",
    "syntax I want:\n",
    "\n",
    "\"x\".prev(1) * \"r\"\n",
    "\"\"\""
   ]
  },
  {
   "cell_type": "code",
   "execution_count": null,
   "metadata": {},
   "outputs": [],
   "source": []
  }
 ],
 "metadata": {
  "kernelspec": {
   "display_name": ".venv",
   "language": "python",
   "name": "python3"
  },
  "language_info": {
   "codemirror_mode": {
    "name": "ipython",
    "version": 3
   },
   "file_extension": ".py",
   "mimetype": "text/x-python",
   "name": "python",
   "nbconvert_exporter": "python",
   "pygments_lexer": "ipython3",
   "version": "3.11.11"
  }
 },
 "nbformat": 4,
 "nbformat_minor": 2
}
