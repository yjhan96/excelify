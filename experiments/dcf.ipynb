{
 "cells": [
  {
   "cell_type": "markdown",
   "metadata": {},
   "source": [
    "# DCF Modeling"
   ]
  },
  {
   "cell_type": "code",
   "execution_count": 1,
   "metadata": {},
   "outputs": [],
   "source": [
    "import excelify as el"
   ]
  },
  {
   "cell_type": "markdown",
   "metadata": {},
   "source": [
    "# Step 0: Assumptions"
   ]
  },
  {
   "cell_type": "code",
   "execution_count": 2,
   "metadata": {},
   "outputs": [
    {
     "data": {
      "text/html": [
       "<div><style>\n",
       ".dataframe > thead > tr,\n",
       ".dataframe > tbody > tr {\n",
       "  text-align: right;\n",
       "  white-space: pre-wrap;\n",
       "}\n",
       "</style>\n",
       "<small>shape; (1, 5)</small><table border=\"1\" class=\"dataframe\"><thead><tr><th>Company Name</th><th>Ticker</th><th>Current Share Price</th><th>Effective Tax Rate</th><th>Last Fiscal Year</th></tr></thead><tbody><tr><td>Walmart Inc.</td><td>WMT</td><td>139.43</td><td>0.31712950256223044</td><td>2021-01-31</td></tr></tbody></table></div>"
      ],
      "text/plain": [
       "<excelify._excelframe.ExcelFrame at 0x1086f7750>"
      ]
     },
     "execution_count": 2,
     "metadata": {},
     "output_type": "execute_result"
    }
   ],
   "source": [
    "previous_tax_rates = [6858 / 20564, 4915 / 20116, 4281 / 11460]\n",
    "assumptions_df = el.ExcelFrame(\n",
    "    {\n",
    "        \"Company Name\": [\"Walmart Inc.\"],\n",
    "        \"Ticker\": [\"WMT\"],\n",
    "        \"Current Share Price\": [139.43],\n",
    "        \"Effective Tax Rate\": [sum(previous_tax_rates) / len(previous_tax_rates)],\n",
    "        \"Last Fiscal Year\": [\"2021-01-31\"],\n",
    "    },\n",
    ")\n",
    "assumptions_df"
   ]
  },
  {
   "cell_type": "markdown",
   "metadata": {},
   "source": [
    "## Step 1: Unlevered Free Cash Flow"
   ]
  },
  {
   "cell_type": "code",
   "execution_count": 3,
   "metadata": {},
   "outputs": [],
   "source": [
    "def nopat(operating_income, taxes):\n",
    "    return operating_income + taxes\n",
    "\n",
    "\n",
    "def deferred_taxes(taxes, percent_book_taxes):\n",
    "    return -taxes * percent_book_taxes\n",
    "\n",
    "\n",
    "def unlevered_free_cash_flow(\n",
    "    nopat, d_and_a, deferred_taxes, other_operating, change_in_working_capial, capex\n",
    "):\n",
    "    return (\n",
    "        nopat\n",
    "        + d_and_a\n",
    "        + deferred_taxes\n",
    "        + other_operating\n",
    "        + change_in_working_capial\n",
    "        + capex\n",
    "    )"
   ]
  },
  {
   "cell_type": "code",
   "execution_count": 5,
   "metadata": {},
   "outputs": [
    {
     "data": {
      "text/html": [
       "<div><style>\n",
       ".dataframe > thead > tr,\n",
       ".dataframe > tbody > tr {\n",
       "  text-align: right;\n",
       "  white-space: pre-wrap;\n",
       "}\n",
       "</style>\n",
       "<small>shape; (3, 13)</small><table border=\"1\" class=\"dataframe\"><thead><tr><th>Year</th><th>Net Sales</th><th>Membership &amp; Other Income</th><th>Operating Income (EBIT)</th><th>Depreciation &amp; Amortization</th><th>% Book Taxes</th><th>Other Operating Activities</th><th>Change in Working Capital</th><th>Capital Expenditures</th><th>Taxes, Excluding Effect of Interest</th><th>Net Operating Profit After Tax (NOPAT)</th><th>Deferred Taxes</th><th>Annual Unlevered Free Cash Flow</th></tr></thead><tbody><tr><td>2019</td><td>510329.0</td><td>4076.0</td><td>21957.0</td><td>10678.0</td><td>-0.11656155103947675</td><td>1734</td><td>295</td><td>-10344</td><td>-6963.212487758894</td><td>14993.787512241106</td><td>-811.6428477906302</td><td>16545.144664450476</td></tr><tr><td>2020</td><td>519926.0</td><td>4038.0</td><td>20568.0</td><td>10987.0</td><td>0.06510681586978637</td><td>1981</td><td>-327</td><td>-10705</td><td>-6522.719608699956</td><td>14045.280391300044</td><td>424.673504533873</td><td>16405.953895833918</td></tr><tr><td>2021</td><td>555233.0</td><td>3918.0</td><td>22548.0</td><td>11152.0</td><td>0.2786526684164479</td><td>1521</td><td>7972</td><td>-10264</td><td>-7150.6360237731715</td><td>15397.363976226829</td><td>1992.5438088991732</td><td>27770.907785126</td></tr></tbody></table></div>"
      ],
      "text/plain": [
       "<excelify._excelframe.ExcelFrame at 0x1084603d0>"
      ]
     },
     "execution_count": 5,
     "metadata": {},
     "output_type": "execute_result"
    }
   ],
   "source": [
    "historical_ufcf_df = el.ExcelFrame(\n",
    "    {\n",
    "        \"Year\": [\"2019\", \"2020\", \"2021\"],\n",
    "        \"Net Sales\": [510_329.0, 519_926.0, 555_233.0],\n",
    "        \"Membership & Other Income\": [4076.0, 4038.0, 3918.0],\n",
    "        \"Operating Income (EBIT)\": [21_957.0, 20_568.0, 22_548.0],\n",
    "        \"Depreciation & Amortization\": [10_678.0, 10_987.0, 11_152.0],\n",
    "        \"% Book Taxes\": [-499 / 4281, 320 / 4915, 1911 / 6858],\n",
    "        \"Other Operating Activities\": [1_734, 1_981, 1_521],\n",
    "        \"Change in Working Capital\": [295, -327, 7972],\n",
    "        \"Capital Expenditures\": [-10_344, -10_705, -10_264],\n",
    "    }\n",
    ")\n",
    "\n",
    "historical_ufcf_df = historical_ufcf_df.with_columns(\n",
    "    (\n",
    "        -el.col(\"Operating Income (EBIT)\")\n",
    "        * el.SingleCellExpr(assumptions_df[\"Effective Tax Rate\"][0])\n",
    "    ).alias(\"Taxes, Excluding Effect of Interest\"),\n",
    ")\n",
    "\n",
    "historical_ufcf_df = historical_ufcf_df.with_columns(\n",
    "    nopat(\n",
    "        el.col(\"Operating Income (EBIT)\"),\n",
    "        el.col(\"Taxes, Excluding Effect of Interest\"),\n",
    "    ).alias(\"Net Operating Profit After Tax (NOPAT)\"),\n",
    "    deferred_taxes(\n",
    "        el.col(\"Taxes, Excluding Effect of Interest\"),\n",
    "        el.col(\"% Book Taxes\"),\n",
    "    ).alias(\"Deferred Taxes\"),\n",
    ")\n",
    "\n",
    "historical_ufcf_df = historical_ufcf_df.with_columns(\n",
    "    unlevered_free_cash_flow(\n",
    "        el.col(\"Net Operating Profit After Tax (NOPAT)\"),\n",
    "        el.col(\"Depreciation & Amortization\"),\n",
    "        el.col(\"Deferred Taxes\"),\n",
    "        el.col(\"Other Operating Activities\"),\n",
    "        el.col(\"Change in Working Capital\"),\n",
    "        el.col(\"Capital Expenditures\"),\n",
    "    ).alias(\"Annual Unlevered Free Cash Flow\"),\n",
    ")\n",
    "\n",
    "# TODO: Allow displaying in transpose.\n",
    "# TODO: Display fewer decimal points.\n",
    "historical_ufcf_df.evaluate()"
   ]
  },
  {
   "cell_type": "code",
   "execution_count": null,
   "metadata": {},
   "outputs": [],
   "source": []
  },
  {
   "cell_type": "markdown",
   "metadata": {},
   "source": []
  }
 ],
 "metadata": {
  "kernelspec": {
   "display_name": "Python 3",
   "language": "python",
   "name": "python3"
  },
  "language_info": {
   "codemirror_mode": {
    "name": "ipython",
    "version": 3
   },
   "file_extension": ".py",
   "mimetype": "text/x-python",
   "name": "python",
   "nbconvert_exporter": "python",
   "pygments_lexer": "ipython3",
   "version": "3.11.11"
  }
 },
 "nbformat": 4,
 "nbformat_minor": 2
}
