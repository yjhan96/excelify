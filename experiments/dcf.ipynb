{
 "cells": [
  {
   "cell_type": "markdown",
   "metadata": {},
   "source": [
    "# DCF Modeling"
   ]
  },
  {
   "cell_type": "code",
   "execution_count": 1,
   "metadata": {
    "execution": {
     "iopub.execute_input": "2025-05-03T02:49:37.124586Z",
     "iopub.status.busy": "2025-05-03T02:49:37.124403Z",
     "iopub.status.idle": "2025-05-03T02:49:37.211271Z",
     "shell.execute_reply": "2025-05-03T02:49:37.211041Z",
     "shell.execute_reply.started": "2025-05-03T02:49:37.124573Z"
    }
   },
   "outputs": [],
   "source": [
    "import excelify as el"
   ]
  },
  {
   "cell_type": "markdown",
   "metadata": {},
   "source": [
    "# Step 0: Assumptions"
   ]
  },
  {
   "cell_type": "code",
   "execution_count": 2,
   "metadata": {
    "execution": {
     "iopub.execute_input": "2025-05-03T02:49:37.415586Z",
     "iopub.status.busy": "2025-05-03T02:49:37.415069Z",
     "iopub.status.idle": "2025-05-03T02:49:37.423247Z",
     "shell.execute_reply": "2025-05-03T02:49:37.423063Z",
     "shell.execute_reply.started": "2025-05-03T02:49:37.415555Z"
    }
   },
   "outputs": [
    {
     "data": {
      "text/html": [
       "<div><style>\n",
       ".dataframe > thead > tr,\n",
       ".dataframe > tbody > tr {\n",
       "  text-align: right;\n",
       "  white-space: pre-wrap;\n",
       "}\n",
       "</style>\n",
       "<small>shape; (5, 2)</small><table border=\"1\" class=\"dataframe\"><thead><tr><th>Name</th><th>Constants</th></tr></thead><tbody><tr><td>Company Name</td><td bgcolor=\"blue\">Walmart Inc.</td></tr><tr><td>Ticker</td><td>WMT</td></tr><tr><td>Current Share Price</td><td>139.43</td></tr><tr><td>Effective Tax Rate</td><td>0.32</td></tr><tr><td>Last Fiscal Year</td><td>2021-01-31</td></tr></tbody></table></div>"
      ],
      "text/plain": [
       "<excelify._excelframe.ExcelFrame at 0x107cf4c90>"
      ]
     },
     "execution_count": 2,
     "metadata": {},
     "output_type": "execute_result"
    }
   ],
   "source": [
    "previous_tax_rates = [6858 / 20564, 4915 / 20116, 4281 / 11460]\n",
    "assumptions_df = el.ExcelFrame(\n",
    "    {\n",
    "        \"Company Name\": [\"Walmart Inc.\"],\n",
    "        \"Ticker\": [\"WMT\"],\n",
    "        \"Current Share Price\": [139.43],\n",
    "        \"Effective Tax Rate\": [sum(previous_tax_rates) / len(previous_tax_rates)],\n",
    "        \"Last Fiscal Year\": [\"2021-01-31\"],\n",
    "    },\n",
    ")\n",
    "\n",
    "assumptions_df[\"Company Name\"].set_attributes({\"bgcolor\": \"blue\"})\n",
    "assumptions_df.transpose(\n",
    "    include_header=True, header_name=\"Name\", column_names=[\"Constants\"]\n",
    ")"
   ]
  },
  {
   "cell_type": "markdown",
   "metadata": {},
   "source": [
    "## Step 1: Unlevered Free Cash Flow"
   ]
  },
  {
   "cell_type": "code",
   "execution_count": 3,
   "metadata": {
    "execution": {
     "iopub.execute_input": "2025-05-03T02:50:34.240568Z",
     "iopub.status.busy": "2025-05-03T02:50:34.240240Z",
     "iopub.status.idle": "2025-05-03T02:50:34.242567Z",
     "shell.execute_reply": "2025-05-03T02:50:34.242284Z",
     "shell.execute_reply.started": "2025-05-03T02:50:34.240550Z"
    }
   },
   "outputs": [],
   "source": [
    "years = [\"2019\", \"2020\", \"2021\"]"
   ]
  },
  {
   "cell_type": "code",
   "execution_count": 4,
   "metadata": {
    "execution": {
     "iopub.execute_input": "2025-05-03T03:13:49.984832Z",
     "iopub.status.busy": "2025-05-03T03:13:49.984355Z",
     "iopub.status.idle": "2025-05-03T03:13:49.989509Z",
     "shell.execute_reply": "2025-05-03T03:13:49.989000Z",
     "shell.execute_reply.started": "2025-05-03T03:13:49.984805Z"
    }
   },
   "outputs": [],
   "source": [
    "def nopat(operating_income, taxes):\n",
    "    return operating_income + taxes\n",
    "\n",
    "\n",
    "def deferred_taxes(taxes, percent_book_taxes):\n",
    "    return -taxes * percent_book_taxes\n",
    "\n",
    "\n",
    "def unlevered_free_cash_flow(\n",
    "    nopat, d_and_a, deferred_taxes, other_operating, change_in_working_capial, capex\n",
    "):\n",
    "    return (\n",
    "        nopat\n",
    "        + d_and_a\n",
    "        + deferred_taxes\n",
    "        + other_operating\n",
    "        + change_in_working_capial\n",
    "        + capex\n",
    "    )\n",
    "\n",
    "def ebitda(ebit, da):\n",
    "    return ebit + da\n",
    "\n",
    "def growth_rate(col: el.Col):\n",
    "    return ((col / col.prev(1)) - 1) * 100"
   ]
  },
  {
   "cell_type": "code",
   "execution_count": null,
   "metadata": {
    "execution": {
     "iopub.execute_input": "2025-05-03T03:15:12.128060Z",
     "iopub.status.busy": "2025-05-03T03:15:12.127926Z",
     "iopub.status.idle": "2025-05-03T03:15:12.136759Z",
     "shell.execute_reply": "2025-05-03T03:15:12.136112Z",
     "shell.execute_reply.started": "2025-05-03T03:15:12.128053Z"
    }
   },
   "outputs": [
    {
     "data": {
      "text/html": [
       "<div><style>\n",
       ".dataframe > thead > tr,\n",
       ".dataframe > tbody > tr {\n",
       "  text-align: right;\n",
       "  white-space: pre-wrap;\n",
       "}\n",
       "</style>\n",
       "<small>shape; (28, 4)</small><table border=\"1\" class=\"dataframe\"><thead><tr><th>Name</th><th>2019</th><th>2020</th><th>2021</th></tr></thead><tbody><tr><td>Year</td><td>2019.0</td><td>2020.0</td><td>2021.0</td></tr><tr><td>Retail Square Feet</td><td>1129.0</td><td>1129.0</td><td>1121.0</td></tr><tr><td>Net Sales</td><td>510329.0</td><td>519926.0</td><td>555233.0</td></tr><tr><td>Membership &amp; Other Income</td><td>4076.0</td><td>4038.0</td><td>3918.0</td></tr><tr><td>Operating Income (EBIT)</td><td>21957.0</td><td>20568.0</td><td>22548.0</td></tr><tr><td>Depreciation &amp; Amortization</td><td>10678.0</td><td>10987.0</td><td>11152.0</td></tr><tr><td>% Book Taxes</td><td>-0.12</td><td>0.07</td><td>0.28</td></tr><tr><td>Other Operating Activities</td><td>1734.0</td><td>1981.0</td><td>1521.0</td></tr><tr><td>Change in Working Capital</td><td>295.0</td><td>-327.0</td><td>7972.0</td></tr><tr><td>Capital Expenditures</td><td>-10344.0</td><td>-10705.0</td><td>-10264.0</td></tr><tr><td>Taxes, Excluding Effect of Interest</td><td>-6963.21</td><td>-6522.72</td><td>-7150.64</td></tr><tr><td>EBITDA</td><td>32635.0</td><td>31555.0</td><td>33700.0</td></tr><tr><td>Net Operating Profit After Tax (NOPAT)</td><td>14993.79</td><td>14045.28</td><td>15397.36</td></tr><tr><td>Deferred Taxes</td><td>-811.64</td><td>424.67</td><td>1992.54</td></tr><tr><td>Annual Unlevered Free Cash Flow</td><td>16545.14</td><td>16405.95</td><td>27770.91</td></tr><tr><td>Sales per Square Foot</td><td>452.02</td><td>460.52</td><td>495.3</td></tr><tr><td>COGS and OpEx per Square Foot</td><td>432.57</td><td>442.3</td><td>475.19</td></tr><tr><td>Maintenance CapEx per Square Foot</td><td>8.93</td><td>9.48</td><td>9.09</td></tr><tr><td>D&amp;A per Square Foot</td><td>9.46</td><td>9.73</td><td>9.95</td></tr><tr><td>Growth CapEx per New Square Foot</td><td>0.0</td><td>0.0</td><td>0.0</td></tr><tr><td>Retail Square Feet Growth Rate</td><td>None</td><td>0.0</td><td>-0.71</td></tr><tr><td>Sales per Square Foot Growth Rate</td><td>None</td><td>1.88</td><td>7.55</td></tr><tr><td>COGS and OpEx per Square Foot Growth Rate</td><td>None</td><td>2.25</td><td>7.44</td></tr><tr><td>Maintenance CapEx per Square Foot Growth Rate</td><td>None</td><td>6.15</td><td>-4.12</td></tr><tr><td>Growth CapEx per New Square Foot Growth Rate</td><td>None</td><td>inf</td><td>inf</td></tr><tr><td>Membership &amp; Other Income Growth Rate</td><td>None</td><td>-0.93</td><td>-2.97</td></tr><tr><td>Annual Unlevered Free Cash Flow Growth Rate</td><td>None</td><td>-0.84</td><td>69.27</td></tr><tr><td>EBITDA Growth Rate</td><td>None</td><td>-3.31</td><td>6.8</td></tr></tbody></table></div>"
      ],
      "text/plain": [
       "<excelify._excelframe.ExcelFrame at 0x108572f90>"
      ]
     },
     "execution_count": 11,
     "metadata": {},
     "output_type": "execute_result"
    }
   ],
   "source": [
    "historical_ufcf_df = el.ExcelFrame(\n",
    "    {\n",
    "        \"Year\": years,\n",
    "        \"Retail Square Feet\": [1_129, 1_129, 1_121],\n",
    "        \"Net Sales\": [510_329.0, 519_926.0, 555_233.0],\n",
    "        \"Membership & Other Income\": [4076.0, 4038.0, 3918.0],\n",
    "        \"Operating Income (EBIT)\": [21_957.0, 20_568.0, 22_548.0],\n",
    "        \"Depreciation & Amortization\": [10_678.0, 10_987.0, 11_152.0],\n",
    "        \"% Book Taxes\": [-499 / 4281, 320 / 4915, 1911 / 6858],\n",
    "        \"Other Operating Activities\": [1_734, 1_981, 1_521],\n",
    "        \"Change in Working Capital\": [295, -327, 7972],\n",
    "        \"Capital Expenditures\": [-10_344, -10_705, -10_264],\n",
    "    }\n",
    ")\n",
    "\n",
    "historical_ufcf_df = historical_ufcf_df.with_columns(\n",
    "    (\n",
    "        -el.col(\"Operating Income (EBIT)\")\n",
    "        * el.SingleCellExpr(assumptions_df[\"Effective Tax Rate\"][0])\n",
    "    ).alias(\"Taxes, Excluding Effect of Interest\"),\n",
    "    (\n",
    "        ebitda(el.col(\"Operating Income (EBIT)\"), el.col(\"Depreciation & Amortization\"))\n",
    "    ).alias(\"EBITDA\"),\n",
    ")\n",
    "\n",
    "historical_ufcf_df = historical_ufcf_df.with_columns(\n",
    "    nopat(\n",
    "        el.col(\"Operating Income (EBIT)\"),\n",
    "        el.col(\"Taxes, Excluding Effect of Interest\"),\n",
    "    ).alias(\"Net Operating Profit After Tax (NOPAT)\"),\n",
    "    deferred_taxes(\n",
    "        el.col(\"Taxes, Excluding Effect of Interest\"),\n",
    "        el.col(\"% Book Taxes\"),\n",
    "    ).alias(\"Deferred Taxes\"),\n",
    ")\n",
    "\n",
    "historical_ufcf_df = historical_ufcf_df.with_columns(\n",
    "    unlevered_free_cash_flow(\n",
    "        el.col(\"Net Operating Profit After Tax (NOPAT)\"),\n",
    "        el.col(\"Depreciation & Amortization\"),\n",
    "        el.col(\"Deferred Taxes\"),\n",
    "        el.col(\"Other Operating Activities\"),\n",
    "        el.col(\"Change in Working Capital\"),\n",
    "        el.col(\"Capital Expenditures\"),\n",
    "    ).alias(\"Annual Unlevered Free Cash Flow\"),\n",
    ")\n",
    "\n",
    "columns_with_growth_rate = [\n",
    "    \"Retail Square Feet\",\n",
    "    \"Sales per Square Foot\",\n",
    "    \"COGS and OpEx per Square Foot\",\n",
    "    \"Maintenance CapEx per Square Foot\",\n",
    "    \"Growth CapEx per New Square Foot\",\n",
    "    \"Membership & Other Income\",\n",
    "    \"Annual Unlevered Free Cash Flow\",\n",
    "    \"EBITDA\",\n",
    "]\n",
    "\n",
    "historical_ufcf_df = historical_ufcf_df.with_columns(\n",
    "    (el.col(\"Net Sales\") / el.col(\"Retail Square Feet\")).alias(\"Sales per Square Foot\"),\n",
    "    (\n",
    "        (el.col(\"Net Sales\") - el.col(\"Operating Income (EBIT)\"))\n",
    "        / el.col(\"Retail Square Feet\")\n",
    "    ).alias(\"COGS and OpEx per Square Foot\"),\n",
    "    (-el.col(\"Capital Expenditures\") / el.col(\"Retail Square Feet\").prev(1)).alias(\n",
    "        \"Maintenance CapEx per Square Foot\"\n",
    "    ),\n",
    "    (el.col(\"Depreciation & Amortization\") / el.col(\"Retail Square Feet\")).alias(\n",
    "        \"D&A per Square Foot\"\n",
    "    ),\n",
    "    (el.ConstantExpr(0.0)).alias(\"Growth CapEx per New Square Foot\"),\n",
    ")\n",
    "\n",
    "# TODO: Think about doing this a bit nicer.\n",
    "historical_ufcf_df[\"Maintenance CapEx per Square Foot\"][0] = -historical_ufcf_df[\n",
    "    \"Capital Expenditures\"\n",
    "][0] / el.Constant(1158)\n",
    "\n",
    "# TODO: Find a way to show these in a percentage sigfig.\n",
    "historical_ufcf_df = historical_ufcf_df.with_columns(\n",
    "    *[\n",
    "        growth_rate(el.col(c)).alias(f\"{c} Growth Rate\")\n",
    "        for c in columns_with_growth_rate\n",
    "    ]\n",
    ")\n",
    "\n",
    "historical_ufcf_df.evaluate().transpose(\n",
    "    include_header=True,\n",
    "    header_name=\"Name\",\n",
    "    column_names=years,\n",
    ")"
   ]
  },
  {
   "cell_type": "markdown",
   "metadata": {},
   "source": [
    "# TODO"
   ]
  },
  {
   "cell_type": "markdown",
   "metadata": {},
   "source": [
    "1. Displaying the formula-based ExcelFrame is horribly broken - it assumes that the columns the cells refer to always exist in the table, and it's broken with transpose, too. Fix this.\n",
    "2. ~~df.select()~~\n",
    "3. df.transpose() is still a bit ugly - Is there a way to pass column names based on one of my existing columns more easily?\n",
    "4. `with_columns()` doesn't do any coping on self yet it's a modifying API - think about this.\n",
    "   1. Ideally, you'd want some sort of a shallow copy."
   ]
  },
  {
   "cell_type": "markdown",
   "metadata": {},
   "source": []
  }
 ],
 "metadata": {
  "kernelspec": {
   "display_name": "Python 3 (ipykernel)",
   "language": "python",
   "name": "python3"
  },
  "language_info": {
   "codemirror_mode": {
    "name": "ipython",
    "version": 3
   },
   "file_extension": ".py",
   "mimetype": "text/x-python",
   "name": "python",
   "nbconvert_exporter": "python",
   "pygments_lexer": "ipython3",
   "version": "3.11.11"
  }
 },
 "nbformat": 4,
 "nbformat_minor": 4
}
