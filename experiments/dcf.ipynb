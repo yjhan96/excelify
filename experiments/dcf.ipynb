{
 "cells": [
  {
   "cell_type": "markdown",
   "metadata": {},
   "source": [
    "# DCF Modeling"
   ]
  },
  {
   "cell_type": "code",
   "execution_count": 1,
   "metadata": {
    "execution": {
     "iopub.execute_input": "2025-05-13T02:27:35.647719Z",
     "iopub.status.busy": "2025-05-13T02:27:35.647282Z",
     "iopub.status.idle": "2025-05-13T02:27:35.791896Z",
     "shell.execute_reply": "2025-05-13T02:27:35.791542Z",
     "shell.execute_reply.started": "2025-05-13T02:27:35.647683Z"
    }
   },
   "outputs": [],
   "source": [
    "import excelify as el"
   ]
  },
  {
   "cell_type": "markdown",
   "metadata": {},
   "source": [
    "# Step 0: Assumptions"
   ]
  },
  {
   "cell_type": "code",
   "execution_count": 2,
   "metadata": {
    "execution": {
     "iopub.execute_input": "2025-05-13T02:27:35.792483Z",
     "iopub.status.busy": "2025-05-13T02:27:35.792374Z",
     "iopub.status.idle": "2025-05-13T02:27:35.796618Z",
     "shell.execute_reply": "2025-05-13T02:27:35.796444Z",
     "shell.execute_reply.started": "2025-05-13T02:27:35.792475Z"
    }
   },
   "outputs": [
    {
     "data": {
      "text/html": [
       "<div><style>\n",
       ".dataframe > thead > tr,\n",
       ".dataframe > tbody > tr {\n",
       "  text-align: right;\n",
       "  white-space: pre-wrap;\n",
       "}\n",
       "</style>\n",
       "<small>shape; (5, 2)</small><table border=\"1\" class=\"dataframe\"><thead><tr><th>Name</th><th>Constants</th></tr></thead><tbody><tr><td>Company Name</td><td bgcolor=\"blue\">Walmart Inc.</td></tr><tr><td>Ticker</td><td>WMT</td></tr><tr><td>Current Share Price</td><td bgcolor=\"#000\">139.43</td></tr><tr><td>Effective Tax Rate</td><td>0.32</td></tr><tr><td>Last Fiscal Year</td><td>2021-01-31</td></tr></tbody></table></div>"
      ],
      "text/plain": [
       "<excelify._excelframe.ExcelFrame at 0x7df7356dffd0>"
      ]
     },
     "execution_count": 2,
     "metadata": {},
     "output_type": "execute_result"
    }
   ],
   "source": [
    "previous_tax_rates = [6858 / 20564, 4915 / 20116, 4281 / 11460]\n",
    "assumptions_df = el.ExcelFrame(\n",
    "    {\n",
    "        \"Company Name\": [\"Walmart Inc.\"],\n",
    "        \"Ticker\": [\"WMT\"],\n",
    "        \"Current Share Price\": [139.43],\n",
    "        \"Effective Tax Rate\": [sum(previous_tax_rates) / len(previous_tax_rates)],\n",
    "        \"Last Fiscal Year\": [\"2021-01-31\"],\n",
    "    },\n",
    ")\n",
    "\n",
    "# TODO: Make this more ergonomic.\n",
    "assumptions_df[\"Company Name\"].set_attributes({\"bgcolor\": \"blue\"})\n",
    "assumptions_df[\"Current Share Price\"].set_attributes({\"bgcolor\": \"#000\"})\n",
    "assumptions_df.transpose(\n",
    "    include_header=True, header_name=\"Name\", column_names=[\"Constants\"]\n",
    ")"
   ]
  },
  {
   "cell_type": "markdown",
   "metadata": {},
   "source": [
    "## Step 1: Unlevered Free Cash Flow"
   ]
  },
  {
   "cell_type": "code",
   "execution_count": 3,
   "metadata": {
    "execution": {
     "iopub.execute_input": "2025-05-13T02:27:35.796904Z",
     "iopub.status.busy": "2025-05-13T02:27:35.796834Z",
     "iopub.status.idle": "2025-05-13T02:27:35.803179Z",
     "shell.execute_reply": "2025-05-13T02:27:35.803013Z",
     "shell.execute_reply.started": "2025-05-13T02:27:35.796898Z"
    }
   },
   "outputs": [],
   "source": [
    "years = [\"2019\", \"2020\", \"2021\"]"
   ]
  },
  {
   "cell_type": "code",
   "execution_count": 4,
   "metadata": {
    "execution": {
     "iopub.execute_input": "2025-05-13T02:27:35.803670Z",
     "iopub.status.busy": "2025-05-13T02:27:35.803593Z",
     "iopub.status.idle": "2025-05-13T02:27:35.809288Z",
     "shell.execute_reply": "2025-05-13T02:27:35.809087Z",
     "shell.execute_reply.started": "2025-05-13T02:27:35.803663Z"
    }
   },
   "outputs": [],
   "source": [
    "def nopat(operating_income, taxes):\n",
    "    return operating_income + taxes\n",
    "\n",
    "\n",
    "def deferred_taxes(taxes, percent_book_taxes):\n",
    "    return -taxes * percent_book_taxes\n",
    "\n",
    "\n",
    "def unlevered_free_cash_flow(\n",
    "    nopat, d_and_a, deferred_taxes, other_operating, change_in_working_capial, capex\n",
    "):\n",
    "    return (\n",
    "        nopat\n",
    "        + d_and_a\n",
    "        + deferred_taxes\n",
    "        + other_operating\n",
    "        + change_in_working_capial\n",
    "        + capex\n",
    "    )\n",
    "\n",
    "def ebitda(ebit, da):\n",
    "    return ebit + da\n",
    "\n",
    "def growth_rate(col: el.Col):\n",
    "    return ((col / col.prev(1)) - 1)"
   ]
  },
  {
   "cell_type": "code",
   "execution_count": 5,
   "metadata": {
    "execution": {
     "iopub.execute_input": "2025-05-13T02:27:35.809591Z",
     "iopub.status.busy": "2025-05-13T02:27:35.809522Z",
     "iopub.status.idle": "2025-05-13T02:27:35.818230Z",
     "shell.execute_reply": "2025-05-13T02:27:35.817947Z",
     "shell.execute_reply.started": "2025-05-13T02:27:35.809583Z"
    }
   },
   "outputs": [
    {
     "data": {
      "text/plain": [
       "['years',\n",
       " 'Retail Square Feet',\n",
       " 'Retail Square Feet Growth Rate',\n",
       " 'Sales per Square Foot',\n",
       " 'Sales per Square Foot Growth Rate',\n",
       " 'COGS and OpEx per Square Foot',\n",
       " 'COGS and OpEx per Square Foot Growth Rate',\n",
       " 'Maintenance CapEx per Square Foot',\n",
       " 'Maintenance CapEx per Square Foot Growth Rate',\n",
       " 'D&A per Square Foot',\n",
       " 'D&A per Square Foot Growth Rate',\n",
       " 'Growth CapEx per New Square Foot',\n",
       " 'Growth CapEx per New Square Foot Growth Rate',\n",
       " 'Membership & Other Income Growth Rate',\n",
       " 'Net Sales',\n",
       " 'Membership & Other Income',\n",
       " 'Total Revenue',\n",
       " 'Revenue Growth',\n",
       " 'Operating Income (EBIT)',\n",
       " 'Operating (EBIT) Margin',\n",
       " 'Taxes, Excluding Effect of Interest',\n",
       " 'Net Operating Profit After Tax (NOPAT)',\n",
       " 'Adjustments for Non-Cash Charges',\n",
       " 'Depreciation & Amortization',\n",
       " 'Depreciation & Amortization (% Revenue)',\n",
       " 'Deferred Taxes',\n",
       " 'Deferred Taxes (% Book Taxes)',\n",
       " 'Other Operating Activities',\n",
       " 'Other Operating Activities (% Revenue)',\n",
       " 'Change in Working Capital',\n",
       " 'Change in Working Capital (% Change in Revenue)',\n",
       " 'Capital Expenditures',\n",
       " 'Capital Expenditures (% Revenue)',\n",
       " 'Annual Unlevered Free Cash Flow',\n",
       " 'Annual Unlevered Free Cash Flow Growth Rate',\n",
       " 'Period',\n",
       " 'PV of Unlevered FCF',\n",
       " 'EBITDA',\n",
       " 'EBITDA Growth Rate']"
      ]
     },
     "execution_count": 5,
     "metadata": {},
     "output_type": "execute_result"
    }
   ],
   "source": [
    "sqft_columns = [\n",
    "    \"Retail Square Feet\",\n",
    "    \"Sales per Square Foot\",\n",
    "    \"COGS and OpEx per Square Foot\",\n",
    "    \"Maintenance CapEx per Square Foot\",\n",
    "    \"D&A per Square Foot\",\n",
    "    \"Growth CapEx per New Square Foot\",\n",
    "]\n",
    "\n",
    "sqft_with_growth_rate_columns = [\n",
    "    [col, f\"{col} Growth Rate\"]\n",
    "    for col in sqft_columns\n",
    "]\n",
    "sqft_with_growth_rate_columns = [\n",
    "    col\n",
    "    for cols in sqft_with_growth_rate_columns\n",
    "    for col in cols\n",
    "] + [\"Membership & Other Income Growth Rate\"]\n",
    "\n",
    "revenue_columns = [\n",
    "    \"Net Sales\",\n",
    "    \"Membership & Other Income\",\n",
    "    \"Total Revenue\",\n",
    "    \"Revenue Growth\",\n",
    "]\n",
    "cash_flow_columns = [\n",
    "    \"Operating Income (EBIT)\",\n",
    "    \"Operating (EBIT) Margin\",\n",
    "    \"Taxes, Excluding Effect of Interest\",\n",
    "    \"Net Operating Profit After Tax (NOPAT)\",\n",
    "    \"Adjustments for Non-Cash Charges\",\n",
    "    \"Depreciation & Amortization\",\n",
    "    \"Depreciation & Amortization (% Revenue)\",\n",
    "    \"Deferred Taxes\",\n",
    "    \"Deferred Taxes (% Book Taxes)\",\n",
    "    \"Other Operating Activities\",\n",
    "    \"Other Operating Activities (% Revenue)\",\n",
    "    \"Change in Working Capital\",\n",
    "    \"Change in Working Capital (% Change in Revenue)\",\n",
    "    \"Capital Expenditures\",\n",
    "    \"Capital Expenditures (% Revenue)\",\n",
    "    \"Annual Unlevered Free Cash Flow\",\n",
    "    \"Annual Unlevered Free Cash Flow Growth Rate\",\n",
    "    \"Period\",\n",
    "    \"PV of Unlevered FCF\",\n",
    "    \"EBITDA\",\n",
    "    \"EBITDA Growth Rate\",\n",
    "]\n",
    "columns = [\"years\"] + sqft_with_growth_rate_columns + revenue_columns + cash_flow_columns\n",
    "columns"
   ]
  },
  {
   "cell_type": "code",
   "execution_count": 6,
   "metadata": {
    "execution": {
     "iopub.execute_input": "2025-05-13T02:27:35.818649Z",
     "iopub.status.busy": "2025-05-13T02:27:35.818546Z",
     "iopub.status.idle": "2025-05-13T02:27:35.824579Z",
     "shell.execute_reply": "2025-05-13T02:27:35.824185Z",
     "shell.execute_reply.started": "2025-05-13T02:27:35.818639Z"
    }
   },
   "outputs": [],
   "source": [
    "historical_ufcf_df = el.ExcelFrame.empty(columns=columns, height=3)\n",
    "ca = el.ColumnAutocompleter(columns)"
   ]
  },
  {
   "cell_type": "code",
   "execution_count": 7,
   "metadata": {
    "execution": {
     "iopub.execute_input": "2025-05-13T02:27:35.825238Z",
     "iopub.status.busy": "2025-05-13T02:27:35.825084Z",
     "iopub.status.idle": "2025-05-13T02:27:35.833029Z",
     "shell.execute_reply": "2025-05-13T02:27:35.832497Z",
     "shell.execute_reply.started": "2025-05-13T02:27:35.825223Z"
    }
   },
   "outputs": [],
   "source": [
    "def growth_rate(col: str, *, col_name = None, prev_df = None):\n",
    "    if col_name is None:\n",
    "        col_name = f\"{col} Growth Rate\"\n",
    "\n",
    "    def fn(idx):\n",
    "        if idx == 0 and prev_df is not None:\n",
    "            return (el.col(col) / el.SingleCellExpr(prev_df[col][-1]) - 1)\n",
    "        else:\n",
    "            return (el.col(col) / el.col(col).prev(1) - 1).alias(col_name)\n",
    "    return el.Map(fn).alias(col_name)\n",
    "\n",
    "def maintenance_capex_per_sqft_formula(idx):\n",
    "    if idx == 0:\n",
    "        return -el.col(ca.Capital_Expenditures) / 1158\n",
    "    else:\n",
    "        return -el.col(ca.Capital_Expenditures) / el.col(ca.Retail_Square_Feet).prev(1)\n",
    "\n",
    "def percent_revenue(col: str):\n",
    "    return (el.col(col) / el.col(ca.Total_Revenue)).alias(f\"{col} (% Revenue)\")"
   ]
  },
  {
   "cell_type": "code",
   "execution_count": 8,
   "metadata": {
    "execution": {
     "iopub.execute_input": "2025-05-13T02:27:35.833979Z",
     "iopub.status.busy": "2025-05-13T02:27:35.833772Z",
     "iopub.status.idle": "2025-05-13T02:27:35.859529Z",
     "shell.execute_reply": "2025-05-13T02:27:35.859224Z",
     "shell.execute_reply.started": "2025-05-13T02:27:35.833959Z"
    }
   },
   "outputs": [
    {
     "data": {
      "text/html": [
       "<div><style>\n",
       ".dataframe > thead > tr,\n",
       ".dataframe > tbody > tr {\n",
       "  text-align: right;\n",
       "  white-space: pre-wrap;\n",
       "}\n",
       "</style>\n",
       "<small>shape; (39, 4)</small><table border=\"1\" class=\"dataframe\"><thead><tr><th>Name</th><th>2019</th><th>2020</th><th>2021</th></tr></thead><tbody><tr><td>years</td><td>2019.0</td><td>2020.0</td><td>2021.0</td></tr><tr><td>Retail Square Feet</td><td>1129.0</td><td>1129.0</td><td>1121.0</td></tr><tr><td>Retail Square Feet Growth Rate</td><td>None</td><td>0.0</td><td>-0.01</td></tr><tr><td>Sales per Square Foot</td><td>452.02</td><td>460.52</td><td>495.3</td></tr><tr><td>Sales per Square Foot Growth Rate</td><td>None</td><td>0.02</td><td>0.08</td></tr><tr><td>COGS and OpEx per Square Foot</td><td>432.57</td><td>442.3</td><td>475.19</td></tr><tr><td>COGS and OpEx per Square Foot Growth Rate</td><td>None</td><td>0.02</td><td>0.07</td></tr><tr><td>Maintenance CapEx per Square Foot</td><td>8.93</td><td>9.48</td><td>9.09</td></tr><tr><td>Maintenance CapEx per Square Foot Growth Rate</td><td>None</td><td>0.06</td><td>-0.04</td></tr><tr><td>D&amp;A per Square Foot</td><td>9.46</td><td>9.73</td><td>9.95</td></tr><tr><td>D&amp;A per Square Foot Growth Rate</td><td>None</td><td>0.03</td><td>0.02</td></tr><tr><td>Growth CapEx per New Square Foot</td><td>0.0</td><td>0.0</td><td>0.0</td></tr><tr><td>Growth CapEx per New Square Foot Growth Rate</td><td>0.0</td><td>0.0</td><td>0.0</td></tr><tr><td>Membership &amp; Other Income Growth Rate</td><td>None</td><td>-0.01</td><td>-0.03</td></tr><tr><td>Net Sales</td><td>510329.0</td><td>519926.0</td><td>555233.0</td></tr><tr><td>Membership &amp; Other Income</td><td>4076.0</td><td>4038.0</td><td>3918.0</td></tr><tr><td>Total Revenue</td><td>514405.0</td><td>523964.0</td><td>559151.0</td></tr><tr><td>Revenue Growth</td><td>None</td><td>0.02</td><td>0.07</td></tr><tr><td>Operating Income (EBIT)</td><td>21957.0</td><td>20568.0</td><td>22548.0</td></tr><tr><td>Operating (EBIT) Margin</td><td>0.04</td><td>0.04</td><td>0.04</td></tr><tr><td>Taxes, Excluding Effect of Interest</td><td>-6963.21</td><td>-6522.72</td><td>-7150.64</td></tr><tr><td>Net Operating Profit After Tax (NOPAT)</td><td>14993.79</td><td>14045.28</td><td>15397.36</td></tr><tr><td>Adjustments for Non-Cash Charges</td><td>0.0</td><td>0.0</td><td>0.0</td></tr><tr><td>Depreciation &amp; Amortization</td><td>10678.0</td><td>10987.0</td><td>11152.0</td></tr><tr><td>Depreciation &amp; Amortization (% Revenue)</td><td>0.02</td><td>0.02</td><td>0.02</td></tr><tr><td>Deferred Taxes</td><td>-811.64</td><td>424.67</td><td>1992.54</td></tr><tr><td>Deferred Taxes (% Book Taxes)</td><td>-0.12</td><td>0.07</td><td>0.28</td></tr><tr><td>Other Operating Activities</td><td>1734.0</td><td>1981.0</td><td>1521.0</td></tr><tr><td>Other Operating Activities (% Revenue)</td><td>0.0</td><td>0.0</td><td>0.0</td></tr><tr><td>Change in Working Capital</td><td>295.0</td><td>-327.0</td><td>7972.0</td></tr><tr><td>Change in Working Capital (% Change in Revenue)</td><td>None</td><td>-0.03</td><td>0.23</td></tr><tr><td>Capital Expenditures</td><td>-10344.0</td><td>-10705.0</td><td>-10264.0</td></tr><tr><td>Capital Expenditures (% Revenue)</td><td>-0.02</td><td>-0.02</td><td>-0.02</td></tr><tr><td>Annual Unlevered Free Cash Flow</td><td>16545.14</td><td>16405.95</td><td>27770.91</td></tr><tr><td>Annual Unlevered Free Cash Flow Growth Rate</td><td>None</td><td>-0.01</td><td>0.69</td></tr><tr><td>Period</td><td>0.0</td><td>0.0</td><td>0.0</td></tr><tr><td>PV of Unlevered FCF</td><td>0.0</td><td>0.0</td><td>0.0</td></tr><tr><td>EBITDA</td><td>32635.0</td><td>31555.0</td><td>33700.0</td></tr><tr><td>EBITDA Growth Rate</td><td>None</td><td>-0.03</td><td>0.07</td></tr></tbody></table></div>"
      ],
      "text/plain": [
       "<excelify._excelframe.ExcelFrame at 0x7df73556d810>"
      ]
     },
     "execution_count": 8,
     "metadata": {},
     "output_type": "execute_result"
    }
   ],
   "source": [
    "historical_ufcf_df = historical_ufcf_df.with_columns(\n",
    "    el.lit(years).alias(\"years\"),\n",
    "    el.lit([1_129, 1_129, 1_121]).alias(\"Retail Square Feet\"),\n",
    "    el.lit([510_329.0, 519_926.0, 555_233.0]).alias(\"Net Sales\"),\n",
    "    el.lit([4076.0, 4038.0, 3918.0]).alias(\"Membership & Other Income\"),\n",
    "    el.lit([21_957.0, 20_568.0, 22_548.0]).alias(\"Operating Income (EBIT)\"),\n",
    "    el.lit([10_678.0, 10_987.0, 11_152.0]).alias(\"Depreciation & Amortization\"),\n",
    "    el.lit([-499 / 4281, 320 / 4915, 1911 / 6858]).alias(\"% Book Taxes\"),\n",
    "    el.lit([1_734, 1_981, 1_521]).alias(\"Other Operating Activities\"),\n",
    "    el.lit([295, -327, 7972]).alias(\"Change in Working Capital\"),\n",
    "    el.lit([-10_344, -10_705, -10_264]).alias(\"Capital Expenditures\"),\n",
    "    el.lit([-499 / 4281, 320 / 4915, 1911 / 6858]).alias(\n",
    "        \"Deferred Taxes (% Book Taxes)\"\n",
    "    ),\n",
    ")\n",
    "\n",
    "historical_ufcf_df = historical_ufcf_df.with_columns(\n",
    "    growth_rate(ca.Retail_Square_Feet),\n",
    "    (el.col(ca.Net_Sales) / el.col(ca.Retail_Square_Feet)).alias(\n",
    "        ca.Sales_per_Square_Foot\n",
    "    ),\n",
    "    growth_rate(ca.Sales_per_Square_Foot),\n",
    "    (el.col(ca.Net_Sales) - el.col(ca.Operating_Income__EBIT_)),\n",
    "    (\n",
    "        (el.col(ca.Net_Sales) - el.col(ca.Operating_Income__EBIT_))\n",
    "        / el.col(ca.Retail_Square_Feet)\n",
    "    ).alias(ca.COGS_and_OpEx_per_Square_Foot),\n",
    "    growth_rate(ca.COGS_and_OpEx_per_Square_Foot),\n",
    "    el.Map(maintenance_capex_per_sqft_formula).alias(\n",
    "        ca.Maintenance_CapEx_per_Square_Foot\n",
    "    ),\n",
    "    growth_rate(ca.Maintenance_CapEx_per_Square_Foot),\n",
    "    (el.col(ca.Depreciation_and_Amortization) / el.col(ca.Retail_Square_Feet)).alias(\n",
    "        ca.DandA_per_Square_Foot\n",
    "    ),\n",
    "    growth_rate(ca.DandA_per_Square_Foot),\n",
    "    growth_rate(ca.Membership_and_Other_Income),\n",
    "    (el.col(ca.Net_Sales) + el.col(ca.Membership_and_Other_Income)).alias(\n",
    "        ca.Total_Revenue\n",
    "    ),\n",
    "    growth_rate(ca.Total_Revenue, col_name=\"Revenue Growth\"),\n",
    "    (el.col(ca.Operating_Income__EBIT_) / el.col(ca.Total_Revenue)).alias(\n",
    "        ca.Operating__EBIT__Margin\n",
    "    ),\n",
    "    (\n",
    "        -el.col(ca.Operating_Income__EBIT_)\n",
    "        # TODO: Slightly ugly.\n",
    "        * el.SingleCellExpr(assumptions_df[\"Effective Tax Rate\"][0])\n",
    "    ).alias(ca.Taxes__Excluding_Effect_of_Interest),\n",
    "    (\n",
    "        el.col(ca.Operating_Income__EBIT_)\n",
    "        + el.col(ca.Taxes__Excluding_Effect_of_Interest)\n",
    "    ).alias(ca.Net_Operating_Profit_After_Tax__NOPAT_),\n",
    "    percent_revenue(ca.Depreciation_and_Amortization),\n",
    "    (\n",
    "        -el.col(ca.Deferred_Taxes__percent_Book_Taxes_)\n",
    "        * el.col(ca.Taxes__Excluding_Effect_of_Interest)\n",
    "    ).alias(ca.Deferred_Taxes),\n",
    "    percent_revenue(ca.Other_Operating_Activities),\n",
    "    (\n",
    "        el.col(ca.Change_in_Working_Capital)\n",
    "        / (el.col(ca.Total_Revenue) - el.col(ca.Total_Revenue).prev(1))\n",
    "    ).alias(ca.Change_in_Working_Capital__percent_Change_in_Revenue_),\n",
    "    percent_revenue(ca.Capital_Expenditures),\n",
    "    (\n",
    "        el.col(ca.Net_Operating_Profit_After_Tax__NOPAT_)\n",
    "        + el.col(ca.Depreciation_and_Amortization)\n",
    "        + el.col(ca.Deferred_Taxes)\n",
    "        + el.col(ca.Other_Operating_Activities)\n",
    "        + el.col(ca.Change_in_Working_Capital)\n",
    "        + el.col(ca.Capital_Expenditures)\n",
    "    ).alias(ca.Annual_Unlevered_Free_Cash_Flow),\n",
    "    growth_rate(ca.Annual_Unlevered_Free_Cash_Flow),\n",
    "    (\n",
    "        el.col(ca.Operating_Income__EBIT_) + el.col(ca.Depreciation_and_Amortization)\n",
    "    ).alias(ca.EBITDA),\n",
    "    growth_rate(ca.EBITDA),\n",
    ").select(columns)\n",
    "\n",
    "historical_ufcf_df.evaluate().transpose(\n",
    "    include_header=True,\n",
    "    header_name=\"Name\",\n",
    "    column_names=years,\n",
    ")"
   ]
  },
  {
   "cell_type": "code",
   "execution_count": 9,
   "metadata": {
    "execution": {
     "iopub.execute_input": "2025-05-13T02:27:35.860118Z",
     "iopub.status.busy": "2025-05-13T02:27:35.859900Z",
     "iopub.status.idle": "2025-05-13T02:27:35.866171Z",
     "shell.execute_reply": "2025-05-13T02:27:35.865988Z",
     "shell.execute_reply.started": "2025-05-13T02:27:35.860108Z"
    }
   },
   "outputs": [],
   "source": [
    "def projected_value(col, growth_rate_col):\n",
    "    def fn(idx):\n",
    "        if idx == 0:\n",
    "            return el.SingleCellExpr(historical_ufcf_df[col][-1]) * (\n",
    "                1 + el.col(growth_rate_col)\n",
    "            )\n",
    "        else:\n",
    "            return el.col(col).prev(1) * (1 + el.col(growth_rate_col))\n",
    "\n",
    "    return el.Map(fn).alias(col)\n",
    "\n",
    "\n",
    "def growth_capex_per_new_sqft_formula(idx):\n",
    "    if idx == 0:\n",
    "        return el.ConstantExpr(150.0)\n",
    "    else:\n",
    "        return el.col(ca.Growth_CapEx_per_New_Square_Foot).prev(1) * (\n",
    "            1 + el.col(ca.Growth_CapEx_per_New_Square_Foot_Growth_Rate)\n",
    "        )\n",
    "\n",
    "\n",
    "def change_in_working_capital_formula(idx):\n",
    "    if idx == 0:\n",
    "        return el.col(ca.Change_in_Working_Capital__percent_Change_in_Revenue_) * (\n",
    "            el.col(ca.Total_Revenue)\n",
    "            - el.SingleCellExpr(historical_ufcf_df[ca.Total_Revenue][-1])\n",
    "        )\n",
    "    else:\n",
    "        return el.col(ca.Change_in_Working_Capital__percent_Change_in_Revenue_) * (\n",
    "            el.col(ca.Total_Revenue) - el.col(ca.Total_Revenue).prev(1)\n",
    "        )\n",
    "\n",
    "\n",
    "def capital_expenditures_formula(idx):\n",
    "    prev_retail_square_feet = (\n",
    "        el.col(ca.Retail_Square_Feet).prev(1)\n",
    "        if idx > 0\n",
    "        else el.SingleCellExpr(historical_ufcf_df[ca.Retail_Square_Feet][-1])\n",
    "    )\n",
    "    return -el.col(\n",
    "        ca.Maintenance_CapEx_per_Square_Foot\n",
    "    ) * prev_retail_square_feet - el.col(ca.Growth_CapEx_per_New_Square_Foot) * (\n",
    "        el.col(ca.Retail_Square_Feet) - prev_retail_square_feet\n",
    "    )"
   ]
  },
  {
   "cell_type": "code",
   "execution_count": 11,
   "metadata": {
    "execution": {
     "iopub.execute_input": "2025-05-13T02:28:15.344298Z",
     "iopub.status.busy": "2025-05-13T02:28:15.344152Z",
     "iopub.status.idle": "2025-05-13T02:28:15.357954Z",
     "shell.execute_reply": "2025-05-13T02:28:15.357638Z",
     "shell.execute_reply.started": "2025-05-13T02:28:15.344289Z"
    }
   },
   "outputs": [
    {
     "data": {
      "text/html": [
       "<div><style>\n",
       ".dataframe > thead > tr,\n",
       ".dataframe > tbody > tr {\n",
       "  text-align: right;\n",
       "  white-space: pre-wrap;\n",
       "}\n",
       "</style>\n",
       "<small>shape; (39, 11)</small><table border=\"1\" class=\"dataframe\"><thead><tr><th>Name</th><th>2022</th><th>2023</th><th>2024</th><th>2025</th><th>2026</th><th>2027</th><th>2028</th><th>2029</th><th>2030</th><th>2031</th></tr></thead><tbody><tr><td>years</td><td>2022.0</td><td>2023.0</td><td>2024.0</td><td>2025.0</td><td>2026.0</td><td>2027.0</td><td>2028.0</td><td>2029.0</td><td>2030.0</td><td>2031.0</td></tr><tr><td>Retail Square Feet</td><td>1143.42</td><td>1166.29</td><td>1183.78</td><td>1201.54</td><td>1213.55</td><td>1225.69</td><td>1231.82</td><td>1237.98</td><td>1244.17</td><td>1250.39</td></tr><tr><td>Retail Square Feet Growth Rate</td><td>0.02</td><td>0.02</td><td>0.01</td><td>0.01</td><td>0.01</td><td>0.01</td><td>0.01</td><td>0.01</td><td>0.01</td><td>0.01</td></tr><tr><td>Sales per Square Foot</td><td>510.16</td><td>525.47</td><td>538.6</td><td>552.07</td><td>563.11</td><td>574.37</td><td>582.99</td><td>591.73</td><td>597.65</td><td>603.62</td></tr><tr><td>Sales per Square Foot Growth Rate</td><td>0.03</td><td>0.03</td><td>0.03</td><td>0.03</td><td>0.02</td><td>0.02</td><td>0.01</td><td>0.01</td><td>0.01</td><td>0.01</td></tr><tr><td>COGS and OpEx per Square Foot</td><td>489.44</td><td>504.13</td><td>516.73</td><td>529.65</td><td>540.24</td><td>551.05</td><td>559.31</td><td>567.7</td><td>573.38</td><td>579.11</td></tr><tr><td>COGS and OpEx per Square Foot Growth Rate</td><td>0.03</td><td>0.03</td><td>0.03</td><td>0.03</td><td>0.02</td><td>0.02</td><td>0.01</td><td>0.01</td><td>0.01</td><td>0.01</td></tr><tr><td>Maintenance CapEx per Square Foot</td><td>9.36</td><td>9.64</td><td>9.89</td><td>10.13</td><td>10.34</td><td>10.54</td><td>10.7</td><td>10.86</td><td>10.97</td><td>11.08</td></tr><tr><td>Maintenance CapEx per Square Foot Growth Rate</td><td>0.03</td><td>0.03</td><td>0.03</td><td>0.03</td><td>0.02</td><td>0.02</td><td>0.01</td><td>0.01</td><td>0.01</td><td>0.01</td></tr><tr><td>D&amp;A per Square Foot</td><td>10.2</td><td>10.45</td><td>10.66</td><td>10.87</td><td>11.04</td><td>11.2</td><td>11.31</td><td>11.43</td><td>11.52</td><td>11.61</td></tr><tr><td>D&amp;A per Square Foot Growth Rate</td><td>0.03</td><td>0.03</td><td>0.02</td><td>0.02</td><td>0.01</td><td>0.01</td><td>0.01</td><td>0.01</td><td>0.01</td><td>0.01</td></tr><tr><td>Growth CapEx per New Square Foot</td><td>150.0</td><td>154.5</td><td>159.13</td><td>163.11</td><td>167.19</td><td>170.54</td><td>173.95</td><td>176.55</td><td>179.2</td><td>181.0</td></tr><tr><td>Growth CapEx per New Square Foot Growth Rate</td><td>None</td><td>0.03</td><td>0.03</td><td>0.03</td><td>0.03</td><td>0.02</td><td>0.02</td><td>0.01</td><td>0.01</td><td>0.01</td></tr><tr><td>Membership &amp; Other Income Growth Rate</td><td>0.03</td><td>0.03</td><td>0.03</td><td>0.03</td><td>0.02</td><td>0.02</td><td>0.01</td><td>0.01</td><td>0.01</td><td>0.01</td></tr><tr><td>Net Sales</td><td>583327.79</td><td>612844.18</td><td>637587.76</td><td>663330.37</td><td>683362.94</td><td>704000.5</td><td>718133.31</td><td>732549.84</td><td>743574.71</td><td>754765.51</td></tr><tr><td>Membership &amp; Other Income</td><td>4035.54</td><td>4156.61</td><td>4260.52</td><td>4367.03</td><td>4454.38</td><td>4543.46</td><td>4611.61</td><td>4680.79</td><td>4727.6</td><td>4774.87</td></tr><tr><td>Total Revenue</td><td>587363.33</td><td>617000.78</td><td>641848.28</td><td>667697.4</td><td>687817.32</td><td>708543.97</td><td>722744.93</td><td>737230.63</td><td>748302.31</td><td>759540.39</td></tr><tr><td>Revenue Growth</td><td>0.05</td><td>0.05</td><td>0.04</td><td>0.04</td><td>0.03</td><td>0.03</td><td>0.02</td><td>0.02</td><td>0.02</td><td>0.02</td></tr><tr><td>Operating Income (EBIT)</td><td>23688.93</td><td>24887.59</td><td>25892.42</td><td>26937.83</td><td>27751.35</td><td>28589.45</td><td>29163.38</td><td>29748.83</td><td>30196.55</td><td>30651.01</td></tr><tr><td>Operating (EBIT) Margin</td><td>0.04</td><td>0.04</td><td>0.04</td><td>0.04</td><td>0.04</td><td>0.04</td><td>0.04</td><td>0.04</td><td>0.04</td><td>0.04</td></tr><tr><td>Taxes, Excluding Effect of Interest</td><td>-7512.46</td><td>-7892.59</td><td>-8211.25</td><td>-8542.78</td><td>-8800.77</td><td>-9066.56</td><td>-9248.57</td><td>-9434.23</td><td>-9576.22</td><td>-9720.34</td></tr><tr><td>Net Operating Profit After Tax (NOPAT)</td><td>16176.47</td><td>16995.0</td><td>17681.17</td><td>18395.05</td><td>18950.58</td><td>19522.89</td><td>19914.81</td><td>20314.6</td><td>20620.34</td><td>20930.67</td></tr><tr><td>Adjustments for Non-Cash Charges</td><td>0.0</td><td>0.0</td><td>0.0</td><td>0.0</td><td>0.0</td><td>0.0</td><td>0.0</td><td>0.0</td><td>0.0</td><td>0.0</td></tr><tr><td>Depreciation &amp; Amortization</td><td>11659.42</td><td>12189.92</td><td>12620.22</td><td>13065.72</td><td>13394.32</td><td>13731.19</td><td>13937.84</td><td>14147.61</td><td>14332.09</td><td>14518.98</td></tr><tr><td>Depreciation &amp; Amortization (% Revenue)</td><td>0.02</td><td>0.02</td><td>0.02</td><td>0.02</td><td>0.02</td><td>0.02</td><td>0.02</td><td>0.02</td><td>0.02</td><td>0.02</td></tr><tr><td>Deferred Taxes</td><td>563.43</td><td>552.48</td><td>533.73</td><td>512.57</td><td>484.04</td><td>453.33</td><td>462.43</td><td>471.71</td><td>478.81</td><td>486.02</td></tr><tr><td>Deferred Taxes (% Book Taxes)</td><td>0.07</td><td>0.07</td><td>0.07</td><td>0.06</td><td>0.06</td><td>0.05</td><td>0.05</td><td>0.05</td><td>0.05</td><td>0.05</td></tr><tr><td>Other Operating Activities</td><td>1932.79</td><td>2030.32</td><td>2112.08</td><td>2197.14</td><td>2263.35</td><td>2331.55</td><td>2378.28</td><td>2425.95</td><td>2462.38</td><td>2499.36</td></tr><tr><td>Other Operating Activities (% Revenue)</td><td>0.0</td><td>0.0</td><td>0.0</td><td>0.0</td><td>0.0</td><td>0.0</td><td>0.0</td><td>0.0</td><td>0.0</td><td>0.0</td></tr><tr><td>Change in Working Capital</td><td>2821.23</td><td>2815.56</td><td>2236.27</td><td>2197.18</td><td>1609.59</td><td>1554.5</td><td>1065.07</td><td>1086.43</td><td>830.38</td><td>842.86</td></tr><tr><td>Change in Working Capital (% Change in Revenue)</td><td>0.1</td><td>0.1</td><td>0.09</td><td>0.09</td><td>0.08</td><td>0.07</td><td>0.07</td><td>0.07</td><td>0.07</td><td>0.07</td></tr><tr><td>Capital Expenditures</td><td>-13860.01</td><td>-14561.32</td><td>-14313.9</td><td>-14891.82</td><td>-14427.77</td><td>-14863.49</td><td>-14181.74</td><td>-14466.43</td><td>-14689.62</td><td>-14910.7</td></tr><tr><td>Capital Expenditures (% Revenue)</td><td>-0.02</td><td>-0.02</td><td>-0.02</td><td>-0.02</td><td>-0.02</td><td>-0.02</td><td>-0.02</td><td>-0.02</td><td>-0.02</td><td>-0.02</td></tr><tr><td>Annual Unlevered Free Cash Flow</td><td>19293.34</td><td>20021.95</td><td>20869.59</td><td>21475.83</td><td>22274.12</td><td>22729.97</td><td>23576.7</td><td>23979.86</td><td>24034.38</td><td>24367.19</td></tr><tr><td>Annual Unlevered Free Cash Flow Growth Rate</td><td>-0.31</td><td>0.04</td><td>0.04</td><td>0.03</td><td>0.04</td><td>0.02</td><td>0.04</td><td>0.02</td><td>0.0</td><td>0.01</td></tr><tr><td>Period</td><td>1.0</td><td>2.0</td><td>3.0</td><td>4.0</td><td>5.0</td><td>6.0</td><td>7.0</td><td>8.0</td><td>9.0</td><td>10.0</td></tr><tr><td>PV of Unlevered FCF</td><td>18486.41</td><td>18382.17</td><td>18359.01</td><td>18102.16</td><td>17989.79</td><td>17590.15</td><td>17482.31</td><td>17037.57</td><td>16362.1</td><td>15894.86</td></tr><tr><td>EBITDA</td><td>35348.34</td><td>37077.51</td><td>38512.65</td><td>40003.55</td><td>41145.67</td><td>42320.63</td><td>43101.22</td><td>43896.44</td><td>44528.64</td><td>45169.99</td></tr><tr><td>EBITDA Growth Rate</td><td>0.05</td><td>0.05</td><td>0.04</td><td>0.04</td><td>0.03</td><td>0.03</td><td>0.02</td><td>0.02</td><td>0.01</td><td>0.01</td></tr></tbody></table></div>"
      ],
      "text/plain": [
       "<excelify._excelframe.ExcelFrame at 0x7df734fbd950>"
      ]
     },
     "execution_count": 11,
     "metadata": {},
     "output_type": "execute_result"
    }
   ],
   "source": [
    "years = [str(2022 + idx) for idx in range(10)]\n",
    "projected_ufcf_df = el.ExcelFrame.empty(columns=historical_ufcf_df.columns, height=10)\n",
    "\n",
    "projected_ufcf_df = projected_ufcf_df.with_columns(\n",
    "    el.lit(years).alias(ca.years),\n",
    "    projected_value(ca.Retail_Square_Feet, ca.Retail_Square_Feet_Growth_Rate),\n",
    "    el.lit([0.02, 0.02, 0.015, 0.015, 0.01, 0.01, 0.005, 0.005, 0.005, 0.005]).alias(\n",
    "        ca.Retail_Square_Feet_Growth_Rate\n",
    "    ),\n",
    "    projected_value(ca.Sales_per_Square_Foot, ca.Sales_per_Square_Foot_Growth_Rate),\n",
    "    el.lit([0.03, 0.03, 0.025, 0.025, 0.02, 0.02, 0.015, 0.015, 0.01, 0.01]).alias(\n",
    "        ca.Sales_per_Square_Foot_Growth_Rate\n",
    "    ),\n",
    "    projected_value(\n",
    "        ca.COGS_and_OpEx_per_Square_Foot, ca.COGS_and_OpEx_per_Square_Foot_Growth_Rate\n",
    "    ),\n",
    "    el.lit([0.03, 0.03, 0.025, 0.025, 0.02, 0.02, 0.015, 0.015, 0.01, 0.01]).alias(\n",
    "        ca.COGS_and_OpEx_per_Square_Foot_Growth_Rate\n",
    "    ),\n",
    "    projected_value(\n",
    "        ca.Maintenance_CapEx_per_Square_Foot,\n",
    "        ca.Maintenance_CapEx_per_Square_Foot_Growth_Rate,\n",
    "    ),\n",
    "    el.lit([0.03, 0.03, 0.025, 0.025, 0.02, 0.02, 0.015, 0.015, 0.01, 0.01]).alias(\n",
    "        ca.Maintenance_CapEx_per_Square_Foot_Growth_Rate\n",
    "    ),\n",
    "    projected_value(ca.DandA_per_Square_Foot, ca.DandA_per_Square_Foot_Growth_Rate),\n",
    "    el.lit([0.025, 0.025, 0.02, 0.02, 0.015, 0.015, 0.01, 0.01, 0.008, 0.008]).alias(\n",
    "        ca.DandA_per_Square_Foot_Growth_Rate\n",
    "    ),\n",
    "    el.Map(growth_capex_per_new_sqft_formula).alias(\n",
    "        ca.Growth_CapEx_per_New_Square_Foot\n",
    "    ),\n",
    "    el.lit([None, 0.03, 0.03, 0.025, 0.025, 0.02, 0.02, 0.015, 0.015, 0.01]).alias(\n",
    "        ca.Growth_CapEx_per_New_Square_Foot_Growth_Rate\n",
    "    ),\n",
    "    el.lit([0.03, 0.03, 0.025, 0.025, 0.02, 0.02, 0.015, 0.015, 0.01, 0.01]).alias(\n",
    "        ca.Membership_and_Other_Income_Growth_Rate\n",
    "    ),\n",
    "    (el.col(ca.Retail_Square_Feet) * el.col(ca.Sales_per_Square_Foot)).alias(\n",
    "        ca.Net_Sales\n",
    "    ),\n",
    "    projected_value(\n",
    "        ca.Membership_and_Other_Income, ca.Membership_and_Other_Income_Growth_Rate\n",
    "    ),\n",
    "    (el.col(ca.Net_Sales) + el.col(ca.Membership_and_Other_Income)).alias(\n",
    "        ca.Total_Revenue\n",
    "    ),\n",
    "    growth_rate(\n",
    "        ca.Total_Revenue, col_name=ca.Revenue_Growth, prev_df=historical_ufcf_df\n",
    "    ),\n",
    "    (\n",
    "        el.col(ca.Net_Sales)\n",
    "        - el.col(ca.COGS_and_OpEx_per_Square_Foot) * el.col(ca.Retail_Square_Feet)\n",
    "    ).alias(ca.Operating_Income__EBIT_),\n",
    "    (el.col(ca.Operating_Income__EBIT_) / el.col(ca.Total_Revenue)).alias(\n",
    "        ca.Operating__EBIT__Margin\n",
    "    ),\n",
    "    (\n",
    "        -el.col(ca.Operating_Income__EBIT_)\n",
    "        * el.SingleCellExpr(assumptions_df[\"Effective Tax Rate\"][0])\n",
    "    ).alias(ca.Taxes__Excluding_Effect_of_Interest),\n",
    "    (\n",
    "        el.col(ca.Operating_Income__EBIT_)\n",
    "        + el.col(ca.Taxes__Excluding_Effect_of_Interest)\n",
    "    ).alias(ca.Net_Operating_Profit_After_Tax__NOPAT_),\n",
    "    (el.col(ca.Retail_Square_Feet) * el.col(ca.DandA_per_Square_Foot)).alias(\n",
    "        ca.Depreciation_and_Amortization\n",
    "    ),\n",
    "    percent_revenue(ca.Depreciation_and_Amortization),\n",
    "    (\n",
    "        -el.col(ca.Deferred_Taxes__percent_Book_Taxes_)\n",
    "        * el.col(ca.Taxes__Excluding_Effect_of_Interest)\n",
    "    ).alias(ca.Deferred_Taxes),\n",
    "    el.lit([0.075, 0.07, 0.065, 0.06, 0.055, 0.05, 0.05, 0.05, 0.05, 0.05]).alias(\n",
    "        ca.Deferred_Taxes__percent_Book_Taxes_\n",
    "    ),\n",
    "    (\n",
    "        el.col(ca.Total_Revenue)\n",
    "        * el.col(ca.Other_Operating_Activities__percent_Revenue_)\n",
    "    ).alias(ca.Other_Operating_Activities),\n",
    "    (el.average(ca.Other_Operating_Activities__percent_Revenue_, from_=historical_ufcf_df)).alias(\n",
    "        ca.Other_Operating_Activities__percent_Revenue_\n",
    "    ),\n",
    "    el.Map(change_in_working_capital_formula).alias(ca.Change_in_Working_Capital),\n",
    "    el.lit([0.1, 0.095, 0.09, 0.085, 0.08, 0.075, 0.075, 0.075, 0.075, 0.075]).alias(\n",
    "        ca.Change_in_Working_Capital__percent_Change_in_Revenue_\n",
    "    ),\n",
    "    el.Map(capital_expenditures_formula).alias(ca.Capital_Expenditures),\n",
    "    percent_revenue(ca.Capital_Expenditures),\n",
    "    (\n",
    "        el.col(ca.Net_Operating_Profit_After_Tax__NOPAT_)\n",
    "        + el.col(ca.Depreciation_and_Amortization)\n",
    "        + el.col(ca.Deferred_Taxes)\n",
    "        + el.col(ca.Other_Operating_Activities)\n",
    "        + el.col(ca.Change_in_Working_Capital)\n",
    "        + el.col(ca.Capital_Expenditures)\n",
    "    ).alias(ca.Annual_Unlevered_Free_Cash_Flow),\n",
    "    growth_rate(ca.Annual_Unlevered_Free_Cash_Flow, prev_df=historical_ufcf_df),\n",
    "    el.lit([i + 1 for i in range(10)]).alias(ca.Period),\n",
    "    (\n",
    "        el.col(ca.Annual_Unlevered_Free_Cash_Flow)\n",
    "        / ((1 + 0.04365) ** el.col(ca.Period))\n",
    "    ).alias(ca.PV_of_Unlevered_FCF),\n",
    "    (el.col(ca.Operating_Income__EBIT_) + el.col(ca.Depreciation_and_Amortization)).alias(\n",
    "        ca.EBITDA\n",
    "    ),\n",
    "    growth_rate(ca.EBITDA, prev_df=historical_ufcf_df),\n",
    ")\n",
    "\n",
    "projected_ufcf_df.evaluate().transpose(\n",
    "    include_header=True, header_name=\"Name\", column_names=years\n",
    ")"
   ]
  },
  {
   "cell_type": "code",
   "execution_count": 12,
   "metadata": {
    "execution": {
     "iopub.execute_input": "2025-05-13T02:35:51.187479Z",
     "iopub.status.busy": "2025-05-13T02:35:51.187359Z",
     "iopub.status.idle": "2025-05-13T02:35:51.193332Z",
     "shell.execute_reply": "2025-05-13T02:35:51.193014Z",
     "shell.execute_reply.started": "2025-05-13T02:35:51.187470Z"
    },
    "scrolled": true
   },
   "outputs": [
    {
     "data": {
      "text/html": [
       "<div><style>\n",
       ".dataframe > thead > tr,\n",
       ".dataframe > tbody > tr {\n",
       "  text-align: right;\n",
       "  white-space: pre-wrap;\n",
       "}\n",
       "</style>\n",
       "<small>shape; (39, 14)</small><table border=\"1\" class=\"dataframe\"><thead><tr><th>Name</th><th>column_0</th><th>column_1</th><th>column_2</th><th>column_3</th><th>column_4</th><th>column_5</th><th>column_6</th><th>column_7</th><th>column_8</th><th>column_9</th><th>column_10</th><th>column_11</th><th>column_12</th></tr></thead><tbody><tr><td>years</td><td>2019.0</td><td>2020.0</td><td>2021.0</td><td>2022.0</td><td>2023.0</td><td>2024.0</td><td>2025.0</td><td>2026.0</td><td>2027.0</td><td>2028.0</td><td>2029.0</td><td>2030.0</td><td>2031.0</td></tr><tr><td>Retail Square Feet</td><td>1129.0</td><td>1129.0</td><td>1121.0</td><td>(1121 * (E3 + 1))</td><td>(E2 * (F3 + 1))</td><td>(F2 * (G3 + 1))</td><td>(G2 * (H3 + 1))</td><td>(H2 * (I3 + 1))</td><td>(I2 * (J3 + 1))</td><td>(J2 * (K3 + 1))</td><td>(K2 * (L3 + 1))</td><td>(L2 * (M3 + 1))</td><td>(M2 * (N3 + 1))</td></tr><tr><td>Retail Square Feet Growth Rate</td><td>(ERROR - 1)</td><td>((C2 / B2) - 1)</td><td>((D2 / C2) - 1)</td><td>0.02</td><td>0.02</td><td>0.01</td><td>0.01</td><td>0.01</td><td>0.01</td><td>0.01</td><td>0.01</td><td>0.01</td><td>0.01</td></tr><tr><td>Sales per Square Foot</td><td>(B15 / B2)</td><td>(C15 / C2)</td><td>(D15 / D2)</td><td>((D15 / D2) * (E5 + 1))</td><td>(E4 * (F5 + 1))</td><td>(F4 * (G5 + 1))</td><td>(G4 * (H5 + 1))</td><td>(H4 * (I5 + 1))</td><td>(I4 * (J5 + 1))</td><td>(J4 * (K5 + 1))</td><td>(K4 * (L5 + 1))</td><td>(L4 * (M5 + 1))</td><td>(M4 * (N5 + 1))</td></tr><tr><td>Sales per Square Foot Growth Rate</td><td>(ERROR - 1)</td><td>((C4 / B4) - 1)</td><td>((D4 / C4) - 1)</td><td>0.03</td><td>0.03</td><td>0.03</td><td>0.03</td><td>0.02</td><td>0.02</td><td>0.01</td><td>0.01</td><td>0.01</td><td>0.01</td></tr><tr><td>COGS and OpEx per Square Foot</td><td>((B15 - B19) / B2)</td><td>((C15 - C19) / C2)</td><td>((D15 - D19) / D2)</td><td>(((D15 - D19) / D2) * (E7 + 1))</td><td>(E6 * (F7 + 1))</td><td>(F6 * (G7 + 1))</td><td>(G6 * (H7 + 1))</td><td>(H6 * (I7 + 1))</td><td>(I6 * (J7 + 1))</td><td>(J6 * (K7 + 1))</td><td>(K6 * (L7 + 1))</td><td>(L6 * (M7 + 1))</td><td>(M6 * (N7 + 1))</td></tr><tr><td>COGS and OpEx per Square Foot Growth Rate</td><td>(ERROR - 1)</td><td>((C6 / B6) - 1)</td><td>((D6 / C6) - 1)</td><td>0.03</td><td>0.03</td><td>0.03</td><td>0.03</td><td>0.02</td><td>0.02</td><td>0.01</td><td>0.01</td><td>0.01</td><td>0.01</td></tr><tr><td>Maintenance CapEx per Square Foot</td><td>((-B32) / 1158)</td><td>((-C32) / B2)</td><td>((-D32) / C2)</td><td>(((-D32) / C2) * (E9 + 1))</td><td>(E8 * (F9 + 1))</td><td>(F8 * (G9 + 1))</td><td>(G8 * (H9 + 1))</td><td>(H8 * (I9 + 1))</td><td>(I8 * (J9 + 1))</td><td>(J8 * (K9 + 1))</td><td>(K8 * (L9 + 1))</td><td>(L8 * (M9 + 1))</td><td>(M8 * (N9 + 1))</td></tr><tr><td>Maintenance CapEx per Square Foot Growth Rate</td><td>(ERROR - 1)</td><td>((C8 / B8) - 1)</td><td>((D8 / C8) - 1)</td><td>0.03</td><td>0.03</td><td>0.03</td><td>0.03</td><td>0.02</td><td>0.02</td><td>0.01</td><td>0.01</td><td>0.01</td><td>0.01</td></tr><tr><td>D&amp;A per Square Foot</td><td>(B24 / B2)</td><td>(C24 / C2)</td><td>(D24 / D2)</td><td>((D24 / D2) * (E11 + 1))</td><td>(E10 * (F11 + 1))</td><td>(F10 * (G11 + 1))</td><td>(G10 * (H11 + 1))</td><td>(H10 * (I11 + 1))</td><td>(I10 * (J11 + 1))</td><td>(J10 * (K11 + 1))</td><td>(K10 * (L11 + 1))</td><td>(L10 * (M11 + 1))</td><td>(M10 * (N11 + 1))</td></tr><tr><td>D&amp;A per Square Foot Growth Rate</td><td>(ERROR - 1)</td><td>((C10 / B10) - 1)</td><td>((D10 / C10) - 1)</td><td>0.03</td><td>0.03</td><td>0.02</td><td>0.02</td><td>0.01</td><td>0.01</td><td>0.01</td><td>0.01</td><td>0.01</td><td>0.01</td></tr><tr><td>Growth CapEx per New Square Foot</td><td></td><td></td><td></td><td>150.0</td><td>(E12 * (F13 + 1))</td><td>(F12 * (G13 + 1))</td><td>(G12 * (H13 + 1))</td><td>(H12 * (I13 + 1))</td><td>(I12 * (J13 + 1))</td><td>(J12 * (K13 + 1))</td><td>(K12 * (L13 + 1))</td><td>(L12 * (M13 + 1))</td><td>(M12 * (N13 + 1))</td></tr><tr><td>Growth CapEx per New Square Foot Growth Rate</td><td></td><td></td><td></td><td>None</td><td>0.03</td><td>0.03</td><td>0.03</td><td>0.03</td><td>0.02</td><td>0.02</td><td>0.01</td><td>0.01</td><td>0.01</td></tr><tr><td>Membership &amp; Other Income Growth Rate</td><td>(ERROR - 1)</td><td>((C16 / B16) - 1)</td><td>((D16 / C16) - 1)</td><td>0.03</td><td>0.03</td><td>0.03</td><td>0.03</td><td>0.02</td><td>0.02</td><td>0.01</td><td>0.01</td><td>0.01</td><td>0.01</td></tr><tr><td>Net Sales</td><td>510329.0</td><td>519926.0</td><td>555233.0</td><td>(E2 * E4)</td><td>(F2 * F4)</td><td>(G2 * G4)</td><td>(H2 * H4)</td><td>(I2 * I4)</td><td>(J2 * J4)</td><td>(K2 * K4)</td><td>(L2 * L4)</td><td>(M2 * M4)</td><td>(N2 * N4)</td></tr><tr><td>Membership &amp; Other Income</td><td>4076.0</td><td>4038.0</td><td>3918.0</td><td>(3918.0 * (E14 + 1))</td><td>(E16 * (F14 + 1))</td><td>(F16 * (G14 + 1))</td><td>(G16 * (H14 + 1))</td><td>(H16 * (I14 + 1))</td><td>(I16 * (J14 + 1))</td><td>(J16 * (K14 + 1))</td><td>(K16 * (L14 + 1))</td><td>(L16 * (M14 + 1))</td><td>(M16 * (N14 + 1))</td></tr><tr><td>Total Revenue</td><td>(B15 + B16)</td><td>(C15 + C16)</td><td>(D15 + D16)</td><td>(E15 + E16)</td><td>(F15 + F16)</td><td>(G15 + G16)</td><td>(H15 + H16)</td><td>(I15 + I16)</td><td>(J15 + J16)</td><td>(K15 + K16)</td><td>(L15 + L16)</td><td>(M15 + M16)</td><td>(N15 + N16)</td></tr><tr><td>Revenue Growth</td><td>(ERROR - 1)</td><td>((C17 / B17) - 1)</td><td>((D17 / C17) - 1)</td><td>((E17 / (D15 + D16)) - 1)</td><td>((F17 / E17) - 1)</td><td>((G17 / F17) - 1)</td><td>((H17 / G17) - 1)</td><td>((I17 / H17) - 1)</td><td>((J17 / I17) - 1)</td><td>((K17 / J17) - 1)</td><td>((L17 / K17) - 1)</td><td>((M17 / L17) - 1)</td><td>((N17 / M17) - 1)</td></tr><tr><td>Operating Income (EBIT)</td><td>21957.0</td><td>20568.0</td><td>22548.0</td><td>(E15 - (E6 * E2))</td><td>(F15 - (F6 * F2))</td><td>(G15 - (G6 * G2))</td><td>(H15 - (H6 * H2))</td><td>(I15 - (I6 * I2))</td><td>(J15 - (J6 * J2))</td><td>(K15 - (K6 * K2))</td><td>(L15 - (L6 * L2))</td><td>(M15 - (M6 * M2))</td><td>(N15 - (N6 * N2))</td></tr><tr><td>Operating (EBIT) Margin</td><td>(B19 / B17)</td><td>(C19 / C17)</td><td>(D19 / D17)</td><td>(E19 / E17)</td><td>(F19 / F17)</td><td>(G19 / G17)</td><td>(H19 / H17)</td><td>(I19 / I17)</td><td>(J19 / J17)</td><td>(K19 / K17)</td><td>(L19 / L17)</td><td>(M19 / M17)</td><td>(N19 / N17)</td></tr><tr><td>Taxes, Excluding Effect of Interest</td><td>((-B19) * 0.31712950256223044)</td><td>((-C19) * 0.31712950256223044)</td><td>((-D19) * 0.31712950256223044)</td><td>((-E19) * 0.31712950256223044)</td><td>((-F19) * 0.31712950256223044)</td><td>((-G19) * 0.31712950256223044)</td><td>((-H19) * 0.31712950256223044)</td><td>((-I19) * 0.31712950256223044)</td><td>((-J19) * 0.31712950256223044)</td><td>((-K19) * 0.31712950256223044)</td><td>((-L19) * 0.31712950256223044)</td><td>((-M19) * 0.31712950256223044)</td><td>((-N19) * 0.31712950256223044)</td></tr><tr><td>Net Operating Profit After Tax (NOPAT)</td><td>(B19 + B21)</td><td>(C19 + C21)</td><td>(D19 + D21)</td><td>(E19 + E21)</td><td>(F19 + F21)</td><td>(G19 + G21)</td><td>(H19 + H21)</td><td>(I19 + I21)</td><td>(J19 + J21)</td><td>(K19 + K21)</td><td>(L19 + L21)</td><td>(M19 + M21)</td><td>(N19 + N21)</td></tr><tr><td>Adjustments for Non-Cash Charges</td><td></td><td></td><td></td><td></td><td></td><td></td><td></td><td></td><td></td><td></td><td></td><td></td><td></td></tr><tr><td>Depreciation &amp; Amortization</td><td>10678.0</td><td>10987.0</td><td>11152.0</td><td>(E2 * E10)</td><td>(F2 * F10)</td><td>(G2 * G10)</td><td>(H2 * H10)</td><td>(I2 * I10)</td><td>(J2 * J10)</td><td>(K2 * K10)</td><td>(L2 * L10)</td><td>(M2 * M10)</td><td>(N2 * N10)</td></tr><tr><td>Depreciation &amp; Amortization (% Revenue)</td><td>(B24 / B17)</td><td>(C24 / C17)</td><td>(D24 / D17)</td><td>(E24 / E17)</td><td>(F24 / F17)</td><td>(G24 / G17)</td><td>(H24 / H17)</td><td>(I24 / I17)</td><td>(J24 / J17)</td><td>(K24 / K17)</td><td>(L24 / L17)</td><td>(M24 / M17)</td><td>(N24 / N17)</td></tr><tr><td>Deferred Taxes</td><td>((-B27) * B21)</td><td>((-C27) * C21)</td><td>((-D27) * D21)</td><td>((-E27) * E21)</td><td>((-F27) * F21)</td><td>((-G27) * G21)</td><td>((-H27) * H21)</td><td>((-I27) * I21)</td><td>((-J27) * J21)</td><td>((-K27) * K21)</td><td>((-L27) * L21)</td><td>((-M27) * M21)</td><td>((-N27) * N21)</td></tr><tr><td>Deferred Taxes (% Book Taxes)</td><td>-0.12</td><td>0.07</td><td>0.28</td><td>0.07</td><td>0.07</td><td>0.07</td><td>0.06</td><td>0.06</td><td>0.05</td><td>0.05</td><td>0.05</td><td>0.05</td><td>0.05</td></tr><tr><td>Other Operating Activities</td><td>1734.0</td><td>1981.0</td><td>1521.0</td><td>(E17 * E29)</td><td>(F17 * F29)</td><td>(G17 * G29)</td><td>(H17 * H29)</td><td>(I17 * I29)</td><td>(J17 * J29)</td><td>(K17 * K29)</td><td>(L17 * L29)</td><td>(M17 * M29)</td><td>(N17 * N29)</td></tr><tr><td>Other Operating Activities (% Revenue)</td><td>(B28 / B17)</td><td>(C28 / C17)</td><td>(D28 / D17)</td><td>AVERAGE(B29:D29)</td><td>AVERAGE(B29:D29)</td><td>AVERAGE(B29:D29)</td><td>AVERAGE(B29:D29)</td><td>AVERAGE(B29:D29)</td><td>AVERAGE(B29:D29)</td><td>AVERAGE(B29:D29)</td><td>AVERAGE(B29:D29)</td><td>AVERAGE(B29:D29)</td><td>AVERAGE(B29:D29)</td></tr><tr><td>Change in Working Capital</td><td>295.0</td><td>-327.0</td><td>7972.0</td><td>(E31 * (E17 - (D15 + D16)))</td><td>(F31 * (F17 - E17))</td><td>(G31 * (G17 - F17))</td><td>(H31 * (H17 - G17))</td><td>(I31 * (I17 - H17))</td><td>(J31 * (J17 - I17))</td><td>(K31 * (K17 - J17))</td><td>(L31 * (L17 - K17))</td><td>(M31 * (M17 - L17))</td><td>(N31 * (N17 - M17))</td></tr><tr><td>Change in Working Capital (% Change in Revenue)</td><td>(B30 / ERROR)</td><td>(C30 / (C17 - B17))</td><td>(D30 / (D17 - C17))</td><td>0.1</td><td>0.1</td><td>0.09</td><td>0.09</td><td>0.08</td><td>0.07</td><td>0.07</td><td>0.07</td><td>0.07</td><td>0.07</td></tr><tr><td>Capital Expenditures</td><td>-10344.0</td><td>-10705.0</td><td>-10264.0</td><td>(((-E8) * 1121) - (E12 * (E2 - 1121)))</td><td>(((-F8) * E2) - (F12 * (F2 - E2)))</td><td>(((-G8) * F2) - (G12 * (G2 - F2)))</td><td>(((-H8) * G2) - (H12 * (H2 - G2)))</td><td>(((-I8) * H2) - (I12 * (I2 - H2)))</td><td>(((-J8) * I2) - (J12 * (J2 - I2)))</td><td>(((-K8) * J2) - (K12 * (K2 - J2)))</td><td>(((-L8) * K2) - (L12 * (L2 - K2)))</td><td>(((-M8) * L2) - (M12 * (M2 - L2)))</td><td>(((-N8) * M2) - (N12 * (N2 - M2)))</td></tr><tr><td>Capital Expenditures (% Revenue)</td><td>(B32 / B17)</td><td>(C32 / C17)</td><td>(D32 / D17)</td><td>(E32 / E17)</td><td>(F32 / F17)</td><td>(G32 / G17)</td><td>(H32 / H17)</td><td>(I32 / I17)</td><td>(J32 / J17)</td><td>(K32 / K17)</td><td>(L32 / L17)</td><td>(M32 / M17)</td><td>(N32 / N17)</td></tr><tr><td>Annual Unlevered Free Cash Flow</td><td>(((((B22 + B24) + B26) + B28) + B30) + B32)</td><td>(((((C22 + C24) + C26) + C28) + C30) + C32)</td><td>(((((D22 + D24) + D26) + D28) + D30) + D32)</td><td>(((((E22 + E24) + E26) + E28) + E30) + E32)</td><td>(((((F22 + F24) + F26) + F28) + F30) + F32)</td><td>(((((G22 + G24) + G26) + G28) + G30) + G32)</td><td>(((((H22 + H24) + H26) + H28) + H30) + H32)</td><td>(((((I22 + I24) + I26) + I28) + I30) + I32)</td><td>(((((J22 + J24) + J26) + J28) + J30) + J32)</td><td>(((((K22 + K24) + K26) + K28) + K30) + K32)</td><td>(((((L22 + L24) + L26) + L28) + L30) + L32)</td><td>(((((M22 + M24) + M26) + M28) + M30) + M32)</td><td>(((((N22 + N24) + N26) + N28) + N30) + N32)</td></tr><tr><td>Annual Unlevered Free Cash Flow Growth Rate</td><td>(ERROR - 1)</td><td>((C34 / B34) - 1)</td><td>((D34 / C34) - 1)</td><td>((E34 / (((((D22 + D24) + D26) + D28) + D30) + D32)) - 1)</td><td>((F34 / E34) - 1)</td><td>((G34 / F34) - 1)</td><td>((H34 / G34) - 1)</td><td>((I34 / H34) - 1)</td><td>((J34 / I34) - 1)</td><td>((K34 / J34) - 1)</td><td>((L34 / K34) - 1)</td><td>((M34 / L34) - 1)</td><td>((N34 / M34) - 1)</td></tr><tr><td>Period</td><td></td><td></td><td></td><td>1.0</td><td>2.0</td><td>3.0</td><td>4.0</td><td>5.0</td><td>6.0</td><td>7.0</td><td>8.0</td><td>9.0</td><td>10.0</td></tr><tr><td>PV of Unlevered FCF</td><td></td><td></td><td></td><td>(E34 / (1.04365 ^ E36))</td><td>(F34 / (1.04365 ^ F36))</td><td>(G34 / (1.04365 ^ G36))</td><td>(H34 / (1.04365 ^ H36))</td><td>(I34 / (1.04365 ^ I36))</td><td>(J34 / (1.04365 ^ J36))</td><td>(K34 / (1.04365 ^ K36))</td><td>(L34 / (1.04365 ^ L36))</td><td>(M34 / (1.04365 ^ M36))</td><td>(N34 / (1.04365 ^ N36))</td></tr><tr><td>EBITDA</td><td>(B19 + B24)</td><td>(C19 + C24)</td><td>(D19 + D24)</td><td>(E19 + E24)</td><td>(F19 + F24)</td><td>(G19 + G24)</td><td>(H19 + H24)</td><td>(I19 + I24)</td><td>(J19 + J24)</td><td>(K19 + K24)</td><td>(L19 + L24)</td><td>(M19 + M24)</td><td>(N19 + N24)</td></tr><tr><td>EBITDA Growth Rate</td><td>(ERROR - 1)</td><td>((C38 / B38) - 1)</td><td>((D38 / C38) - 1)</td><td>((E38 / (D19 + D24)) - 1)</td><td>((F38 / E38) - 1)</td><td>((G38 / F38) - 1)</td><td>((H38 / G38) - 1)</td><td>((I38 / H38) - 1)</td><td>((J38 / I38) - 1)</td><td>((K38 / J38) - 1)</td><td>((L38 / K38) - 1)</td><td>((M38 / L38) - 1)</td><td>((N38 / M38) - 1)</td></tr></tbody></table></div>"
      ],
      "text/plain": [
       "<excelify._excelframe.ExcelFrame at 0x7df734f92690>"
      ]
     },
     "execution_count": 12,
     "metadata": {},
     "output_type": "execute_result"
    }
   ],
   "source": [
    "ufcf_df = el.concat([historical_ufcf_df, projected_ufcf_df]).transpose(include_header=True, header_name=\"Name\")\n",
    "ufcf_df"
   ]
  },
  {
   "cell_type": "code",
   "execution_count": 12,
   "metadata": {
    "execution": {
     "iopub.execute_input": "2025-05-13T02:26:28.558405Z",
     "iopub.status.busy": "2025-05-13T02:26:28.558346Z",
     "iopub.status.idle": "2025-05-13T02:26:28.583551Z",
     "shell.execute_reply": "2025-05-13T02:26:28.583215Z",
     "shell.execute_reply.started": "2025-05-13T02:26:28.558399Z"
    }
   },
   "outputs": [],
   "source": [
    "ufcf_df.to_excel(\"dcf2.xlsx\")"
   ]
  },
  {
   "cell_type": "markdown",
   "metadata": {},
   "source": [
    "# TODO"
   ]
  },
  {
   "cell_type": "markdown",
   "metadata": {},
   "source": [
    "1. Displaying the formula-based ExcelFrame is horribly broken - it assumes that the columns the cells refer to always exist in the table, and it's broken with transpose, too. Fix this.\n",
    "2. ~~df.select()~~\n",
    "3. df.transpose() is still a bit ugly - Is there a way to pass column names based on one of my existing columns more easily?\n",
    "4. `with_columns()` doesn't do any coping on self yet it's a modifying API - think about this.\n",
    "   1. Ideally, you'd want some sort of a shallow copy."
   ]
  },
  {
   "cell_type": "markdown",
   "metadata": {},
   "source": []
  }
 ],
 "metadata": {
  "kernelspec": {
   "display_name": "Python 3 (ipykernel)",
   "language": "python",
   "name": "python3"
  },
  "language_info": {
   "codemirror_mode": {
    "name": "ipython",
    "version": 3
   },
   "file_extension": ".py",
   "mimetype": "text/x-python",
   "name": "python",
   "nbconvert_exporter": "python",
   "pygments_lexer": "ipython3",
   "version": "3.11.11"
  }
 },
 "nbformat": 4,
 "nbformat_minor": 4
}
