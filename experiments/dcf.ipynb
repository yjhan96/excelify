{
 "cells": [
  {
   "cell_type": "markdown",
   "metadata": {},
   "source": [
    "# DCF Modeling"
   ]
  },
  {
   "cell_type": "code",
   "execution_count": 1,
   "metadata": {
    "execution": {
     "iopub.execute_input": "2025-05-03T02:49:37.124586Z",
     "iopub.status.busy": "2025-05-03T02:49:37.124403Z",
     "iopub.status.idle": "2025-05-03T02:49:37.211271Z",
     "shell.execute_reply": "2025-05-03T02:49:37.211041Z",
     "shell.execute_reply.started": "2025-05-03T02:49:37.124573Z"
    }
   },
   "outputs": [],
   "source": [
    "import excelify as el"
   ]
  },
  {
   "cell_type": "markdown",
   "metadata": {},
   "source": [
    "# Step 0: Assumptions"
   ]
  },
  {
   "cell_type": "code",
   "execution_count": 2,
   "metadata": {
    "execution": {
     "iopub.execute_input": "2025-05-03T02:49:37.415586Z",
     "iopub.status.busy": "2025-05-03T02:49:37.415069Z",
     "iopub.status.idle": "2025-05-03T02:49:37.423247Z",
     "shell.execute_reply": "2025-05-03T02:49:37.423063Z",
     "shell.execute_reply.started": "2025-05-03T02:49:37.415555Z"
    }
   },
   "outputs": [
    {
     "data": {
      "text/html": [
       "<div><style>\n",
       ".dataframe > thead > tr,\n",
       ".dataframe > tbody > tr {\n",
       "  text-align: right;\n",
       "  white-space: pre-wrap;\n",
       "}\n",
       "</style>\n",
       "<small>shape; (5, 2)</small><table border=\"1\" class=\"dataframe\"><thead><tr><th>Name</th><th>Constants</th></tr></thead><tbody><tr><td>Company Name</td><td bgcolor=\"blue\">Walmart Inc.</td></tr><tr><td>Ticker</td><td>WMT</td></tr><tr><td>Current Share Price</td><td bgcolor=\"#000\">139.43</td></tr><tr><td>Effective Tax Rate</td><td>0.32</td></tr><tr><td>Last Fiscal Year</td><td>2021-01-31</td></tr></tbody></table></div>"
      ],
      "text/plain": [
       "<excelify._excelframe.ExcelFrame at 0x10c0fcd90>"
      ]
     },
     "execution_count": 2,
     "metadata": {},
     "output_type": "execute_result"
    }
   ],
   "source": [
    "previous_tax_rates = [6858 / 20564, 4915 / 20116, 4281 / 11460]\n",
    "assumptions_df = el.ExcelFrame(\n",
    "    {\n",
    "        \"Company Name\": [\"Walmart Inc.\"],\n",
    "        \"Ticker\": [\"WMT\"],\n",
    "        \"Current Share Price\": [139.43],\n",
    "        \"Effective Tax Rate\": [sum(previous_tax_rates) / len(previous_tax_rates)],\n",
    "        \"Last Fiscal Year\": [\"2021-01-31\"],\n",
    "    },\n",
    ")\n",
    "\n",
    "assumptions_df[\"Company Name\"].set_attributes({\"bgcolor\": \"blue\"})\n",
    "assumptions_df[\"Current Share Price\"].set_attributes({\"bgcolor\": \"#000\"})\n",
    "assumptions_df.transpose(\n",
    "    include_header=True, header_name=\"Name\", column_names=[\"Constants\"]\n",
    ")"
   ]
  },
  {
   "cell_type": "markdown",
   "metadata": {},
   "source": [
    "## Step 1: Unlevered Free Cash Flow"
   ]
  },
  {
   "cell_type": "code",
   "execution_count": 3,
   "metadata": {
    "execution": {
     "iopub.execute_input": "2025-05-03T02:50:34.240568Z",
     "iopub.status.busy": "2025-05-03T02:50:34.240240Z",
     "iopub.status.idle": "2025-05-03T02:50:34.242567Z",
     "shell.execute_reply": "2025-05-03T02:50:34.242284Z",
     "shell.execute_reply.started": "2025-05-03T02:50:34.240550Z"
    }
   },
   "outputs": [],
   "source": [
    "years = [\"2019\", \"2020\", \"2021\"]"
   ]
  },
  {
   "cell_type": "code",
   "execution_count": 4,
   "metadata": {
    "execution": {
     "iopub.execute_input": "2025-05-03T03:13:49.984832Z",
     "iopub.status.busy": "2025-05-03T03:13:49.984355Z",
     "iopub.status.idle": "2025-05-03T03:13:49.989509Z",
     "shell.execute_reply": "2025-05-03T03:13:49.989000Z",
     "shell.execute_reply.started": "2025-05-03T03:13:49.984805Z"
    }
   },
   "outputs": [],
   "source": [
    "def nopat(operating_income, taxes):\n",
    "    return operating_income + taxes\n",
    "\n",
    "\n",
    "def deferred_taxes(taxes, percent_book_taxes):\n",
    "    return -taxes * percent_book_taxes\n",
    "\n",
    "\n",
    "def unlevered_free_cash_flow(\n",
    "    nopat, d_and_a, deferred_taxes, other_operating, change_in_working_capial, capex\n",
    "):\n",
    "    return (\n",
    "        nopat\n",
    "        + d_and_a\n",
    "        + deferred_taxes\n",
    "        + other_operating\n",
    "        + change_in_working_capial\n",
    "        + capex\n",
    "    )\n",
    "\n",
    "def ebitda(ebit, da):\n",
    "    return ebit + da\n",
    "\n",
    "def growth_rate(col: el.Col):\n",
    "    return ((col / col.prev(1)) - 1)"
   ]
  },
  {
   "cell_type": "code",
   "execution_count": 5,
   "metadata": {
    "execution": {
     "iopub.execute_input": "2025-05-03T03:15:12.128060Z",
     "iopub.status.busy": "2025-05-03T03:15:12.127926Z",
     "iopub.status.idle": "2025-05-03T03:15:12.136759Z",
     "shell.execute_reply": "2025-05-03T03:15:12.136112Z",
     "shell.execute_reply.started": "2025-05-03T03:15:12.128053Z"
    }
   },
   "outputs": [
    {
     "data": {
      "text/html": [
       "<div><style>\n",
       ".dataframe > thead > tr,\n",
       ".dataframe > tbody > tr {\n",
       "  text-align: right;\n",
       "  white-space: pre-wrap;\n",
       "}\n",
       "</style>\n",
       "<small>shape; (30, 4)</small><table border=\"1\" class=\"dataframe\"><thead><tr><th>Name</th><th>2019</th><th>2020</th><th>2021</th></tr></thead><tbody><tr><td>Year</td><td>2019.0</td><td>2020.0</td><td>2021.0</td></tr><tr><td>Retail Square Feet</td><td>1129.0</td><td>1129.0</td><td>1121.0</td></tr><tr><td>Net Sales</td><td>510329.0</td><td>519926.0</td><td>555233.0</td></tr><tr><td>Membership &amp; Other Income</td><td>4076.0</td><td>4038.0</td><td>3918.0</td></tr><tr><td>Operating Income (EBIT)</td><td>21957.0</td><td>20568.0</td><td>22548.0</td></tr><tr><td>Depreciation &amp; Amortization</td><td>10678.0</td><td>10987.0</td><td>11152.0</td></tr><tr><td>% Book Taxes</td><td>-0.12</td><td>0.07</td><td>0.28</td></tr><tr><td>Other Operating Activities</td><td>1734.0</td><td>1981.0</td><td>1521.0</td></tr><tr><td>Change in Working Capital</td><td>295.0</td><td>-327.0</td><td>7972.0</td></tr><tr><td>Capital Expenditures</td><td>-10344.0</td><td>-10705.0</td><td>-10264.0</td></tr><tr><td>Taxes, Excluding Effect of Interest</td><td>-6963.21</td><td>-6522.72</td><td>-7150.64</td></tr><tr><td>EBITDA</td><td>32635.0</td><td>31555.0</td><td>33700.0</td></tr><tr><td>Net Operating Profit After Tax (NOPAT)</td><td>14993.79</td><td>14045.28</td><td>15397.36</td></tr><tr><td>Deferred Taxes</td><td>-811.64</td><td>424.67</td><td>1992.54</td></tr><tr><td>Annual Unlevered Free Cash Flow</td><td>16545.14</td><td>16405.95</td><td>27770.91</td></tr><tr><td>Total Revenue</td><td>514405.0</td><td>523964.0</td><td>559151.0</td></tr><tr><td>Sales per Square Foot</td><td>452.02</td><td>460.52</td><td>495.3</td></tr><tr><td>COGS and OpEx per Square Foot</td><td>432.57</td><td>442.3</td><td>475.19</td></tr><tr><td>Maintenance CapEx per Square Foot</td><td>8.93</td><td>9.48</td><td>9.09</td></tr><tr><td>D&amp;A per Square Foot</td><td>9.46</td><td>9.73</td><td>9.95</td></tr><tr><td>Growth CapEx per New Square Foot</td><td>0.0</td><td>0.0</td><td>0.0</td></tr><tr><td>Other Operating Activities (% Revenue)</td><td>0.0</td><td>0.0</td><td>0.0</td></tr><tr><td>Retail Square Feet Growth Rate</td><td>None</td><td>0.0</td><td>-0.01</td></tr><tr><td>Sales per Square Foot Growth Rate</td><td>None</td><td>0.02</td><td>0.08</td></tr><tr><td>COGS and OpEx per Square Foot Growth Rate</td><td>None</td><td>0.02</td><td>0.07</td></tr><tr><td>Maintenance CapEx per Square Foot Growth Rate</td><td>None</td><td>0.06</td><td>-0.04</td></tr><tr><td>Growth CapEx per New Square Foot Growth Rate</td><td>None</td><td>inf</td><td>inf</td></tr><tr><td>Membership &amp; Other Income Growth Rate</td><td>None</td><td>-0.01</td><td>-0.03</td></tr><tr><td>Annual Unlevered Free Cash Flow Growth Rate</td><td>None</td><td>-0.01</td><td>0.69</td></tr><tr><td>EBITDA Growth Rate</td><td>None</td><td>-0.03</td><td>0.07</td></tr></tbody></table></div>"
      ],
      "text/plain": [
       "<excelify._excelframe.ExcelFrame at 0x10c401dd0>"
      ]
     },
     "execution_count": 5,
     "metadata": {},
     "output_type": "execute_result"
    }
   ],
   "source": [
    "historical_ufcf_df = el.ExcelFrame(\n",
    "    {\n",
    "        \"Year\": years,\n",
    "        \"Retail Square Feet\": [1_129, 1_129, 1_121],\n",
    "        \"Net Sales\": [510_329.0, 519_926.0, 555_233.0],\n",
    "        \"Membership & Other Income\": [4076.0, 4038.0, 3918.0],\n",
    "        \"Operating Income (EBIT)\": [21_957.0, 20_568.0, 22_548.0],\n",
    "        \"Depreciation & Amortization\": [10_678.0, 10_987.0, 11_152.0],\n",
    "        \"% Book Taxes\": [-499 / 4281, 320 / 4915, 1911 / 6858],\n",
    "        \"Other Operating Activities\": [1_734, 1_981, 1_521],\n",
    "        \"Change in Working Capital\": [295, -327, 7972],\n",
    "        \"Capital Expenditures\": [-10_344, -10_705, -10_264],\n",
    "    }\n",
    ")\n",
    "\n",
    "historical_ufcf_df = historical_ufcf_df.with_columns(\n",
    "    (\n",
    "        -el.col(\"Operating Income (EBIT)\")\n",
    "        * el.SingleCellExpr(assumptions_df[\"Effective Tax Rate\"][0])\n",
    "    ).alias(\"Taxes, Excluding Effect of Interest\"),\n",
    "    (\n",
    "        ebitda(el.col(\"Operating Income (EBIT)\"), el.col(\"Depreciation & Amortization\"))\n",
    "    ).alias(\"EBITDA\"),\n",
    ")\n",
    "\n",
    "historical_ufcf_df = historical_ufcf_df.with_columns(\n",
    "    nopat(\n",
    "        el.col(\"Operating Income (EBIT)\"),\n",
    "        el.col(\"Taxes, Excluding Effect of Interest\"),\n",
    "    ).alias(\"Net Operating Profit After Tax (NOPAT)\"),\n",
    "    deferred_taxes(\n",
    "        el.col(\"Taxes, Excluding Effect of Interest\"),\n",
    "        el.col(\"% Book Taxes\"),\n",
    "    ).alias(\"Deferred Taxes\"),\n",
    ")\n",
    "\n",
    "historical_ufcf_df = historical_ufcf_df.with_columns(\n",
    "    unlevered_free_cash_flow(\n",
    "        el.col(\"Net Operating Profit After Tax (NOPAT)\"),\n",
    "        el.col(\"Depreciation & Amortization\"),\n",
    "        el.col(\"Deferred Taxes\"),\n",
    "        el.col(\"Other Operating Activities\"),\n",
    "        el.col(\"Change in Working Capital\"),\n",
    "        el.col(\"Capital Expenditures\"),\n",
    "    ).alias(\"Annual Unlevered Free Cash Flow\"),\n",
    "    (el.col(\"Net Sales\") + el.col(\"Membership & Other Income\")).alias(\"Total Revenue\"),\n",
    ")\n",
    "\n",
    "columns_with_growth_rate = [\n",
    "    \"Retail Square Feet\",\n",
    "    \"Sales per Square Foot\",\n",
    "    \"COGS and OpEx per Square Foot\",\n",
    "    \"Maintenance CapEx per Square Foot\",\n",
    "    \"Growth CapEx per New Square Foot\",\n",
    "    \"Membership & Other Income\",\n",
    "    \"Annual Unlevered Free Cash Flow\",\n",
    "    \"EBITDA\",\n",
    "]\n",
    "\n",
    "historical_ufcf_df = historical_ufcf_df.with_columns(\n",
    "    (el.col(\"Net Sales\") / el.col(\"Retail Square Feet\")).alias(\"Sales per Square Foot\"),\n",
    "    (\n",
    "        (el.col(\"Net Sales\") - el.col(\"Operating Income (EBIT)\"))\n",
    "        / el.col(\"Retail Square Feet\")\n",
    "    ).alias(\"COGS and OpEx per Square Foot\"),\n",
    "    (-el.col(\"Capital Expenditures\") / el.col(\"Retail Square Feet\").prev(1)).alias(\n",
    "        \"Maintenance CapEx per Square Foot\"\n",
    "    ),\n",
    "    (el.col(\"Depreciation & Amortization\") / el.col(\"Retail Square Feet\")).alias(\n",
    "        \"D&A per Square Foot\"\n",
    "    ),\n",
    "    (el.ConstantExpr(0.0)).alias(\"Growth CapEx per New Square Foot\"),\n",
    "    (el.col(\"Other Operating Activities\") / el.col(\"Total Revenue\")).alias(\n",
    "        \"Other Operating Activities (% Revenue)\"\n",
    "    ),\n",
    ")\n",
    "\n",
    "# TODO: Think about doing this a bit nicer.\n",
    "historical_ufcf_df[\"Maintenance CapEx per Square Foot\"][0] = -historical_ufcf_df[\n",
    "    \"Capital Expenditures\"\n",
    "][0] / el.Constant(1158)\n",
    "\n",
    "# TODO: Find a way to show these in a percentage sigfig.\n",
    "historical_ufcf_df = historical_ufcf_df.with_columns(\n",
    "    *[\n",
    "        growth_rate(el.col(c)).alias(f\"{c} Growth Rate\")\n",
    "        for c in columns_with_growth_rate\n",
    "    ]\n",
    ")\n",
    "\n",
    "historical_ufcf_df.evaluate().transpose(\n",
    "    include_header=True,\n",
    "    header_name=\"Name\",\n",
    "    column_names=years,\n",
    ")"
   ]
  },
  {
   "cell_type": "code",
   "execution_count": 6,
   "metadata": {},
   "outputs": [
    {
     "data": {
      "text/html": [
       "<div><style>\n",
       ".dataframe > thead > tr,\n",
       ".dataframe > tbody > tr {\n",
       "  text-align: right;\n",
       "  white-space: pre-wrap;\n",
       "}\n",
       "</style>\n",
       "<small>shape; (31, 11)</small><table border=\"1\" class=\"dataframe\"><thead><tr><th>Name</th><th>2022</th><th>2023</th><th>2024</th><th>2025</th><th>2026</th><th>2027</th><th>2028</th><th>2029</th><th>2030</th><th>2031</th></tr></thead><tbody><tr><td>Year</td><td>2022.0</td><td>2023.0</td><td>2024.0</td><td>2025.0</td><td>2026.0</td><td>2027.0</td><td>2028.0</td><td>2029.0</td><td>2030.0</td><td>2031.0</td></tr><tr><td>Retail Square Feet</td><td>1143.42</td><td>1166.29</td><td>1183.78</td><td>1201.54</td><td>1213.55</td><td>1225.69</td><td>1231.82</td><td>1237.98</td><td>1244.17</td><td>1250.39</td></tr><tr><td>Net Sales</td><td>583327.79</td><td>612844.18</td><td>637587.76</td><td>663330.37</td><td>683362.94</td><td>704000.5</td><td>718133.31</td><td>732549.84</td><td>743574.71</td><td>754765.51</td></tr><tr><td>Membership &amp; Other Income</td><td>4035.54</td><td>4156.61</td><td>4260.52</td><td>4367.03</td><td>4454.38</td><td>4543.46</td><td>4611.61</td><td>4680.79</td><td>4727.6</td><td>4774.87</td></tr><tr><td>Operating Income (EBIT)</td><td>23688.93</td><td>24887.59</td><td>25892.42</td><td>26937.83</td><td>27751.35</td><td>28589.45</td><td>29163.38</td><td>29748.83</td><td>30196.55</td><td>30651.01</td></tr><tr><td>Depreciation &amp; Amortization</td><td>11659.42</td><td>12189.92</td><td>12620.22</td><td>13065.72</td><td>13394.32</td><td>13731.19</td><td>13937.84</td><td>14147.61</td><td>14332.09</td><td>14518.98</td></tr><tr><td>% Book Taxes</td><td style=\"color: black; background-color: gold;\">0.07</td><td style=\"color: black; background-color: gold;\">0.07</td><td style=\"color: black; background-color: gold;\">0.07</td><td style=\"color: black; background-color: gold;\">0.06</td><td style=\"color: black; background-color: gold;\">0.06</td><td style=\"color: black; background-color: gold;\">0.05</td><td style=\"color: black; background-color: gold;\">0.05</td><td style=\"color: black; background-color: gold;\">0.05</td><td style=\"color: black; background-color: gold;\">0.05</td><td style=\"color: black; background-color: gold;\">0.05</td></tr><tr><td>Other Operating Activities</td><td>1762.09</td><td>1851.0</td><td>1925.54</td><td>2003.09</td><td>2063.45</td><td>2125.63</td><td>2168.23</td><td>2211.69</td><td>2244.91</td><td>2278.62</td></tr><tr><td>Change in Working Capital</td><td>0.0</td><td>0.0</td><td>0.0</td><td>0.0</td><td>0.0</td><td>0.0</td><td>0.0</td><td>0.0</td><td>0.0</td><td>0.0</td></tr><tr><td>Capital Expenditures</td><td>0.0</td><td>0.0</td><td>0.0</td><td>0.0</td><td>0.0</td><td>0.0</td><td>0.0</td><td>0.0</td><td>0.0</td><td>0.0</td></tr><tr><td>Taxes, Excluding Effect of Interest</td><td>0.0</td><td>0.0</td><td>0.0</td><td>0.0</td><td>0.0</td><td>0.0</td><td>0.0</td><td>0.0</td><td>0.0</td><td>0.0</td></tr><tr><td>EBITDA</td><td>0.0</td><td>0.0</td><td>0.0</td><td>0.0</td><td>0.0</td><td>0.0</td><td>0.0</td><td>0.0</td><td>0.0</td><td>0.0</td></tr><tr><td>Net Operating Profit After Tax (NOPAT)</td><td>0.0</td><td>0.0</td><td>0.0</td><td>0.0</td><td>0.0</td><td>0.0</td><td>0.0</td><td>0.0</td><td>0.0</td><td>0.0</td></tr><tr><td>Deferred Taxes</td><td>0.0</td><td>0.0</td><td>0.0</td><td>0.0</td><td>0.0</td><td>0.0</td><td>0.0</td><td>0.0</td><td>0.0</td><td>0.0</td></tr><tr><td>Annual Unlevered Free Cash Flow</td><td>0.0</td><td>0.0</td><td>0.0</td><td>0.0</td><td>0.0</td><td>0.0</td><td>0.0</td><td>0.0</td><td>0.0</td><td>0.0</td></tr><tr><td>Total Revenue</td><td>587363.33</td><td>617000.78</td><td>641848.28</td><td>667697.4</td><td>687817.32</td><td>708543.97</td><td>722744.93</td><td>737230.63</td><td>748302.31</td><td>759540.39</td></tr><tr><td>Sales per Square Foot</td><td>510.16</td><td>525.47</td><td>538.6</td><td>552.07</td><td>563.11</td><td>574.37</td><td>582.99</td><td>591.73</td><td>597.65</td><td>603.62</td></tr><tr><td>COGS and OpEx per Square Foot</td><td>489.44</td><td>504.13</td><td>516.73</td><td>529.65</td><td>540.24</td><td>551.05</td><td>559.31</td><td>567.7</td><td>573.38</td><td>579.11</td></tr><tr><td>Maintenance CapEx per Square Foot</td><td>9.36</td><td>9.64</td><td>9.89</td><td>10.13</td><td>10.34</td><td>10.54</td><td>10.7</td><td>10.86</td><td>10.97</td><td>11.08</td></tr><tr><td>D&amp;A per Square Foot</td><td>10.2</td><td>10.45</td><td>10.66</td><td>10.87</td><td>11.04</td><td>11.2</td><td>11.31</td><td>11.43</td><td>11.52</td><td>11.61</td></tr><tr><td>Growth CapEx per New Square Foot</td><td style=\"color: black; background-color: gold;\">150.0</td><td>154.5</td><td>159.13</td><td>163.11</td><td>167.19</td><td>170.54</td><td>173.95</td><td>176.55</td><td>179.2</td><td>181.0</td></tr><tr><td>Other Operating Activities (% Revenue)</td><td style=\"color: black; background-color: gold;\">0.0</td><td style=\"color: black; background-color: gold;\">0.0</td><td style=\"color: black; background-color: gold;\">0.0</td><td style=\"color: black; background-color: gold;\">0.0</td><td style=\"color: black; background-color: gold;\">0.0</td><td style=\"color: black; background-color: gold;\">0.0</td><td style=\"color: black; background-color: gold;\">0.0</td><td style=\"color: black; background-color: gold;\">0.0</td><td style=\"color: black; background-color: gold;\">0.0</td><td style=\"color: black; background-color: gold;\">0.0</td></tr><tr><td>Retail Square Feet Growth Rate</td><td style=\"color: black; background-color: gold;\">0.02</td><td style=\"color: black; background-color: gold;\">0.02</td><td style=\"color: black; background-color: gold;\">0.01</td><td style=\"color: black; background-color: gold;\">0.01</td><td style=\"color: black; background-color: gold;\">0.01</td><td style=\"color: black; background-color: gold;\">0.01</td><td style=\"color: black; background-color: gold;\">0.01</td><td style=\"color: black; background-color: gold;\">0.01</td><td style=\"color: black; background-color: gold;\">0.01</td><td style=\"color: black; background-color: gold;\">0.01</td></tr><tr><td>Sales per Square Foot Growth Rate</td><td style=\"color: black; background-color: gold;\">0.03</td><td style=\"color: black; background-color: gold;\">0.03</td><td style=\"color: black; background-color: gold;\">0.03</td><td style=\"color: black; background-color: gold;\">0.03</td><td style=\"color: black; background-color: gold;\">0.02</td><td style=\"color: black; background-color: gold;\">0.02</td><td style=\"color: black; background-color: gold;\">0.01</td><td style=\"color: black; background-color: gold;\">0.01</td><td style=\"color: black; background-color: gold;\">0.01</td><td style=\"color: black; background-color: gold;\">0.01</td></tr><tr><td>COGS and OpEx per Square Foot Growth Rate</td><td style=\"color: black; background-color: gold;\">0.03</td><td style=\"color: black; background-color: gold;\">0.03</td><td style=\"color: black; background-color: gold;\">0.03</td><td style=\"color: black; background-color: gold;\">0.03</td><td style=\"color: black; background-color: gold;\">0.02</td><td style=\"color: black; background-color: gold;\">0.02</td><td style=\"color: black; background-color: gold;\">0.01</td><td style=\"color: black; background-color: gold;\">0.01</td><td style=\"color: black; background-color: gold;\">0.01</td><td style=\"color: black; background-color: gold;\">0.01</td></tr><tr><td>Maintenance CapEx per Square Foot Growth Rate</td><td style=\"color: black; background-color: gold;\">0.03</td><td style=\"color: black; background-color: gold;\">0.03</td><td style=\"color: black; background-color: gold;\">0.03</td><td style=\"color: black; background-color: gold;\">0.03</td><td style=\"color: black; background-color: gold;\">0.02</td><td style=\"color: black; background-color: gold;\">0.02</td><td style=\"color: black; background-color: gold;\">0.01</td><td style=\"color: black; background-color: gold;\">0.01</td><td style=\"color: black; background-color: gold;\">0.01</td><td style=\"color: black; background-color: gold;\">0.01</td></tr><tr><td>Growth CapEx per New Square Foot Growth Rate</td><td style=\"color: black; background-color: gold;\">None</td><td style=\"color: black; background-color: gold;\">0.03</td><td style=\"color: black; background-color: gold;\">0.03</td><td style=\"color: black; background-color: gold;\">0.03</td><td style=\"color: black; background-color: gold;\">0.03</td><td style=\"color: black; background-color: gold;\">0.02</td><td style=\"color: black; background-color: gold;\">0.02</td><td style=\"color: black; background-color: gold;\">0.01</td><td style=\"color: black; background-color: gold;\">0.01</td><td style=\"color: black; background-color: gold;\">0.01</td></tr><tr><td>Membership &amp; Other Income Growth Rate</td><td style=\"color: black; background-color: gold;\">0.03</td><td style=\"color: black; background-color: gold;\">0.03</td><td style=\"color: black; background-color: gold;\">0.03</td><td style=\"color: black; background-color: gold;\">0.03</td><td style=\"color: black; background-color: gold;\">0.02</td><td style=\"color: black; background-color: gold;\">0.02</td><td style=\"color: black; background-color: gold;\">0.01</td><td style=\"color: black; background-color: gold;\">0.01</td><td style=\"color: black; background-color: gold;\">0.01</td><td style=\"color: black; background-color: gold;\">0.01</td></tr><tr><td>Annual Unlevered Free Cash Flow Growth Rate</td><td>0.0</td><td>0.0</td><td>0.0</td><td>0.0</td><td>0.0</td><td>0.0</td><td>0.0</td><td>0.0</td><td>0.0</td><td>0.0</td></tr><tr><td>EBITDA Growth Rate</td><td>0.0</td><td>0.0</td><td>0.0</td><td>0.0</td><td>0.0</td><td>0.0</td><td>0.0</td><td>0.0</td><td>0.0</td><td>0.0</td></tr><tr><td>D&amp;A per Square Foot Growth Rate</td><td style=\"color: black; background-color: gold;\">0.03</td><td style=\"color: black; background-color: gold;\">0.03</td><td style=\"color: black; background-color: gold;\">0.02</td><td style=\"color: black; background-color: gold;\">0.02</td><td style=\"color: black; background-color: gold;\">0.01</td><td style=\"color: black; background-color: gold;\">0.01</td><td style=\"color: black; background-color: gold;\">0.01</td><td style=\"color: black; background-color: gold;\">0.01</td><td style=\"color: black; background-color: gold;\">0.01</td><td style=\"color: black; background-color: gold;\">0.01</td></tr></tbody></table></div>"
      ],
      "text/plain": [
       "<excelify._excelframe.ExcelFrame at 0x10c3c6c90>"
      ]
     },
     "execution_count": 6,
     "metadata": {},
     "output_type": "execute_result"
    }
   ],
   "source": [
    "projected_ufcf_df = el.ExcelFrame.empty(columns=historical_ufcf_df.columns, width=10)\n",
    "\n",
    "input_columns = [\n",
    "    \"Retail Square Feet Growth Rate\",\n",
    "    \"Sales per Square Foot Growth Rate\",\n",
    "    \"Maintenance CapEx per Square Foot Growth Rate\",\n",
    "    \"COGS and OpEx per Square Foot Growth Rate\",\n",
    "    \"D&A per Square Foot Growth Rate\",\n",
    "    \"Growth CapEx per New Square Foot Growth Rate\",\n",
    "    \"Membership & Other Income Growth Rate\",\n",
    "    \"% Book Taxes\",\n",
    "    \"Other Operating Activities (% Revenue)\",\n",
    "]\n",
    "inputs = [\n",
    "    [0.02, 0.02, 0.015, 0.015, 0.01, 0.01, 0.005, 0.005, 0.005, 0.005],\n",
    "    [0.03, 0.03, 0.025, 0.025, 0.02, 0.02, 0.015, 0.015, 0.01, 0.01],\n",
    "    [0.03, 0.03, 0.025, 0.025, 0.02, 0.02, 0.015, 0.015, 0.01, 0.01],\n",
    "    [0.03, 0.03, 0.025, 0.025, 0.02, 0.02, 0.015, 0.015, 0.01, 0.01],\n",
    "    [0.025, 0.025, 0.02, 0.02, 0.015, 0.015, 0.01, 0.01, 0.008, 0.008],\n",
    "    [None, 0.03, 0.03, 0.025, 0.025, 0.02, 0.02, 0.015, 0.015, 0.01],\n",
    "    [0.03, 0.03, 0.025, 0.025, 0.02, 0.02, 0.015, 0.015, 0.01, 0.01],\n",
    "    [0.075, 0.07, 0.065, 0.06, 0.055, 0.05, 0.05, 0.05, 0.05, 0.05],\n",
    "    # TODO: Get a more accurate number using sum.\n",
    "    [0.003 for _ in range(10)],\n",
    "]\n",
    "input_attr = {\"style\": \"color: black; background-color: gold;\"}\n",
    "\n",
    "\n",
    "def map(l):\n",
    "    def fn(idx):\n",
    "        return el.Constant(l[idx])\n",
    "\n",
    "    return fn\n",
    "\n",
    "\n",
    "projected_ufcf_df = projected_ufcf_df.with_columns(\n",
    "    el.Map(lambda idx: el.Constant(str(2022 + idx))).alias(\"Year\"),\n",
    "    *[\n",
    "        el.Map(map(l)).alias(col_name)\n",
    "        for col_name, l in zip(input_columns, inputs, strict=True)\n",
    "    ],\n",
    ")\n",
    "for col_name in input_columns:\n",
    "    projected_ufcf_df[col_name].set_attributes(input_attr)\n",
    "\n",
    "projected_columns = [\n",
    "    \"Growth CapEx per New Square Foot\",\n",
    "    \"Retail Square Feet\",\n",
    "    \"Sales per Square Foot\",\n",
    "    \"COGS and OpEx per Square Foot\",\n",
    "    \"Maintenance CapEx per Square Foot\",\n",
    "    \"D&A per Square Foot\",\n",
    "    \"Membership & Other Income\",\n",
    "]\n",
    "projected_ufcf_df = projected_ufcf_df.with_columns(\n",
    "    *[\n",
    "        (el.col(col).prev(1) * (el.col(f\"{col} Growth Rate\") + 1.0)).alias(col)\n",
    "        for col in projected_columns\n",
    "    ]\n",
    ")\n",
    "for col in projected_columns:\n",
    "    projected_ufcf_df[col][0] = historical_ufcf_df[col][-1].cell_expr * (\n",
    "        projected_ufcf_df[f\"{col} Growth Rate\"][0].cell_expr + el.Constant(1.0)\n",
    "    )\n",
    "\n",
    "\n",
    "projected_ufcf_df[\"Growth CapEx per New Square Foot\"][0] = 150\n",
    "projected_ufcf_df[\"Growth CapEx per New Square Foot\"][0].set_attributes(input_attr)\n",
    "\n",
    "projected_ufcf_df = projected_ufcf_df.with_columns(\n",
    "    (el.col(\"Retail Square Feet\") * el.col(\"Sales per Square Foot\")).alias(\"Net Sales\"),\n",
    "    (el.col(\"Net Sales\") + el.col(\"Membership & Other Income\")).alias(\"Total Revenue\"),\n",
    "    (\n",
    "        el.col(\"Net Sales\")\n",
    "        - el.col(\"COGS and OpEx per Square Foot\") * el.col(\"Retail Square Feet\")\n",
    "    ).alias(\"Operating Income (EBIT)\"),\n",
    "    (el.col(\"D&A per Square Foot\") * el.col(\"Retail Square Feet\")).alias(\n",
    "        \"Depreciation & Amortization\"\n",
    "    ),\n",
    "    (el.col(\"Total Revenue\") * el.col(\"Other Operating Activities (% Revenue)\")).alias(\n",
    "        \"Other Operating Activities\"\n",
    "    ),\n",
    ")\n",
    "\n",
    "projected_ufcf_df.evaluate().transpose(\n",
    "    include_header=True,\n",
    "    header_name=\"Name\",\n",
    "    column_names=[str(2022 + i) for i in range(10)],\n",
    ")"
   ]
  },
  {
   "cell_type": "markdown",
   "metadata": {},
   "source": [
    "# TODO"
   ]
  },
  {
   "cell_type": "markdown",
   "metadata": {},
   "source": [
    "1. Displaying the formula-based ExcelFrame is horribly broken - it assumes that the columns the cells refer to always exist in the table, and it's broken with transpose, too. Fix this.\n",
    "2. ~~df.select()~~\n",
    "3. df.transpose() is still a bit ugly - Is there a way to pass column names based on one of my existing columns more easily?\n",
    "4. `with_columns()` doesn't do any coping on self yet it's a modifying API - think about this.\n",
    "   1. Ideally, you'd want some sort of a shallow copy."
   ]
  },
  {
   "cell_type": "markdown",
   "metadata": {},
   "source": []
  }
 ],
 "metadata": {
  "kernelspec": {
   "display_name": "Python 3 (ipykernel)",
   "language": "python",
   "name": "python3"
  },
  "language_info": {
   "codemirror_mode": {
    "name": "ipython",
    "version": 3
   },
   "file_extension": ".py",
   "mimetype": "text/x-python",
   "name": "python",
   "nbconvert_exporter": "python",
   "pygments_lexer": "ipython3",
   "version": "3.11.11"
  }
 },
 "nbformat": 4,
 "nbformat_minor": 4
}
