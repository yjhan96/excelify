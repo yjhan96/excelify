{
 "cells": [
  {
   "cell_type": "markdown",
   "metadata": {},
   "source": [
    "# DCF Modeling"
   ]
  },
  {
   "cell_type": "code",
   "execution_count": 1,
   "metadata": {
    "execution": {
     "iopub.execute_input": "2025-05-02T01:37:22.184519Z",
     "iopub.status.busy": "2025-05-02T01:37:22.184454Z",
     "iopub.status.idle": "2025-05-02T01:37:22.312784Z",
     "shell.execute_reply": "2025-05-02T01:37:22.312493Z",
     "shell.execute_reply.started": "2025-05-02T01:37:22.184512Z"
    }
   },
   "outputs": [],
   "source": [
    "import excelify as el"
   ]
  },
  {
   "cell_type": "markdown",
   "metadata": {},
   "source": [
    "# Step 0: Assumptions"
   ]
  },
  {
   "cell_type": "code",
   "execution_count": 2,
   "metadata": {
    "execution": {
     "iopub.execute_input": "2025-05-02T01:37:22.314797Z",
     "iopub.status.busy": "2025-05-02T01:37:22.313757Z",
     "iopub.status.idle": "2025-05-02T01:37:22.320335Z",
     "shell.execute_reply": "2025-05-02T01:37:22.320093Z",
     "shell.execute_reply.started": "2025-05-02T01:37:22.314782Z"
    }
   },
   "outputs": [
    {
     "data": {
      "text/html": [
       "<div><style>\n",
       ".dataframe > thead > tr,\n",
       ".dataframe > tbody > tr {\n",
       "  text-align: right;\n",
       "  white-space: pre-wrap;\n",
       "}\n",
       "</style>\n",
       "<small>shape; (5, 2)</small><table border=\"1\" class=\"dataframe\"><thead><tr><th>Name</th><th>Constants</th></tr></thead><tbody><tr><td>Company Name</td><td>Walmart Inc.</td></tr><tr><td>Ticker</td><td>WMT</td></tr><tr><td>Current Share Price</td><td>139.43</td></tr><tr><td>Effective Tax Rate</td><td>0.32</td></tr><tr><td>Last Fiscal Year</td><td>2021-01-31</td></tr></tbody></table></div>"
      ],
      "text/plain": [
       "<excelify._excelframe.ExcelFrame at 0x7efa2022f6d0>"
      ]
     },
     "execution_count": 2,
     "metadata": {},
     "output_type": "execute_result"
    }
   ],
   "source": [
    "previous_tax_rates = [6858 / 20564, 4915 / 20116, 4281 / 11460]\n",
    "assumptions_df = el.ExcelFrame(\n",
    "    {\n",
    "        \"Company Name\": [\"Walmart Inc.\"],\n",
    "        \"Ticker\": [\"WMT\"],\n",
    "        \"Current Share Price\": [139.43],\n",
    "        \"Effective Tax Rate\": [sum(previous_tax_rates) / len(previous_tax_rates)],\n",
    "        \"Last Fiscal Year\": [\"2021-01-31\"],\n",
    "    },\n",
    ")\n",
    "assumptions_df.transpose(\n",
    "    include_header=True, header_name=\"Name\", column_names=[\"Constants\"]\n",
    ")"
   ]
  },
  {
   "cell_type": "markdown",
   "metadata": {},
   "source": [
    "## Step 1: Unlevered Free Cash Flow"
   ]
  },
  {
   "cell_type": "code",
   "execution_count": 3,
   "metadata": {
    "execution": {
     "iopub.execute_input": "2025-05-02T01:37:26.515454Z",
     "iopub.status.busy": "2025-05-02T01:37:26.514816Z",
     "iopub.status.idle": "2025-05-02T01:37:26.520471Z",
     "shell.execute_reply": "2025-05-02T01:37:26.520140Z",
     "shell.execute_reply.started": "2025-05-02T01:37:26.515408Z"
    }
   },
   "outputs": [],
   "source": [
    "def nopat(operating_income, taxes):\n",
    "    return operating_income + taxes\n",
    "\n",
    "\n",
    "def deferred_taxes(taxes, percent_book_taxes):\n",
    "    return -taxes * percent_book_taxes\n",
    "\n",
    "\n",
    "def unlevered_free_cash_flow(\n",
    "    nopat, d_and_a, deferred_taxes, other_operating, change_in_working_capial, capex\n",
    "):\n",
    "    return (\n",
    "        nopat\n",
    "        + d_and_a\n",
    "        + deferred_taxes\n",
    "        + other_operating\n",
    "        + change_in_working_capial\n",
    "        + capex\n",
    "    )"
   ]
  },
  {
   "cell_type": "code",
   "execution_count": 4,
   "metadata": {
    "execution": {
     "iopub.execute_input": "2025-05-02T01:37:26.833118Z",
     "iopub.status.busy": "2025-05-02T01:37:26.832752Z",
     "iopub.status.idle": "2025-05-02T01:37:26.843850Z",
     "shell.execute_reply": "2025-05-02T01:37:26.843580Z",
     "shell.execute_reply.started": "2025-05-02T01:37:26.833091Z"
    }
   },
   "outputs": [
    {
     "data": {
      "text/html": [
       "<div><style>\n",
       ".dataframe > thead > tr,\n",
       ".dataframe > tbody > tr {\n",
       "  text-align: right;\n",
       "  white-space: pre-wrap;\n",
       "}\n",
       "</style>\n",
       "<small>shape; (13, 4)</small><table border=\"1\" class=\"dataframe\"><thead><tr><th>Name</th><th>2019</th><th>2020</th><th>2021</th></tr></thead><tbody><tr><td>Year</td><td>2019.0</td><td>2020.0</td><td>2021.0</td></tr><tr><td>Net Sales</td><td>510329.0</td><td>519926.0</td><td>555233.0</td></tr><tr><td>Membership &amp; Other Income</td><td>4076.0</td><td>4038.0</td><td>3918.0</td></tr><tr><td>Operating Income (EBIT)</td><td>21957.0</td><td>20568.0</td><td>22548.0</td></tr><tr><td>Depreciation &amp; Amortization</td><td>10678.0</td><td>10987.0</td><td>11152.0</td></tr><tr><td>% Book Taxes</td><td>-0.12</td><td>0.07</td><td>0.28</td></tr><tr><td>Other Operating Activities</td><td>1734.0</td><td>1981.0</td><td>1521.0</td></tr><tr><td>Change in Working Capital</td><td>295.0</td><td>-327.0</td><td>7972.0</td></tr><tr><td>Capital Expenditures</td><td>-10344.0</td><td>-10705.0</td><td>-10264.0</td></tr><tr><td>Taxes, Excluding Effect of Interest</td><td>-6963.21</td><td>-6522.72</td><td>-7150.64</td></tr><tr><td>Net Operating Profit After Tax (NOPAT)</td><td>14993.79</td><td>14045.28</td><td>15397.36</td></tr><tr><td>Deferred Taxes</td><td>-811.64</td><td>424.67</td><td>1992.54</td></tr><tr><td>Annual Unlevered Free Cash Flow</td><td>16545.14</td><td>16405.95</td><td>27770.91</td></tr></tbody></table></div>"
      ],
      "text/plain": [
       "<excelify._excelframe.ExcelFrame at 0x7efa20257850>"
      ]
     },
     "execution_count": 4,
     "metadata": {},
     "output_type": "execute_result"
    }
   ],
   "source": [
    "historical_ufcf_df = el.ExcelFrame(\n",
    "    {\n",
    "        \"Year\": [\"2019\", \"2020\", \"2021\"],\n",
    "        \"Net Sales\": [510_329.0, 519_926.0, 555_233.0],\n",
    "        \"Membership & Other Income\": [4076.0, 4038.0, 3918.0],\n",
    "        \"Operating Income (EBIT)\": [21_957.0, 20_568.0, 22_548.0],\n",
    "        \"Depreciation & Amortization\": [10_678.0, 10_987.0, 11_152.0],\n",
    "        \"% Book Taxes\": [-499 / 4281, 320 / 4915, 1911 / 6858],\n",
    "        \"Other Operating Activities\": [1_734, 1_981, 1_521],\n",
    "        \"Change in Working Capital\": [295, -327, 7972],\n",
    "        \"Capital Expenditures\": [-10_344, -10_705, -10_264],\n",
    "    }\n",
    ")\n",
    "\n",
    "historical_ufcf_df = historical_ufcf_df.with_columns(\n",
    "    (\n",
    "        -el.col(\"Operating Income (EBIT)\")\n",
    "        * el.SingleCellExpr(assumptions_df[\"Effective Tax Rate\"][0])\n",
    "    ).alias(\"Taxes, Excluding Effect of Interest\"),\n",
    ")\n",
    "\n",
    "historical_ufcf_df = historical_ufcf_df.with_columns(\n",
    "    nopat(\n",
    "        el.col(\"Operating Income (EBIT)\"),\n",
    "        el.col(\"Taxes, Excluding Effect of Interest\"),\n",
    "    ).alias(\"Net Operating Profit After Tax (NOPAT)\"),\n",
    "    deferred_taxes(\n",
    "        el.col(\"Taxes, Excluding Effect of Interest\"),\n",
    "        el.col(\"% Book Taxes\"),\n",
    "    ).alias(\"Deferred Taxes\"),\n",
    ")\n",
    "\n",
    "historical_ufcf_df = historical_ufcf_df.with_columns(\n",
    "    unlevered_free_cash_flow(\n",
    "        el.col(\"Net Operating Profit After Tax (NOPAT)\"),\n",
    "        el.col(\"Depreciation & Amortization\"),\n",
    "        el.col(\"Deferred Taxes\"),\n",
    "        el.col(\"Other Operating Activities\"),\n",
    "        el.col(\"Change in Working Capital\"),\n",
    "        el.col(\"Capital Expenditures\"),\n",
    "    ).alias(\"Annual Unlevered Free Cash Flow\"),\n",
    ")\n",
    "\n",
    "historical_ufcf_df.evaluate().transpose(\n",
    "    include_header=True, header_name=\"Name\", column_names=[\"2019\", \"2020\", \"2021\"]\n",
    ")"
   ]
  },
  {
   "cell_type": "code",
   "execution_count": null,
   "metadata": {},
   "outputs": [],
   "source": []
  }
 ],
 "metadata": {
  "kernelspec": {
   "display_name": "Python 3 (ipykernel)",
   "language": "python",
   "name": "python3"
  },
  "language_info": {
   "codemirror_mode": {
    "name": "ipython",
    "version": 3
   },
   "file_extension": ".py",
   "mimetype": "text/x-python",
   "name": "python",
   "nbconvert_exporter": "python",
   "pygments_lexer": "ipython3",
   "version": "3.11.11"
  }
 },
 "nbformat": 4,
 "nbformat_minor": 4
}
