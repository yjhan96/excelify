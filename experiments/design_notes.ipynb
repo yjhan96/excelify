{
 "cells": [
  {
   "cell_type": "markdown",
   "id": "e55163ea-ca6e-4c14-8bfe-eda8531dfede",
   "metadata": {},
   "source": [
    "# Design Notes"
   ]
  },
  {
   "cell_type": "markdown",
   "id": "038ceb9f-1efd-4ef6-b93e-80c83163c71c",
   "metadata": {},
   "source": [
    "## Definine the order of the columns"
   ]
  },
  {
   "cell_type": "markdown",
   "id": "1281ddaa-279d-4545-9406-fad82cb057cb",
   "metadata": {},
   "source": [
    "```python\n",
    "df = el.ExcelFrame({...})\n",
    "revenues = [...]\n",
    "expenditures = [...]\n",
    "net_profit = [...]\n",
    "column_orders = revenues + expenditures, net_profit\n",
    "df = df.select(column_orders)\n",
    "```"
   ]
  },
  {
   "cell_type": "markdown",
   "id": "1278c99d-c32b-41e2-a5c9-45f1824dd5d5",
   "metadata": {},
   "source": [
    "## Defining an empty column (Add row in Excel)"
   ]
  },
  {
   "cell_type": "markdown",
   "id": "a435949b-76e7-46ec-8724-90a1400f2636",
   "metadata": {},
   "source": [
    "```python\n",
    "df = df.with_column(el.Empty().alias(\"x\"))\n",
    "# Why not this?\n",
    "df[\"x\"] = el.Empty()\n",
    "```"
   ]
  },
  {
   "cell_type": "markdown",
   "id": "ad6b1359-2486-47ca-927a-98ca29629cb2",
   "metadata": {},
   "source": [
    "## One-off Cell Modification"
   ]
  },
  {
   "cell_type": "markdown",
   "id": "daa50c2b-bda8-4c0a-8a1f-0cc421f21591",
   "metadata": {},
   "source": [
    "```python\n",
    "df1[col][idx] = df2[col][-1] * df1[gr_col][idx]\n",
    "```"
   ]
  },
  {
   "cell_type": "markdown",
   "id": "185578be-011f-4de3-8ba2-ca9898d65191",
   "metadata": {},
   "source": [
    "## Slicing Expression"
   ]
  },
  {
   "cell_type": "markdown",
   "id": "53705381-5763-42f3-b476-26f252d0d301",
   "metadata": {},
   "source": [
    "```python\n",
    "# If the column isn't defined yet, undefined cells are empty by default.\n",
    "df = df.with_column((el.Col(\"x\").prev(1) * el.Col(\"y\")).alias(\"z\").range(1))\n",
    "```"
   ]
  },
  {
   "cell_type": "markdown",
   "id": "36d4b4d5-399f-49a8-a128-8ccfb93bac97",
   "metadata": {},
   "source": [
    "## Sum of multiple columns"
   ]
  },
  {
   "cell_type": "markdown",
   "id": "94e24c2c-b701-4406-acae-f1ce82bf0b53",
   "metadata": {},
   "source": [
    "```python\n",
    "revenue_cols = [el.col(\"x\"), el.col(\"y\"), el.col(\"z\")]\n",
    "df = df.with_column(el.sum(revenue_cols))\n",
    "# When df gets written to excel, we should try to use SUM instead of (+) operator too many times.\n",
    "```"
   ]
  },
  {
   "cell_type": "markdown",
   "id": "d9e1ebe6-6c5f-4e65-98f5-186e39e2d04f",
   "metadata": {},
   "source": [
    "## Joins?"
   ]
  },
  {
   "cell_type": "markdown",
   "id": "92d4b9c4-ed36-41b4-94cc-8bd4cbebbfb2",
   "metadata": {},
   "source": [
    "Come back to this later."
   ]
  },
  {
   "cell_type": "markdown",
   "id": "1afc8926-ef7f-43b1-9ff1-dcae660d3a6e",
   "metadata": {},
   "source": [
    "## Should ExcelFrame be only 2-dimensional? Probably yes?"
   ]
  },
  {
   "cell_type": "markdown",
   "id": "cb153dd8-d379-4e4a-b38e-017c75050dc4",
   "metadata": {},
   "source": [
    "## Pseudocode"
   ]
  },
  {
   "cell_type": "markdown",
   "id": "a18f97c4-2804-4b00-bfbc-1f904991fc90",
   "metadata": {},
   "source": [
    "```python\n",
    "historical_df = el.ExcelFrame({...})\n",
    "\n",
    "historical_df = historical_df.with_columns(\n",
    "    (el.col(\"net sales\") / el.col(\"retail square foot\")).alias(\"Sales per Square Foot\"),\n",
    "    ...\n",
    ")\n",
    "```"
   ]
  },
  {
   "cell_type": "markdown",
   "id": "3c7433ff-56a5-49b2-840c-7e977ab8a3d2",
   "metadata": {},
   "source": [
    "```python\n",
    "projected_df = el.ExcelFrame({\n",
    "    \"retail square foot growth rate\": [...],\n",
    "    ...,\n",
    "})\n",
    "\n",
    "for col in columns:\n",
    "    projected_df[col][0] = historical_df[col][-1] * projected_df[col][0]\n",
    "\n",
    "projected_df = projected_df.with_column(\n",
    "    *[(el.col(col).prev(1) * el.col(gr_col)).alias(col).range(1) for col in columns]\n",
    ")\n",
    "```"
   ]
  },
  {
   "cell_type": "markdown",
   "id": "245ce87b-2165-4c03-84dc-9a4b566d8d15",
   "metadata": {},
   "source": [
    "```python\n",
    "historical_df = historical_df.select(ordered_columns)\n",
    "projected_df = projected_df.select(ordered_columns)\n",
    "```"
   ]
  },
  {
   "cell_type": "markdown",
   "id": "1a71b020-6e2e-4184-be01-3409f9c9cfe6",
   "metadata": {},
   "source": [
    "```python\n",
    "with el.open_excel(path) as f:\n",
    "    f.write_df(historical_df, start_pos=(x, y))\n",
    "    f.write_df(projected_df, start_pos=(x, y), hid_columns=True)\n",
    "```"
   ]
  },
  {
   "cell_type": "markdown",
   "id": "664a5b51-f7a2-4fb6-b405-b0e7b449fda6",
   "metadata": {},
   "source": [
    "```python\n",
    "historical_df.write_excel(path, start_pos = (x, y))\n",
    "projected_df.write_excel(path, start_pos = (x2, y2))\n",
    "```"
   ]
  },
  {
   "cell_type": "code",
   "execution_count": null,
   "id": "cb15e07d-4575-4203-a7fd-64402a8f871f",
   "metadata": {},
   "outputs": [],
   "source": []
  }
 ],
 "metadata": {
  "kernelspec": {
   "display_name": "Python 3 (ipykernel)",
   "language": "python",
   "name": "python3"
  },
  "language_info": {
   "codemirror_mode": {
    "name": "ipython",
    "version": 3
   },
   "file_extension": ".py",
   "mimetype": "text/x-python",
   "name": "python",
   "nbconvert_exporter": "python",
   "pygments_lexer": "ipython3",
   "version": "3.11.11"
  }
 },
 "nbformat": 4,
 "nbformat_minor": 5
}
