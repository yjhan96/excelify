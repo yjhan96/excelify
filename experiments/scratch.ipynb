{
 "cells": [
  {
   "cell_type": "code",
   "execution_count": 1,
   "metadata": {
    "execution": {
     "iopub.execute_input": "2025-04-21T02:03:41.837347Z",
     "iopub.status.busy": "2025-04-21T02:03:41.836999Z",
     "iopub.status.idle": "2025-04-21T02:03:41.978550Z",
     "shell.execute_reply": "2025-04-21T02:03:41.977951Z",
     "shell.execute_reply.started": "2025-04-21T02:03:41.837319Z"
    }
   },
   "outputs": [],
   "source": [
    "import excelify as el\n",
    "import polars as pl\n",
    "import numpy as np"
   ]
  },
  {
   "cell_type": "markdown",
   "metadata": {},
   "source": [
    "### Scratch"
   ]
  },
  {
   "cell_type": "code",
   "execution_count": 11,
   "metadata": {
    "execution": {
     "iopub.execute_input": "2025-04-21T02:10:11.838133Z",
     "iopub.status.busy": "2025-04-21T02:10:11.837777Z",
     "iopub.status.idle": "2025-04-21T02:10:11.842857Z",
     "shell.execute_reply": "2025-04-21T02:10:11.841939Z",
     "shell.execute_reply.started": "2025-04-21T02:10:11.838108Z"
    }
   },
   "outputs": [],
   "source": [
    "df = el.ExcelFrame({\n",
    "    \"x\": [1, 2, 3]\n",
    "})"
   ]
  },
  {
   "cell_type": "code",
   "execution_count": 12,
   "metadata": {
    "execution": {
     "iopub.execute_input": "2025-04-21T02:10:12.529008Z",
     "iopub.status.busy": "2025-04-21T02:10:12.528607Z",
     "iopub.status.idle": "2025-04-21T02:10:12.534763Z",
     "shell.execute_reply": "2025-04-21T02:10:12.533542Z",
     "shell.execute_reply.started": "2025-04-21T02:10:12.528976Z"
    }
   },
   "outputs": [],
   "source": [
    "df = df.with_columns(el.Col(\"x\").alias(\"y\"))"
   ]
  },
  {
   "cell_type": "code",
   "execution_count": 4,
   "metadata": {
    "execution": {
     "iopub.execute_input": "2025-04-21T02:03:43.769058Z",
     "iopub.status.busy": "2025-04-21T02:03:43.768694Z",
     "iopub.status.idle": "2025-04-21T02:03:43.776494Z",
     "shell.execute_reply": "2025-04-21T02:03:43.776154Z",
     "shell.execute_reply.started": "2025-04-21T02:03:43.769029Z"
    }
   },
   "outputs": [
    {
     "data": {
      "text/html": [
       "<div><style>\n",
       ".dataframe > thead > tr,\n",
       ".dataframe > tbody > tr {\n",
       "  text-align: right;\n",
       "  white-space: pre-wrap;\n",
       "}\n",
       "</style>\n",
       "<small>shape; (3, 2)</small><table border=\"1\" class=\"dataframe\"><thead><tr><th>x</th><th>y</th></tr></thead><tbody><tr><td>1</td><td>1</td></tr><tr><td>2</td><td>2</td></tr><tr><td>3</td><td>3</td></tr></tbody></table></div>"
      ],
      "text/plain": [
       "<excelify._excelframe.ExcelFrame at 0x73d22419b690>"
      ]
     },
     "execution_count": 4,
     "metadata": {},
     "output_type": "execute_result"
    }
   ],
   "source": [
    "df.evaluate()"
   ]
  },
  {
   "cell_type": "code",
   "execution_count": 5,
   "metadata": {
    "execution": {
     "iopub.execute_input": "2025-04-20T14:58:27.328659Z",
     "iopub.status.busy": "2025-04-20T14:58:27.328230Z",
     "iopub.status.idle": "2025-04-20T14:58:27.335480Z",
     "shell.execute_reply": "2025-04-20T14:58:27.334120Z",
     "shell.execute_reply.started": "2025-04-20T14:58:27.328625Z"
    }
   },
   "outputs": [],
   "source": [
    "df = df.with_columns(el.Col(\"y\").prev(1).alias(\"z\"))"
   ]
  },
  {
   "cell_type": "code",
   "execution_count": 14,
   "metadata": {
    "execution": {
     "iopub.execute_input": "2025-04-21T02:10:18.061981Z",
     "iopub.status.busy": "2025-04-21T02:10:18.061855Z",
     "iopub.status.idle": "2025-04-21T02:10:18.064829Z",
     "shell.execute_reply": "2025-04-21T02:10:18.064308Z",
     "shell.execute_reply.started": "2025-04-21T02:10:18.061973Z"
    }
   },
   "outputs": [
    {
     "data": {
      "text/html": [
       "<div><style>\n",
       ".dataframe > thead > tr,\n",
       ".dataframe > tbody > tr {\n",
       "  text-align: right;\n",
       "  white-space: pre-wrap;\n",
       "}\n",
       "</style>\n",
       "<small>shape; (3, 3)</small><table border=\"1\" class=\"dataframe\"><thead><tr><th>x</th><th>y</th><th>z</th></tr></thead><tbody><tr><td>1</td><td>1</td><td>1</td></tr><tr><td>2</td><td>2</td><td>4</td></tr><tr><td>3</td><td>3</td><td>9</td></tr></tbody></table></div>"
      ],
      "text/plain": [
       "<excelify._excelframe.ExcelFrame at 0x73d22419ac50>"
      ]
     },
     "execution_count": 14,
     "metadata": {},
     "output_type": "execute_result"
    }
   ],
   "source": [
    "df.evaluate()"
   ]
  },
  {
   "cell_type": "code",
   "execution_count": 15,
   "metadata": {
    "execution": {
     "iopub.execute_input": "2025-04-21T02:10:19.306555Z",
     "iopub.status.busy": "2025-04-21T02:10:19.306154Z",
     "iopub.status.idle": "2025-04-21T02:10:19.319760Z",
     "shell.execute_reply": "2025-04-21T02:10:19.319246Z",
     "shell.execute_reply.started": "2025-04-21T02:10:19.306524Z"
    }
   },
   "outputs": [],
   "source": [
    "df.to_excel(\"example.xlsx\")"
   ]
  },
  {
   "cell_type": "markdown",
   "metadata": {},
   "source": [
    "### Design\n",
    "\n",
    "Programmable Excel - Maybe a better VBA\n",
    "\n",
    "Why is this different from dataframes?\n",
    "Dataframe is not a DAG computation graph, but Excel is. But Excel looks very similar to Dataframe in a way that it's tabular.\n",
    "\n",
    "So I'd like to build a python library that makes it easier to define an excel-like table, like:\n",
    "\n",
    "```python\n",
    "\n",
    "df = el.excelFrame({\"x\": [1, 2, 3]})\n",
    "df = df.with_columns(\n",
    "    # It'll define \"y\" as \"x\" column cell * 2 for each row.\n",
    "    (el.col(\"x\") * 2).alias(\"y\"),\n",
    "    # This is a common financial excel pattern (e.g. previous earnings * expected growth rate).\n",
    "    (el.col(\"y\").prev(1) * el.col(\"x\")).alias(\"z\"),\n",
    "    # Empty column.\n",
    "    (el.empty()).alias(\"empty_col\")\n",
    ")\n",
    "\n",
    "df[\"empty_col\"][2] = df[\"x\"][0] + df[\"y\"][0]\n",
    "df[\"y\"][:3].clear()\n",
    "\n",
    "df.write_excel()\n",
    "\n",
    "```"
   ]
  },
  {
   "cell_type": "markdown",
   "metadata": {},
   "source": [
    "## DCF using Python"
   ]
  },
  {
   "cell_type": "markdown",
   "metadata": {},
   "source": [
    "### Step 1: Raw Input Data"
   ]
  },
  {
   "cell_type": "code",
   "execution_count": 1,
   "metadata": {
    "execution": {
     "iopub.execute_input": "2025-04-23T01:00:17.785030Z",
     "iopub.status.busy": "2025-04-23T01:00:17.784680Z",
     "iopub.status.idle": "2025-04-23T01:00:17.893755Z",
     "shell.execute_reply": "2025-04-23T01:00:17.893516Z",
     "shell.execute_reply.started": "2025-04-23T01:00:17.785002Z"
    }
   },
   "outputs": [],
   "source": [
    "import excelify as el\n",
    "import numpy as np"
   ]
  },
  {
   "cell_type": "code",
   "execution_count": 2,
   "metadata": {
    "execution": {
     "iopub.execute_input": "2025-04-23T01:00:17.939911Z",
     "iopub.status.busy": "2025-04-23T01:00:17.939737Z",
     "iopub.status.idle": "2025-04-23T01:00:17.942781Z",
     "shell.execute_reply": "2025-04-23T01:00:17.942324Z",
     "shell.execute_reply.started": "2025-04-23T01:00:17.939902Z"
    }
   },
   "outputs": [],
   "source": [
    "start_year = 2019\n",
    "tax_rates = [6858. / 20564., 4915. / 20116., 4281. / 11460.]\n",
    "effective_tax_rate = sum(tax_rates) / len(tax_rates)"
   ]
  },
  {
   "cell_type": "code",
   "execution_count": 3,
   "metadata": {
    "execution": {
     "iopub.execute_input": "2025-04-23T01:00:18.120179Z",
     "iopub.status.busy": "2025-04-23T01:00:18.119726Z",
     "iopub.status.idle": "2025-04-23T01:00:18.128362Z",
     "shell.execute_reply": "2025-04-23T01:00:18.127224Z",
     "shell.execute_reply.started": "2025-04-23T01:00:18.120145Z"
    }
   },
   "outputs": [],
   "source": [
    "df = el.ExcelFrame(\n",
    "    {\n",
    "        \"Year\": [f\"FY{(start_year + i) % 100}\" for i in range(3)],\n",
    "        \"Retail Square Foot\": [1129, 1129, 1121],\n",
    "        \"Net Sales\": [510_329, 519_926, 555_233],\n",
    "        \"Membership & Other Income\": [4076, 4038, 3918],\n",
    "        \"Operating Income (EBIT)\": [21_957, 20_568, 22_548],\n",
    "        \"Capital Expenditures\": [-10_344, -10_705, -10_264],\n",
    "        \"Depreciation & Amortization\": [10_678, 10_987, 11_152],\n",
    "    }\n",
    ")\n",
    "fy18_retail_square_foot = 1158"
   ]
  },
  {
   "cell_type": "code",
   "execution_count": 4,
   "metadata": {
    "execution": {
     "iopub.execute_input": "2025-04-23T01:00:18.305111Z",
     "iopub.status.busy": "2025-04-23T01:00:18.304688Z",
     "iopub.status.idle": "2025-04-23T01:00:18.309480Z",
     "shell.execute_reply": "2025-04-23T01:00:18.309260Z",
     "shell.execute_reply.started": "2025-04-23T01:00:18.305086Z"
    }
   },
   "outputs": [
    {
     "data": {
      "text/html": [
       "<div><style>\n",
       ".dataframe > thead > tr,\n",
       ".dataframe > tbody > tr {\n",
       "  text-align: right;\n",
       "  white-space: pre-wrap;\n",
       "}\n",
       "</style>\n",
       "<small>shape; (3, 7)</small><table border=\"1\" class=\"dataframe\"><thead><tr><th>Year</th><th>Retail Square Foot</th><th>Net Sales</th><th>Membership &amp; Other Income</th><th>Operating Income (EBIT)</th><th>Capital Expenditures</th><th>Depreciation &amp; Amortization</th></tr></thead><tbody><tr><td>FY19</td><td>1129</td><td>510329</td><td>4076</td><td>21957</td><td>-10344</td><td>10678</td></tr><tr><td>FY20</td><td>1129</td><td>519926</td><td>4038</td><td>20568</td><td>-10705</td><td>10987</td></tr><tr><td>FY21</td><td>1121</td><td>555233</td><td>3918</td><td>22548</td><td>-10264</td><td>11152</td></tr></tbody></table></div>"
      ],
      "text/plain": [
       "<excelify._excelframe.ExcelFrame at 0x71f11c975990>"
      ]
     },
     "execution_count": 4,
     "metadata": {},
     "output_type": "execute_result"
    }
   ],
   "source": [
    "df"
   ]
  },
  {
   "cell_type": "code",
   "execution_count": 5,
   "metadata": {
    "execution": {
     "iopub.execute_input": "2025-04-23T01:00:18.482137Z",
     "iopub.status.busy": "2025-04-23T01:00:18.481698Z",
     "iopub.status.idle": "2025-04-23T01:00:18.486845Z",
     "shell.execute_reply": "2025-04-23T01:00:18.486330Z",
     "shell.execute_reply.started": "2025-04-23T01:00:18.482104Z"
    }
   },
   "outputs": [],
   "source": [
    "[quarter, retail_square_foot, net_sales, other_income, ebit, capex, d_and_a] = [\n",
    "    el.col(c) for c in df.columns\n",
    "]"
   ]
  },
  {
   "cell_type": "code",
   "execution_count": 6,
   "metadata": {
    "execution": {
     "iopub.execute_input": "2025-04-23T01:00:18.656526Z",
     "iopub.status.busy": "2025-04-23T01:00:18.656095Z",
     "iopub.status.idle": "2025-04-23T01:00:18.664813Z",
     "shell.execute_reply": "2025-04-23T01:00:18.663905Z",
     "shell.execute_reply.started": "2025-04-23T01:00:18.656492Z"
    }
   },
   "outputs": [],
   "source": [
    "df = df.with_columns(\n",
    "    (net_sales / retail_square_foot).alias(\"Sales per Square Foot\"),\n",
    "    ((net_sales - ebit) / retail_square_foot).alias(\"COGS and OpEx per Square Foot\"),\n",
    "    (-capex / retail_square_foot.prev(1)).alias(\"Maintenance CapEx per Square Foot\"),\n",
    "    (d_and_a / retail_square_foot).alias(\"D&A per Square Foot\"),\n",
    "    (net_sales + other_income).alias(\"Total Revenue\"),\n",
    "    (-ebit * effective_tax_rate).alias(\"(-) Taxes, Excluding Effect of Interest:\"),\n",
    ")\n",
    "df = df.with_columns(\n",
    "    (el.col(\"(-) Taxes, Excluding Effect of Interest:\") + ebit).alias(\n",
    "        \"Net Operating Profit After Tax (NOPAT)\"\n",
    "    ),\n",
    ")\n",
    "df[\"Maintenance CapEx per Square Foot\"][0] = -df[\"Capital Expenditures\"][0] / el.Constant(fy18_retail_square_foot)"
   ]
  },
  {
   "cell_type": "code",
   "execution_count": 7,
   "metadata": {
    "execution": {
     "iopub.execute_input": "2025-04-23T01:00:18.833192Z",
     "iopub.status.busy": "2025-04-23T01:00:18.832731Z",
     "iopub.status.idle": "2025-04-23T01:00:18.842304Z",
     "shell.execute_reply": "2025-04-23T01:00:18.841185Z",
     "shell.execute_reply.started": "2025-04-23T01:00:18.833158Z"
    }
   },
   "outputs": [
    {
     "data": {
      "text/html": [
       "<div><style>\n",
       ".dataframe > thead > tr,\n",
       ".dataframe > tbody > tr {\n",
       "  text-align: right;\n",
       "  white-space: pre-wrap;\n",
       "}\n",
       "</style>\n",
       "<small>shape; (3, 14)</small><table border=\"1\" class=\"dataframe\"><thead><tr><th>Year</th><th>Retail Square Foot</th><th>Net Sales</th><th>Membership &amp; Other Income</th><th>Operating Income (EBIT)</th><th>Capital Expenditures</th><th>Depreciation &amp; Amortization</th><th>Sales per Square Foot</th><th>COGS and OpEx per Square Foot</th><th>Maintenance CapEx per Square Foot</th><th>D&amp;A per Square Foot</th><th>Total Revenue</th><th>(-) Taxes, Excluding Effect of Interest:</th><th>Net Operating Profit After Tax (NOPAT)</th></tr></thead><tbody><tr><td>FY19</td><td>1129</td><td>510329</td><td>4076</td><td>21957</td><td>-10344</td><td>10678</td><td>452.0186005314438</td><td>432.5704162976085</td><td>8.932642487046632</td><td>9.45792736935341</td><td>514405</td><td>-6963.212487758894</td><td>14993.787512241106</td></tr><tr><td>FY20</td><td>1129</td><td>519926</td><td>4038</td><td>20568</td><td>-10705</td><td>10987</td><td>460.51904340124</td><td>442.30115146147034</td><td>9.481842338352525</td><td>9.731620903454385</td><td>523964</td><td>-6522.719608699956</td><td>14045.280391300044</td></tr><tr><td>FY21</td><td>1121</td><td>555233</td><td>3918</td><td>22548</td><td>-10264</td><td>11152</td><td>495.30151650312223</td><td>475.18733273862625</td><td>9.091231178033658</td><td>9.948260481712756</td><td>559151</td><td>-7150.6360237731715</td><td>15397.363976226829</td></tr></tbody></table></div>"
      ],
      "text/plain": [
       "<excelify._excelframe.ExcelFrame at 0x71f163f36e50>"
      ]
     },
     "execution_count": 7,
     "metadata": {},
     "output_type": "execute_result"
    }
   ],
   "source": [
    "df.evaluate()"
   ]
  },
  {
   "cell_type": "markdown",
   "metadata": {},
   "source": [
    "### Step 2: Projections"
   ]
  },
  {
   "cell_type": "markdown",
   "metadata": {},
   "source": [
    "TODO: Think about how to organize these user inputs more nicely."
   ]
  },
  {
   "cell_type": "code",
   "execution_count": 8,
   "metadata": {
    "execution": {
     "iopub.execute_input": "2025-04-23T01:00:19.328784Z",
     "iopub.status.busy": "2025-04-23T01:00:19.328402Z",
     "iopub.status.idle": "2025-04-23T01:00:19.332110Z",
     "shell.execute_reply": "2025-04-23T01:00:19.331926Z",
     "shell.execute_reply.started": "2025-04-23T01:00:19.328754Z"
    }
   },
   "outputs": [],
   "source": [
    "num_projecting_years = 10"
   ]
  },
  {
   "cell_type": "code",
   "execution_count": 9,
   "metadata": {
    "execution": {
     "iopub.execute_input": "2025-04-23T01:00:19.503225Z",
     "iopub.status.busy": "2025-04-23T01:00:19.502878Z",
     "iopub.status.idle": "2025-04-23T01:00:19.510725Z",
     "shell.execute_reply": "2025-04-23T01:00:19.509914Z",
     "shell.execute_reply.started": "2025-04-23T01:00:19.503198Z"
    }
   },
   "outputs": [],
   "source": [
    "projected_years = [f\"FY{22 + i}\" for i in range(10)]\n",
    "retail_square_foot_gr = [0.02] * 2 + [0.015] * 2 + [0.01] * 2 + [0.005] * 4\n",
    "sales_per_sqft_gr = [0.03] * 2 + [0.025] * 2 + [0.02] * 2 + [0.015] * 2 + [0.01] * 2\n",
    "cogs_and_opex_per_sqft_gr = sales_per_sqft_gr\n",
    "maintenance_capex_per_sqft_gr = sales_per_sqft_gr\n",
    "d_and_a_per_sqft_gr = [0.025] * 2 + [0.02] * 2 + [0.015] * 2 + [0.01] * 2 + [0.008] * 2\n",
    "initial_growth_capex_per_sqft = 150.\n",
    "growth_capex_per_sqft_gr = [np.nan] + [0.03] * 2 + [0.025] * 2 + [0.02] * 2 + [0.015] * 2 + [0.01]\n",
    "membersip_and_other_income_gr = [0.03] * 2 + [0.025] * 2 + [0.02] * 2 + [0.015] * 2 + [0.01] * 2"
   ]
  },
  {
   "cell_type": "code",
   "execution_count": 44,
   "metadata": {
    "execution": {
     "iopub.execute_input": "2025-04-23T01:22:36.513339Z",
     "iopub.status.busy": "2025-04-23T01:22:36.513183Z",
     "iopub.status.idle": "2025-04-23T01:22:36.516950Z",
     "shell.execute_reply": "2025-04-23T01:22:36.516570Z",
     "shell.execute_reply.started": "2025-04-23T01:22:36.513330Z"
    }
   },
   "outputs": [
    {
     "data": {
      "text/html": [
       "<div><style>\n",
       ".dataframe > thead > tr,\n",
       ".dataframe > tbody > tr {\n",
       "  text-align: right;\n",
       "  white-space: pre-wrap;\n",
       "}\n",
       "</style>\n",
       "<small>shape; (10, 8)</small><table border=\"1\" class=\"dataframe\"><thead><tr><th>Year</th><th>Retail Square Foot Growth Rate</th><th>Sales per Square Foot Growth Rate</th><th>COGS and OpEx per Square Foot Growth Rate</th><th>Maintenance CapEx per Square Foot Growth Rate</th><th>D&amp;A per Square Foot Growth Rate</th><th>Growth CapEx per New Square Foot Growth Rate</th><th>Membership &amp; Other Income Growth Rate</th></tr></thead><tbody><tr><td>FY22</td><td>0.02</td><td>0.03</td><td>0.03</td><td>0.03</td><td>0.025</td><td>nan</td><td>0.03</td></tr><tr><td>FY23</td><td>0.02</td><td>0.03</td><td>0.03</td><td>0.03</td><td>0.025</td><td>0.03</td><td>0.03</td></tr><tr><td>FY24</td><td>0.015</td><td>0.025</td><td>0.025</td><td>0.025</td><td>0.02</td><td>0.03</td><td>0.025</td></tr><tr><td>FY25</td><td>0.015</td><td>0.025</td><td>0.025</td><td>0.025</td><td>0.02</td><td>0.025</td><td>0.025</td></tr><tr><td>FY26</td><td>0.01</td><td>0.02</td><td>0.02</td><td>0.02</td><td>0.015</td><td>0.025</td><td>0.02</td></tr><tr><td>FY27</td><td>0.01</td><td>0.02</td><td>0.02</td><td>0.02</td><td>0.015</td><td>0.02</td><td>0.02</td></tr><tr><td>FY28</td><td>0.005</td><td>0.015</td><td>0.015</td><td>0.015</td><td>0.01</td><td>0.02</td><td>0.015</td></tr><tr><td>FY29</td><td>0.005</td><td>0.015</td><td>0.015</td><td>0.015</td><td>0.01</td><td>0.015</td><td>0.015</td></tr><tr><td>FY30</td><td>0.005</td><td>0.01</td><td>0.01</td><td>0.01</td><td>0.008</td><td>0.015</td><td>0.01</td></tr><tr><td>FY31</td><td>0.005</td><td>0.01</td><td>0.01</td><td>0.01</td><td>0.008</td><td>0.01</td><td>0.01</td></tr></tbody></table></div>"
      ],
      "text/plain": [
       "<excelify._excelframe.ExcelFrame at 0x71f17c1d8d90>"
      ]
     },
     "execution_count": 44,
     "metadata": {},
     "output_type": "execute_result"
    }
   ],
   "source": [
    "manual_inputs = el.ExcelFrame(\n",
    "    {\n",
    "        \"Year\": projected_years,\n",
    "        \"Retail Square Foot Growth Rate\": retail_square_foot_gr,\n",
    "        \"Sales per Square Foot Growth Rate\": sales_per_sqft_gr,\n",
    "        \"COGS and OpEx per Square Foot Growth Rate\": cogs_and_opex_per_sqft_gr,\n",
    "        \"Maintenance CapEx per Square Foot Growth Rate\": maintenance_capex_per_sqft_gr,\n",
    "        \"D&A per Square Foot Growth Rate\": d_and_a_per_sqft_gr,\n",
    "        \"Growth CapEx per New Square Foot Growth Rate\": growth_capex_per_sqft_gr,\n",
    "        \"Membership & Other Income Growth Rate\": membersip_and_other_income_gr,\n",
    "    }\n",
    ")\n",
    "manual_inputs"
   ]
  },
  {
   "cell_type": "markdown",
   "metadata": {},
   "source": [
    "TODO: Currently, the ordering of the columns are a mess. Fix this."
   ]
  },
  {
   "cell_type": "code",
   "execution_count": 83,
   "metadata": {
    "execution": {
     "iopub.execute_input": "2025-04-23T02:07:42.284112Z",
     "iopub.status.busy": "2025-04-23T02:07:42.283401Z",
     "iopub.status.idle": "2025-04-23T02:07:42.295104Z",
     "shell.execute_reply": "2025-04-23T02:07:42.294679Z",
     "shell.execute_reply.started": "2025-04-23T02:07:42.284065Z"
    }
   },
   "outputs": [],
   "source": [
    "projection_df = el.ExcelFrame({\n",
    "    col: [None for _ in range(num_projecting_years)]\n",
    "    for col in df.columns + [\"Growth CapEx per New Square Foot\"]\n",
    "})\n",
    "\n",
    "for i in range(num_projecting_years):\n",
    "    projection_df[\"Year\"][i] = f\"FY{(start_year + df.height + i) % 100}\"\n",
    "\n",
    "cash_flows = [\n",
    "    \"Retail Square Foot\",\n",
    "    \"Sales per Square Foot\",\n",
    "    \"COGS and OpEx per Square Foot\",\n",
    "    \"Maintenance CapEx per Square Foot\",\n",
    "    \"D&A per Square Foot\",\n",
    "    \"Growth CapEx per New Square Foot\",\n",
    "    \"Membership & Other Income\",\n",
    "]\n",
    "\n",
    "for col in cash_flows:\n",
    "    growth_rate_col = f\"{col} Growth Rate\"\n",
    "    if col == \"Growth CapEx per New Square Foot\":\n",
    "        projection_df[col][0] = 150.0\n",
    "    else:\n",
    "        projection_df[col][0] = df[col][-1] * (1.0 + manual_inputs[growth_rate_col][0])\n",
    "    # Ideally I'd like to use column expression, but I haven't figured out how to express\n",
    "    # other df's cell in the column expression.\n",
    "    for i in range(1, num_projecting_years):\n",
    "        projection_df[col][i] = projection_df[col][i - 1] * (1.0 + manual_inputs[growth_rate_col][i])\n",
    "        \n",
    "\n",
    "projection_df = projection_df.with_columns(\n",
    "    (el.col(\"Retail Square Foot\") * el.col(\"Sales per Square Foot\")).alias(\"Net Sales\"),\n",
    "    (el.col(\"Net Sales\") - el.col(\"COGS and OpEx per Square Foot\") * el.col(\"Retail Square Foot\")).alias(\"Operating Income (EBIT)\"),\n",
    "    # (-el.col(\"Maintenance CapEx per Square Foot\") * el.col(\"Retail Square Foot\").prev(1) -\n",
    "    #  el.col(\"Growth CapEx per New Square Foot\") * (el.col(\"Retail Square Foot\") - el.col(\"Retail Square Foot\").prev(1))).alias(\"Capital Expenditures\"),\n",
    ")"
   ]
  },
  {
   "cell_type": "markdown",
   "metadata": {},
   "source": [
    "TODO: There's a bug in topological sort based comppute. Fix this.\n",
    "\n",
    "TODO: Jupyterlabb display is not the right medium to show the result of this. We do need a UI for this separately."
   ]
  },
  {
   "cell_type": "code",
   "execution_count": 82,
   "metadata": {
    "execution": {
     "iopub.execute_input": "2025-04-23T02:07:03.209599Z",
     "iopub.status.busy": "2025-04-23T02:07:03.209237Z",
     "iopub.status.idle": "2025-04-23T02:07:03.218713Z",
     "shell.execute_reply": "2025-04-23T02:07:03.217590Z",
     "shell.execute_reply.started": "2025-04-23T02:07:03.209573Z"
    }
   },
   "outputs": [
    {
     "data": {
      "text/html": [
       "<div><style>\n",
       ".dataframe > thead > tr,\n",
       ".dataframe > tbody > tr {\n",
       "  text-align: right;\n",
       "  white-space: pre-wrap;\n",
       "}\n",
       "</style>\n",
       "<small>shape; (10, 15)</small><table border=\"1\" class=\"dataframe\"><thead><tr><th>Year</th><th>Retail Square Foot</th><th>Net Sales</th><th>Membership &amp; Other Income</th><th>Operating Income (EBIT)</th><th>Capital Expenditures</th><th>Depreciation &amp; Amortization</th><th>Sales per Square Foot</th><th>COGS and OpEx per Square Foot</th><th>Maintenance CapEx per Square Foot</th><th>D&amp;A per Square Foot</th><th>Total Revenue</th><th>(-) Taxes, Excluding Effect of Interest:</th><th>Net Operating Profit After Tax (NOPAT)</th><th>Growth CapEx per New Square Foot</th></tr></thead><tbody><tr><td>FY22</td><td>1143.42</td><td>583327.7898</td><td>4035.54</td><td>23688.928799999994</td><td>None</td><td>None</td><td>510.1605619982159</td><td>489.44295272078506</td><td>9.363968113374668</td><td>10.196966993755574</td><td>None</td><td>None</td><td>None</td><td>150.0</td></tr><tr><td>FY23</td><td>1166.2884000000001</td><td>612844.17596388</td><td>4156.6062</td><td>24887.588597279857</td><td>None</td><td>None</td><td>525.4653788581624</td><td>504.12624130240863</td><td>9.644887156775908</td><td>10.451891168599461</td><td>None</td><td>None</td><td>None</td><td>154.5</td></tr><tr><td>FY24</td><td>1183.7827260000001</td><td>None</td><td>4260.521355</td><td>None</td><td>None</td><td>None</td><td>538.6020133296164</td><td>516.7293973349688</td><td>9.886009335695306</td><td>10.660928991971451</td><td>None</td><td>None</td><td>None</td><td>159.135</td></tr><tr><td>FY25</td><td>1201.53946689</td><td>663330.3653609967</td><td>4367.034388874999</td><td>26937.831645741127</td><td>None</td><td>None</td><td>552.0670636628568</td><td>529.6476322683429</td><td>10.133159569087688</td><td>10.87414757181088</td><td>None</td><td>None</td><td>None</td><td>163.113375</td></tr><tr><td>FY26</td><td>1213.5548615589</td><td>683362.9423948986</td><td>4454.375076652499</td><td>27751.354161442374</td><td>None</td><td>None</td><td>563.1084049361139</td><td>540.2405849137098</td><td>10.335822760469442</td><td>11.037259785388043</td><td>None</td><td>None</td><td>None</td><td>167.19120937499997</td></tr><tr><td>FY27</td><td>1225.690410174489</td><td>704000.5032552247</td><td>4543.462578185549</td><td>28589.44505711808</td><td>None</td><td>None</td><td>574.3705730348362</td><td>551.045396611984</td><td>10.542539215678831</td><td>11.202818682168862</td><td>None</td><td>None</td><td>None</td><td>170.53503356249996</td></tr><tr><td>FY28</td><td>1231.8188622253613</td><td>718133.3133580732</td><td>4611.6145168583325</td><td>29163.378166639828</td><td>None</td><td>None</td><td>582.9861316303587</td><td>559.3110775611636</td><td>10.700677303914013</td><td>11.314846868990552</td><td>None</td><td>None</td><td>None</td><td>173.94573423374996</td></tr><tr><td>FY29</td><td>1237.977956536488</td><td>732549.8396237363</td><td>4680.7887346112075</td><td>29748.83298333513</td><td>None</td><td>None</td><td>591.730923604814</td><td>567.700743724581</td><td>10.861187463472723</td><td>11.427995337680457</td><td>None</td><td>None</td><td>None</td><td>176.5549202472562</td></tr><tr><td>FY30</td><td>1244.1678463191702</td><td>743574.7147100734</td><td>4727.596621957319</td><td>30196.55291973427</td><td>None</td><td>None</td><td>597.6482328408622</td><td>573.3777511618268</td><td>10.96979933810745</td><td>11.519419300381902</td><td>None</td><td>None</td><td>None</td><td>179.20324405096503</td></tr><tr><td>FY31</td><td>1250.3886855507658</td><td>754765.51416646</td><td>4774.872588176892</td><td>30651.01104117639</td><td>None</td><td>None</td><td>603.6247151692709</td><td>579.1115286734452</td><td>11.079497331488524</td><td>11.611574654784956</td><td>None</td><td>None</td><td>None</td><td>180.99527649147467</td></tr></tbody></table></div>"
      ],
      "text/plain": [
       "<excelify._excelframe.ExcelFrame at 0x71f11af96650>"
      ]
     },
     "execution_count": 82,
     "metadata": {},
     "output_type": "execute_result"
    }
   ],
   "source": [
    "projection_df.evaluate()"
   ]
  },
  {
   "cell_type": "markdown",
   "metadata": {},
   "source": [
    "TODO\n",
    "\n",
    "1. Create a separate projection df.\n",
    "```python\n",
    "projection_df = el.ExcelFrame({\n",
    "    col: [None for _ in range(num_projecting_years)]\n",
    "    for col in df.columns\n",
    "})\n",
    "```\n",
    "3. Define a formula for each column."
   ]
  }
 ],
 "metadata": {
  "kernelspec": {
   "display_name": "Python 3 (ipykernel)",
   "language": "python",
   "name": "python3"
  },
  "language_info": {
   "codemirror_mode": {
    "name": "ipython",
    "version": 3
   },
   "file_extension": ".py",
   "mimetype": "text/x-python",
   "name": "python",
   "nbconvert_exporter": "python",
   "pygments_lexer": "ipython3",
   "version": "3.11.11"
  }
 },
 "nbformat": 4,
 "nbformat_minor": 4
}
