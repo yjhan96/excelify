{
 "cells": [
  {
   "cell_type": "code",
   "execution_count": 1,
   "metadata": {
    "execution": {
     "iopub.execute_input": "2025-04-20T14:58:26.619795Z",
     "iopub.status.busy": "2025-04-20T14:58:26.619518Z",
     "iopub.status.idle": "2025-04-20T14:58:26.765141Z",
     "shell.execute_reply": "2025-04-20T14:58:26.764899Z",
     "shell.execute_reply.started": "2025-04-20T14:58:26.619767Z"
    }
   },
   "outputs": [],
   "source": [
    "import excelify as el\n",
    "import polars as pl\n",
    "import numpy as np"
   ]
  },
  {
   "cell_type": "markdown",
   "metadata": {},
   "source": [
    "### Scratch"
   ]
  },
  {
   "cell_type": "code",
   "execution_count": 2,
   "metadata": {
    "execution": {
     "iopub.execute_input": "2025-04-20T14:58:26.765740Z",
     "iopub.status.busy": "2025-04-20T14:58:26.765537Z",
     "iopub.status.idle": "2025-04-20T14:58:26.768273Z",
     "shell.execute_reply": "2025-04-20T14:58:26.767675Z",
     "shell.execute_reply.started": "2025-04-20T14:58:26.765727Z"
    }
   },
   "outputs": [],
   "source": [
    "df = el.ExcelFrame({\n",
    "    \"x\": [1, 2, 3]\n",
    "})"
   ]
  },
  {
   "cell_type": "code",
   "execution_count": 3,
   "metadata": {
    "execution": {
     "iopub.execute_input": "2025-04-20T14:58:26.768988Z",
     "iopub.status.busy": "2025-04-20T14:58:26.768911Z",
     "iopub.status.idle": "2025-04-20T14:58:26.775021Z",
     "shell.execute_reply": "2025-04-20T14:58:26.774771Z",
     "shell.execute_reply.started": "2025-04-20T14:58:26.768981Z"
    }
   },
   "outputs": [],
   "source": [
    "df = df.with_columns(el.Col(\"x\").alias(\"y\"))"
   ]
  },
  {
   "cell_type": "code",
   "execution_count": 4,
   "metadata": {
    "execution": {
     "iopub.execute_input": "2025-04-20T14:58:26.775394Z",
     "iopub.status.busy": "2025-04-20T14:58:26.775299Z",
     "iopub.status.idle": "2025-04-20T14:58:26.782191Z",
     "shell.execute_reply": "2025-04-20T14:58:26.781969Z",
     "shell.execute_reply.started": "2025-04-20T14:58:26.775386Z"
    }
   },
   "outputs": [
    {
     "data": {
      "text/html": [
       "<div><style>\n",
       ".dataframe > thead > tr,\n",
       ".dataframe > tbody > tr {\n",
       "  text-align: right;\n",
       "  white-space: pre-wrap;\n",
       "}\n",
       "</style>\n",
       "<small>shape; (3, 2)</small><table border=\"1\" class=\"dataframe\"><thead><tr><th>x</th><th>y</th></tr></thead><tbody><tr><td>1</td><td>1</td></tr><tr><td>2</td><td>2</td></tr><tr><td>3</td><td>3</td></tr></tbody></table></div>"
      ],
      "text/plain": [
       "<excelify._excelframe.ExcelFrame at 0x76f72c0486d0>"
      ]
     },
     "execution_count": 4,
     "metadata": {},
     "output_type": "execute_result"
    }
   ],
   "source": [
    "df.evaluate()"
   ]
  },
  {
   "cell_type": "code",
   "execution_count": 5,
   "metadata": {
    "execution": {
     "iopub.execute_input": "2025-04-20T14:58:27.328659Z",
     "iopub.status.busy": "2025-04-20T14:58:27.328230Z",
     "iopub.status.idle": "2025-04-20T14:58:27.335480Z",
     "shell.execute_reply": "2025-04-20T14:58:27.334120Z",
     "shell.execute_reply.started": "2025-04-20T14:58:27.328625Z"
    }
   },
   "outputs": [],
   "source": [
    "df = df.with_columns(el.Col(\"y\").prev(1).alias(\"z\"))"
   ]
  },
  {
   "cell_type": "code",
   "execution_count": 5,
   "metadata": {
    "execution": {
     "iopub.execute_input": "2025-04-18T20:47:53.040538Z",
     "iopub.status.busy": "2025-04-18T20:47:53.040037Z",
     "iopub.status.idle": "2025-04-18T20:47:53.044319Z",
     "shell.execute_reply": "2025-04-18T20:47:53.043937Z",
     "shell.execute_reply.started": "2025-04-18T20:47:53.040498Z"
    }
   },
   "outputs": [],
   "source": [
    "df = df.with_column((el.Col(\"x\") / el.Col(\"y\")).alias(\"z\"))"
   ]
  },
  {
   "cell_type": "code",
   "execution_count": 5,
   "metadata": {
    "execution": {
     "iopub.execute_input": "2025-04-18T15:22:47.831376Z",
     "iopub.status.busy": "2025-04-18T15:22:47.830968Z",
     "iopub.status.idle": "2025-04-18T15:22:47.840230Z",
     "shell.execute_reply": "2025-04-18T15:22:47.834153Z",
     "shell.execute_reply.started": "2025-04-18T15:22:47.831366Z"
    }
   },
   "outputs": [],
   "source": [
    "df = df.with_column(el.MultCol(el.Col(\"x\"), el.Col(\"y\")).alias(\"z\"))"
   ]
  },
  {
   "cell_type": "code",
   "execution_count": 9,
   "metadata": {
    "execution": {
     "iopub.execute_input": "2025-04-20T13:58:43.607627Z",
     "iopub.status.busy": "2025-04-20T13:58:43.607244Z",
     "iopub.status.idle": "2025-04-20T13:58:43.615053Z",
     "shell.execute_reply": "2025-04-20T13:58:43.613753Z",
     "shell.execute_reply.started": "2025-04-20T13:58:43.607597Z"
    }
   },
   "outputs": [
    {
     "data": {
      "text/plain": [
       "['x', 'y', 'z']"
      ]
     },
     "execution_count": 9,
     "metadata": {},
     "output_type": "execute_result"
    }
   ],
   "source": [
    "df.columns"
   ]
  },
  {
   "cell_type": "code",
   "execution_count": 9,
   "metadata": {
    "execution": {
     "iopub.execute_input": "2025-04-18T15:46:00.761199Z",
     "iopub.status.busy": "2025-04-18T15:46:00.760748Z",
     "iopub.status.idle": "2025-04-18T15:46:00.768007Z",
     "shell.execute_reply": "2025-04-18T15:46:00.767306Z",
     "shell.execute_reply.started": "2025-04-18T15:46:00.761166Z"
    }
   },
   "outputs": [
    {
     "data": {
      "text/plain": [
       "[<excelify.Cell at 0x7e82cc41c890>,\n",
       " <excelify.Cell at 0x7e82b05cfbd0>,\n",
       " <excelify.Cell at 0x7e82b05ddb10>]"
      ]
     },
     "execution_count": 9,
     "metadata": {},
     "output_type": "execute_result"
    }
   ],
   "source": [
    "df[\"z\"]"
   ]
  },
  {
   "cell_type": "code",
   "execution_count": 6,
   "metadata": {
    "execution": {
     "iopub.execute_input": "2025-04-20T14:06:27.250981Z",
     "iopub.status.busy": "2025-04-20T14:06:27.250563Z",
     "iopub.status.idle": "2025-04-20T14:06:27.256794Z",
     "shell.execute_reply": "2025-04-20T14:06:27.256203Z",
     "shell.execute_reply.started": "2025-04-20T14:06:27.250951Z"
    }
   },
   "outputs": [
    {
     "data": {
      "text/html": [
       "<div><style>\n",
       ".dataframe > thead > tr,\n",
       ".dataframe > tbody > tr {\n",
       "  text-align: right;\n",
       "  white-space: pre-wrap;\n",
       "}\n",
       "</style>\n",
       "<small>shape; (3, 3)</small><table border=\"1\" class=\"dataframe\"><thead><tr><th>x</th><th>y</th><th>z</th></tr></thead><tbody><tr><td>1</td><td>1</td><td>0</td></tr><tr><td>2</td><td>2</td><td>1</td></tr><tr><td>3</td><td>3</td><td>2</td></tr></tbody></table></div>"
      ],
      "text/plain": [
       "<excelify._excelframe.ExcelFrame at 0x736ea00dd210>"
      ]
     },
     "execution_count": 6,
     "metadata": {},
     "output_type": "execute_result"
    }
   ],
   "source": [
    "df.evaluate()"
   ]
  },
  {
   "cell_type": "code",
   "execution_count": 6,
   "metadata": {
    "execution": {
     "iopub.execute_input": "2025-04-20T14:58:31.162067Z",
     "iopub.status.busy": "2025-04-20T14:58:31.161790Z",
     "iopub.status.idle": "2025-04-20T14:58:31.174247Z",
     "shell.execute_reply": "2025-04-20T14:58:31.174014Z",
     "shell.execute_reply.started": "2025-04-20T14:58:31.162059Z"
    }
   },
   "outputs": [],
   "source": [
    "df.to_excel(\"example.xlsx\")"
   ]
  },
  {
   "cell_type": "code",
   "execution_count": 4,
   "metadata": {
    "execution": {
     "iopub.execute_input": "2025-04-20T14:37:15.356052Z",
     "iopub.status.busy": "2025-04-20T14:37:15.355683Z",
     "iopub.status.idle": "2025-04-20T14:37:15.371051Z",
     "shell.execute_reply": "2025-04-20T14:37:15.370318Z",
     "shell.execute_reply.started": "2025-04-20T14:37:15.356024Z"
    }
   },
   "outputs": [
    {
     "data": {
      "text/plain": [
       "<schedula.utils.dsp.DispatchPipe at 0x7628e5a42e50>"
      ]
     },
     "execution_count": 4,
     "metadata": {},
     "output_type": "execute_result"
    }
   ],
   "source": [
    "cell = el.ExcelFrame.of_excel(\"example.xlsx\")\n",
    "cell"
   ]
  },
  {
   "cell_type": "code",
   "execution_count": 6,
   "metadata": {
    "execution": {
     "iopub.execute_input": "2025-04-20T14:37:24.620388Z",
     "iopub.status.busy": "2025-04-20T14:37:24.619755Z",
     "iopub.status.idle": "2025-04-20T14:37:24.623089Z",
     "shell.execute_reply": "2025-04-20T14:37:24.622919Z",
     "shell.execute_reply.started": "2025-04-20T14:37:24.620345Z"
    }
   },
   "outputs": [
    {
     "data": {
      "text/plain": [
       "2"
      ]
     },
     "execution_count": 6,
     "metadata": {},
     "output_type": "execute_result"
    }
   ],
   "source": [
    "cell(2)"
   ]
  },
  {
   "cell_type": "code",
   "execution_count": 4,
   "metadata": {
    "execution": {
     "iopub.execute_input": "2025-04-20T14:35:19.515104Z",
     "iopub.status.busy": "2025-04-20T14:35:19.514735Z",
     "iopub.status.idle": "2025-04-20T14:35:19.524305Z",
     "shell.execute_reply": "2025-04-20T14:35:19.523612Z",
     "shell.execute_reply.started": "2025-04-20T14:35:19.515077Z"
    }
   },
   "outputs": [
    {
     "data": {
      "text/plain": [
       "OrderedDict([('A2', <Ranges>(A2)), ('B3', <Ranges>(B3))])"
      ]
     },
     "execution_count": 4,
     "metadata": {},
     "output_type": "execute_result"
    }
   ],
   "source": [
    "func.inputs"
   ]
  },
  {
   "cell_type": "code",
   "execution_count": 9,
   "metadata": {
    "execution": {
     "iopub.execute_input": "2025-04-20T14:25:36.804019Z",
     "iopub.status.busy": "2025-04-20T14:25:36.803367Z",
     "iopub.status.idle": "2025-04-20T14:25:36.807330Z",
     "shell.execute_reply": "2025-04-20T14:25:36.807145Z",
     "shell.execute_reply.started": "2025-04-20T14:25:36.803994Z"
    }
   },
   "outputs": [
    {
     "data": {
      "text/html": [
       "<div>\n",
       "<style scoped>\n",
       "    .dataframe tbody tr th:only-of-type {\n",
       "        vertical-align: middle;\n",
       "    }\n",
       "\n",
       "    .dataframe tbody tr th {\n",
       "        vertical-align: top;\n",
       "    }\n",
       "\n",
       "    .dataframe thead th {\n",
       "        text-align: right;\n",
       "    }\n",
       "</style>\n",
       "<table border=\"1\" class=\"dataframe\">\n",
       "  <thead>\n",
       "    <tr style=\"text-align: right;\">\n",
       "      <th></th>\n",
       "      <th>x</th>\n",
       "      <th>0</th>\n",
       "      <th>0.1</th>\n",
       "      <th>0.2</th>\n",
       "    </tr>\n",
       "  </thead>\n",
       "  <tbody>\n",
       "    <tr>\n",
       "      <th>0</th>\n",
       "      <td>y</td>\n",
       "      <td>0</td>\n",
       "      <td>0</td>\n",
       "      <td>0</td>\n",
       "    </tr>\n",
       "    <tr>\n",
       "      <th>1</th>\n",
       "      <td>z</td>\n",
       "      <td>0</td>\n",
       "      <td>0</td>\n",
       "      <td>0</td>\n",
       "    </tr>\n",
       "  </tbody>\n",
       "</table>\n",
       "</div>"
      ],
      "text/plain": [
       "   x  0  0.1  0.2\n",
       "0  y  0    0    0\n",
       "1  z  0    0    0"
      ]
     },
     "execution_count": 9,
     "metadata": {},
     "output_type": "execute_result"
    }
   ],
   "source": [
    "df"
   ]
  },
  {
   "cell_type": "code",
   "execution_count": 3,
   "metadata": {},
   "outputs": [
    {
     "data": {
      "text/plain": [
       "[Const(1), Const(2), Const(3)]"
      ]
     },
     "execution_count": 3,
     "metadata": {},
     "output_type": "execute_result"
    }
   ],
   "source": [
    "df[\"x\"]"
   ]
  },
  {
   "cell_type": "markdown",
   "metadata": {},
   "source": [
    "## DCF using Python"
   ]
  },
  {
   "cell_type": "markdown",
   "metadata": {},
   "source": [
    "### Step 1: Raw Input Data"
   ]
  },
  {
   "cell_type": "code",
   "execution_count": 1,
   "metadata": {
    "execution": {
     "iopub.execute_input": "2025-04-19T01:26:06.387296Z",
     "iopub.status.busy": "2025-04-19T01:26:06.386346Z",
     "iopub.status.idle": "2025-04-19T01:26:06.458564Z",
     "shell.execute_reply": "2025-04-19T01:26:06.458323Z",
     "shell.execute_reply.started": "2025-04-19T01:26:06.387269Z"
    }
   },
   "outputs": [],
   "source": [
    "import excelify as el\n",
    "import numpy as np"
   ]
  },
  {
   "cell_type": "code",
   "execution_count": 2,
   "metadata": {
    "execution": {
     "iopub.execute_input": "2025-04-19T01:26:06.459970Z",
     "iopub.status.busy": "2025-04-19T01:26:06.459735Z",
     "iopub.status.idle": "2025-04-19T01:26:06.464657Z",
     "shell.execute_reply": "2025-04-19T01:26:06.464333Z",
     "shell.execute_reply.started": "2025-04-19T01:26:06.459960Z"
    }
   },
   "outputs": [],
   "source": [
    "tax_rates = [6858. / 20564., 4915. / 20116., 4281. / 11460.]\n",
    "effective_tax_rate = sum(tax_rates) / len(tax_rates)"
   ]
  },
  {
   "cell_type": "code",
   "execution_count": 3,
   "metadata": {
    "execution": {
     "iopub.execute_input": "2025-04-19T01:26:06.465438Z",
     "iopub.status.busy": "2025-04-19T01:26:06.465325Z",
     "iopub.status.idle": "2025-04-19T01:26:06.471918Z",
     "shell.execute_reply": "2025-04-19T01:26:06.471657Z",
     "shell.execute_reply.started": "2025-04-19T01:26:06.465427Z"
    }
   },
   "outputs": [],
   "source": [
    "df = el.ExcelFrame(\n",
    "    {\n",
    "        \"Year\": [\"FY19\", \"FY20\", \"FY21\"],\n",
    "        \"Retail Square Foot\": [1129, 1129, 1121],\n",
    "        \"Net Sales\": [510_329, 519_926, 555_233],\n",
    "        \"Membership & Other Income\": [4076, 4038, 3918],\n",
    "        \"Operating Income (EBIT)\": [21_957, 20_568, 22_548],\n",
    "        \"Capital Expenditures\": [-10_344, -10_705, -10_604],\n",
    "        \"Depreciation & Amortization\": [10_678, 10_987, 11_152],\n",
    "    }\n",
    ")\n",
    "fy18_retail_square_foot = 1158"
   ]
  },
  {
   "cell_type": "code",
   "execution_count": 4,
   "metadata": {
    "execution": {
     "iopub.execute_input": "2025-04-19T01:26:06.473955Z",
     "iopub.status.busy": "2025-04-19T01:26:06.473769Z",
     "iopub.status.idle": "2025-04-19T01:26:06.483958Z",
     "shell.execute_reply": "2025-04-19T01:26:06.483642Z",
     "shell.execute_reply.started": "2025-04-19T01:26:06.473944Z"
    }
   },
   "outputs": [
    {
     "data": {
      "text/html": [
       "<div><style>\n",
       ".dataframe > thead > tr,\n",
       ".dataframe > tbody > tr {\n",
       "  text-align: right;\n",
       "  white-space: pre-wrap;\n",
       "}\n",
       "</style>\n",
       "<small>shape; (3, 7)</small><table border=\"1\" class=\"dataframe\"><thead><tr><th>Year</th><th>Retail Square Foot</th><th>Net Sales</th><th>Membership &amp; Other Income</th><th>Operating Income (EBIT)</th><th>Capital Expenditures</th><th>Depreciation &amp; Amortization</th></tr></thead><tbody><tr><td>FY19</td><td>1129</td><td>510329</td><td>4076</td><td>21957</td><td>-10344</td><td>10678</td></tr><tr><td>FY20</td><td>1129</td><td>519926</td><td>4038</td><td>20568</td><td>-10705</td><td>10987</td></tr><tr><td>FY21</td><td>1121</td><td>555233</td><td>3918</td><td>22548</td><td>-10604</td><td>11152</td></tr></tbody></table></div>"
      ],
      "text/plain": [
       "<excelify._excelframe.ExcelFrame at 0x7775c8190710>"
      ]
     },
     "execution_count": 4,
     "metadata": {},
     "output_type": "execute_result"
    }
   ],
   "source": [
    "df"
   ]
  },
  {
   "cell_type": "code",
   "execution_count": 5,
   "metadata": {
    "execution": {
     "iopub.execute_input": "2025-04-19T01:26:06.485438Z",
     "iopub.status.busy": "2025-04-19T01:26:06.484197Z",
     "iopub.status.idle": "2025-04-19T01:26:06.490895Z",
     "shell.execute_reply": "2025-04-19T01:26:06.490593Z",
     "shell.execute_reply.started": "2025-04-19T01:26:06.485426Z"
    }
   },
   "outputs": [],
   "source": [
    "[quarter, retail_square_foot, net_sales, other_income, ebit, capex, d_and_a] = [\n",
    "    el.col(c) for c in df.columns\n",
    "]"
   ]
  },
  {
   "cell_type": "code",
   "execution_count": 8,
   "metadata": {
    "execution": {
     "iopub.execute_input": "2025-04-19T01:26:11.835792Z",
     "iopub.status.busy": "2025-04-19T01:26:11.835239Z",
     "iopub.status.idle": "2025-04-19T01:26:11.845166Z",
     "shell.execute_reply": "2025-04-19T01:26:11.844084Z",
     "shell.execute_reply.started": "2025-04-19T01:26:11.835750Z"
    }
   },
   "outputs": [],
   "source": [
    "df = df.with_columns(\n",
    "    (net_sales / retail_square_foot).alias(\"Sales per Square Foot\"),\n",
    "    ((net_sales - ebit) / retail_square_foot).alias(\"COGS and OpEx per Square Foot\"),\n",
    "    (-capex / retail_square_foot.prev(1)).alias(\"Maintenance CapEx per Square Foot\"),\n",
    "    (d_and_a / retail_square_foot).alias(\"D&A per Square Foot\"),\n",
    "    (net_sales + other_income).alias(\"Total Revenue\"),\n",
    "    (-ebit * effective_tax_rate).alias(\"(-) Taxes, Excluding Effect of Interest:\"),\n",
    ")\n",
    "df = df.with_columns(\n",
    "    (el.col(\"(-) Taxes, Excluding Effect of Interest:\") + ebit).alias(\n",
    "        \"Net Operating Profit After Tax (NOPAT)\"\n",
    "    ),\n",
    ")\n",
    "df[\"Maintenance CapEx per Square Foot\"][0] = -df[\"Capital Expenditures\"][0] / el.Constant(fy18_retail_square_foot)"
   ]
  },
  {
   "cell_type": "code",
   "execution_count": 7,
   "metadata": {
    "execution": {
     "iopub.execute_input": "2025-04-19T01:26:08.104959Z",
     "iopub.status.busy": "2025-04-19T01:26:08.104468Z",
     "iopub.status.idle": "2025-04-19T01:26:08.108077Z",
     "shell.execute_reply": "2025-04-19T01:26:08.107708Z",
     "shell.execute_reply.started": "2025-04-19T01:26:08.104945Z"
    }
   },
   "outputs": [
    {
     "data": {
      "text/html": [
       "<div><style>\n",
       ".dataframe > thead > tr,\n",
       ".dataframe > tbody > tr {\n",
       "  text-align: right;\n",
       "  white-space: pre-wrap;\n",
       "}\n",
       "</style>\n",
       "<small>shape; (3, 14)</small><table border=\"1\" class=\"dataframe\"><thead><tr><th>Year</th><th>Retail Square Foot</th><th>Net Sales</th><th>Membership &amp; Other Income</th><th>Operating Income (EBIT)</th><th>Capital Expenditures</th><th>Depreciation &amp; Amortization</th><th>Sales per Square Foot</th><th>COGS and OpEx per Square Foot</th><th>Maintenance CapEx per Square Foot</th><th>D&amp;A per Square Foot</th><th>Total Revenue</th><th>(-) Taxes, Excluding Effect of Interest:</th><th>Net Operating Profit After Tax (NOPAT)</th></tr></thead><tbody><tr><td>FY19</td><td>1129</td><td>510329</td><td>4076</td><td>21957</td><td>-10344</td><td>10678</td><td>452.0186005314438</td><td>432.5704162976085</td><td>8.932642487046632</td><td>9.45792736935341</td><td>514405</td><td>-6963.212487758894</td><td>14993.787512241106</td></tr><tr><td>FY20</td><td>1129</td><td>519926</td><td>4038</td><td>20568</td><td>-10705</td><td>10987</td><td>460.51904340124</td><td>442.30115146147034</td><td>9.481842338352525</td><td>9.731620903454385</td><td>523964</td><td>-6522.719608699956</td><td>14045.280391300044</td></tr><tr><td>FY21</td><td>1121</td><td>555233</td><td>3918</td><td>22548</td><td>-10604</td><td>11152</td><td>495.30151650312223</td><td>475.18733273862625</td><td>9.392382639503985</td><td>9.948260481712756</td><td>559151</td><td>-7150.6360237731715</td><td>15397.363976226829</td></tr></tbody></table></div>"
      ],
      "text/plain": [
       "<excelify._excelframe.ExcelFrame at 0x7775ecdc3290>"
      ]
     },
     "execution_count": 7,
     "metadata": {},
     "output_type": "execute_result"
    }
   ],
   "source": [
    "df.evaluate()"
   ]
  },
  {
   "cell_type": "markdown",
   "metadata": {},
   "source": [
    "### Step 2: Projections"
   ]
  },
  {
   "cell_type": "code",
   "execution_count": 12,
   "metadata": {
    "execution": {
     "iopub.execute_input": "2025-04-19T01:27:10.544395Z",
     "iopub.status.busy": "2025-04-19T01:27:10.543887Z",
     "iopub.status.idle": "2025-04-19T01:27:10.547728Z",
     "shell.execute_reply": "2025-04-19T01:27:10.547341Z",
     "shell.execute_reply.started": "2025-04-19T01:27:10.544351Z"
    }
   },
   "outputs": [],
   "source": [
    "projected_years = [f\"FY{22 + i}\" for i in range(10)]\n",
    "retail_square_foot_gr = [0.02] * 2 + [0.015] * 2 + [0.01] * 2 + [0.005] * 4\n",
    "sales_per_sqft_gr = [0.03] * 2 + [0.025] * 2 + [0.02] * 2 + [0.015] * 2 + [0.01] * 2\n",
    "cogs_and_opex_per_sqft_gr = sales_per_sqft_gr\n",
    "maintenance_capex_per_sqft_gr = sales_per_sqft_gr\n",
    "d_and_a_per_sqft_gr = [0.025] * 2 + [0.02] * 2 + [0.015] * 2 + [0.01] * 2 + [0.008] * 2\n",
    "initial_growth_capex_per_sqft = 150.\n",
    "growth_capex_per_sqft_gr = [np.nan] + [0.03] * 2 + [0.025] * 2 + [0.02] * 2 + [0.015] * 2 + [0.01]\n",
    "membersip_and_other_income_gr = [0.03] * 2 + [0.025] * 2 + [0.02] * 2 + [0.015] * 2 + [0.01] * 2"
   ]
  },
  {
   "cell_type": "code",
   "execution_count": 13,
   "metadata": {
    "execution": {
     "iopub.execute_input": "2025-04-19T01:27:10.751172Z",
     "iopub.status.busy": "2025-04-19T01:27:10.750771Z",
     "iopub.status.idle": "2025-04-19T01:27:10.754292Z",
     "shell.execute_reply": "2025-04-19T01:27:10.754104Z",
     "shell.execute_reply.started": "2025-04-19T01:27:10.751158Z"
    }
   },
   "outputs": [
    {
     "data": {
      "text/html": [
       "<div><style>\n",
       ".dataframe > thead > tr,\n",
       ".dataframe > tbody > tr {\n",
       "  text-align: right;\n",
       "  white-space: pre-wrap;\n",
       "}\n",
       "</style>\n",
       "<small>shape; (10, 8)</small><table border=\"1\" class=\"dataframe\"><thead><tr><th>Year</th><th>Retail Square Foot Growth Rate</th><th>Sales per Square Foot Growth Rate</th><th>COGS and OPEX per Square Foot Growth Rate</th><th>Maintenance CapEx per Square Foot Growth Rate</th><th>D&amp;A per Square Foot Growth Rate</th><th>Growth CapEx per New Square Foot Growth Rate</th><th>Membership and Other Income Growth Rate</th></tr></thead><tbody><tr><td>FY22</td><td>0.02</td><td>0.03</td><td>0.03</td><td>0.03</td><td>0.025</td><td>nan</td><td>0.03</td></tr><tr><td>FY23</td><td>0.02</td><td>0.03</td><td>0.03</td><td>0.03</td><td>0.025</td><td>0.03</td><td>0.03</td></tr><tr><td>FY24</td><td>0.015</td><td>0.025</td><td>0.025</td><td>0.025</td><td>0.02</td><td>0.03</td><td>0.025</td></tr><tr><td>FY25</td><td>0.015</td><td>0.025</td><td>0.025</td><td>0.025</td><td>0.02</td><td>0.025</td><td>0.025</td></tr><tr><td>FY26</td><td>0.01</td><td>0.02</td><td>0.02</td><td>0.02</td><td>0.015</td><td>0.025</td><td>0.02</td></tr><tr><td>FY27</td><td>0.01</td><td>0.02</td><td>0.02</td><td>0.02</td><td>0.015</td><td>0.02</td><td>0.02</td></tr><tr><td>FY28</td><td>0.005</td><td>0.015</td><td>0.015</td><td>0.015</td><td>0.01</td><td>0.02</td><td>0.015</td></tr><tr><td>FY29</td><td>0.005</td><td>0.015</td><td>0.015</td><td>0.015</td><td>0.01</td><td>0.015</td><td>0.015</td></tr><tr><td>FY30</td><td>0.005</td><td>0.01</td><td>0.01</td><td>0.01</td><td>0.008</td><td>0.015</td><td>0.01</td></tr><tr><td>FY31</td><td>0.005</td><td>0.01</td><td>0.01</td><td>0.01</td><td>0.008</td><td>0.01</td><td>0.01</td></tr></tbody></table></div>"
      ],
      "text/plain": [
       "<excelify._excelframe.ExcelFrame at 0x7775c04ba510>"
      ]
     },
     "execution_count": 13,
     "metadata": {},
     "output_type": "execute_result"
    }
   ],
   "source": [
    "manual_inputs = el.ExcelFrame(\n",
    "    {\n",
    "        \"Year\": projected_years,\n",
    "        \"Retail Square Foot Growth Rate\": retail_square_foot_gr,\n",
    "        \"Sales per Square Foot Growth Rate\": sales_per_sqft_gr,\n",
    "        \"COGS and OPEX per Square Foot Growth Rate\": cogs_and_opex_per_sqft_gr,\n",
    "        \"Maintenance CapEx per Square Foot Growth Rate\": maintenance_capex_per_sqft_gr,\n",
    "        \"D&A per Square Foot Growth Rate\": d_and_a_per_sqft_gr,\n",
    "        \"Growth CapEx per New Square Foot Growth Rate\": growth_capex_per_sqft_gr,\n",
    "        \"Membership and Other Income Growth Rate\": membersip_and_other_income_gr,\n",
    "    }\n",
    ")\n",
    "manual_inputs"
   ]
  },
  {
   "cell_type": "code",
   "execution_count": 10,
   "metadata": {
    "execution": {
     "iopub.execute_input": "2025-04-19T01:26:36.215386Z",
     "iopub.status.busy": "2025-04-19T01:26:36.214921Z",
     "iopub.status.idle": "2025-04-19T01:26:36.307349Z",
     "shell.execute_reply": "2025-04-19T01:26:36.306807Z",
     "shell.execute_reply.started": "2025-04-19T01:26:36.215352Z"
    }
   },
   "outputs": [
    {
     "ename": "AttributeError",
     "evalue": "'Col' object has no attribute 'fill_null'",
     "output_type": "error",
     "traceback": [
      "\u001b[31m---------------------------------------------------------------------------\u001b[39m",
      "\u001b[31mAttributeError\u001b[39m                            Traceback (most recent call last)",
      "\u001b[36mCell\u001b[39m\u001b[36m \u001b[39m\u001b[32mIn[10]\u001b[39m\u001b[32m, line 4\u001b[39m\n\u001b[32m      1\u001b[39m lf = df.with_columns(\n\u001b[32m      2\u001b[39m     (net_sales / retail_square_foot).alias(\u001b[33m\"\u001b[39m\u001b[33mSales per Square Foot\u001b[39m\u001b[33m\"\u001b[39m),\n\u001b[32m      3\u001b[39m     ((net_sales - ebit) / retail_square_foot).alias(\u001b[33m\"\u001b[39m\u001b[33mCOGS and OpEx per Square Foot\u001b[39m\u001b[33m\"\u001b[39m),\n\u001b[32m----> \u001b[39m\u001b[32m4\u001b[39m     (-capex / \u001b[43mretail_square_foot\u001b[49m\u001b[43m.\u001b[49m\u001b[43mprev\u001b[49m\u001b[43m(\u001b[49m\u001b[32;43m1\u001b[39;49m\u001b[43m)\u001b[49m\u001b[43m.\u001b[49m\u001b[43mfill_null\u001b[49m(fy18_retail_square_foot)).alias(\n\u001b[32m      5\u001b[39m         \u001b[33m\"\u001b[39m\u001b[33mMaintenance CapEx per Square Foot\u001b[39m\u001b[33m\"\u001b[39m\n\u001b[32m      6\u001b[39m     ),\n\u001b[32m      7\u001b[39m     (d_and_a / retail_square_foot).alias(\u001b[33m\"\u001b[39m\u001b[33mD&A per Square Foot\u001b[39m\u001b[33m\"\u001b[39m),\n\u001b[32m      8\u001b[39m     (net_sales + other_income).alias(\u001b[33m\"\u001b[39m\u001b[33mTotal Revenue\u001b[39m\u001b[33m\"\u001b[39m),\n\u001b[32m      9\u001b[39m     (-ebit * effective_tax_rate).alias(\u001b[33m\"\u001b[39m\u001b[33m(-) Taxes, Excluding Effect of Interest:\u001b[39m\u001b[33m\"\u001b[39m),\n\u001b[32m     10\u001b[39m )\n\u001b[32m     11\u001b[39m lf = lf.with_columns(\n\u001b[32m     12\u001b[39m     (pl.col(\u001b[33m\"\u001b[39m\u001b[33m(-) Taxes, Excluding Effect of Interest:\u001b[39m\u001b[33m\"\u001b[39m) + ebit).alias(\n\u001b[32m     13\u001b[39m         \u001b[33m\"\u001b[39m\u001b[33mNet Operating Profit After Tax (NOPAT)\u001b[39m\u001b[33m\"\u001b[39m\n\u001b[32m     14\u001b[39m     ),\n\u001b[32m     15\u001b[39m )\n\u001b[32m     16\u001b[39m historical_df = lf.collect()\n",
      "\u001b[31mAttributeError\u001b[39m: 'Col' object has no attribute 'fill_null'"
     ]
    }
   ],
   "source": [
    "lf = df.with_columns(\n",
    "    (net_sales / retail_square_foot).alias(\"Sales per Square Foot\"),\n",
    "    ((net_sales - ebit) / retail_square_foot).alias(\"COGS and OpEx per Square Foot\"),\n",
    "    (-capex / retail_square_foot.prev(1).fill_null(fy18_retail_square_foot)).alias(\n",
    "        \"Maintenance CapEx per Square Foot\"\n",
    "    ),\n",
    "    (d_and_a / retail_square_foot).alias(\"D&A per Square Foot\"),\n",
    "    (net_sales + other_income).alias(\"Total Revenue\"),\n",
    "    (-ebit * effective_tax_rate).alias(\"(-) Taxes, Excluding Effect of Interest:\"),\n",
    ")\n",
    "lf = lf.with_columns(\n",
    "    (pl.col(\"(-) Taxes, Excluding Effect of Interest:\") + ebit).alias(\n",
    "        \"Net Operating Profit After Tax (NOPAT)\"\n",
    "    ),\n",
    ")\n",
    "historical_df = lf.collect()"
   ]
  },
  {
   "cell_type": "code",
   "execution_count": 4,
   "metadata": {},
   "outputs": [],
   "source": [
    "df = pl.DataFrame(\n",
    "    {\n",
    "        \"Year\": [\"FY19\", \"FY20\", \"FY21\"],\n",
    "        \"Retail Square Foot\": [1129, 1129, 1121],\n",
    "        \"Net Sales\": [510_329, 519_926, 555_233],\n",
    "        \"Membership & Other Income\": [4076, 4038, 3918],\n",
    "        \"Operating Income (EBIT)\": [21_957, 20_568, 22_548],\n",
    "        \"Capital Expenditures\": [-10_344, -10_705, -10_604],\n",
    "        \"Depreciation & Amortization\": [10_678, 10_987, 11_152],\n",
    "    }\n",
    ")\n",
    "fy18_retail_square_foot = 1158"
   ]
  },
  {
   "cell_type": "code",
   "execution_count": 7,
   "metadata": {},
   "outputs": [
    {
     "data": {
      "text/html": [
       "<div><style>\n",
       ".dataframe > thead > tr,\n",
       ".dataframe > tbody > tr {\n",
       "  text-align: right;\n",
       "  white-space: pre-wrap;\n",
       "}\n",
       "</style>\n",
       "<small>shape: (3, 7)</small><table border=\"1\" class=\"dataframe\"><thead><tr><th>Year</th><th>Retail Square Foot</th><th>Net Sales</th><th>Membership &amp; Other Income</th><th>Operating Income (EBIT)</th><th>Capital Expenditures</th><th>Depreciation &amp; Amortization</th></tr><tr><td>str</td><td>i64</td><td>i64</td><td>i64</td><td>i64</td><td>i64</td><td>i64</td></tr></thead><tbody><tr><td>&quot;FY19&quot;</td><td>1129</td><td>510329</td><td>4076</td><td>21957</td><td>-10344</td><td>10678</td></tr><tr><td>&quot;FY20&quot;</td><td>1129</td><td>519926</td><td>4038</td><td>20568</td><td>-10705</td><td>10987</td></tr><tr><td>&quot;FY21&quot;</td><td>1121</td><td>555233</td><td>3918</td><td>22548</td><td>-10604</td><td>11152</td></tr></tbody></table></div>"
      ],
      "text/plain": [
       "shape: (3, 7)\n",
       "┌──────┬───────────────┬───────────┬───────────────┬───────────────┬───────────────┬───────────────┐\n",
       "│ Year ┆ Retail Square ┆ Net Sales ┆ Membership &  ┆ Operating     ┆ Capital       ┆ Depreciation  │\n",
       "│ ---  ┆ Foot          ┆ ---       ┆ Other Income  ┆ Income (EBIT) ┆ Expenditures  ┆ &             │\n",
       "│ str  ┆ ---           ┆ i64       ┆ ---           ┆ ---           ┆ ---           ┆ Amortization  │\n",
       "│      ┆ i64           ┆           ┆ i64           ┆ i64           ┆ i64           ┆ ---           │\n",
       "│      ┆               ┆           ┆               ┆               ┆               ┆ i64           │\n",
       "╞══════╪═══════════════╪═══════════╪═══════════════╪═══════════════╪═══════════════╪═══════════════╡\n",
       "│ FY19 ┆ 1129          ┆ 510329    ┆ 4076          ┆ 21957         ┆ -10344        ┆ 10678         │\n",
       "│ FY20 ┆ 1129          ┆ 519926    ┆ 4038          ┆ 20568         ┆ -10705        ┆ 10987         │\n",
       "│ FY21 ┆ 1121          ┆ 555233    ┆ 3918          ┆ 22548         ┆ -10604        ┆ 11152         │\n",
       "└──────┴───────────────┴───────────┴───────────────┴───────────────┴───────────────┴───────────────┘"
      ]
     },
     "execution_count": 7,
     "metadata": {},
     "output_type": "execute_result"
    }
   ],
   "source": [
    "df"
   ]
  },
  {
   "cell_type": "markdown",
   "metadata": {},
   "source": [
    "### Design\n",
    "\n",
    "Programmable Excel - Maybe a better VBA\n",
    "\n",
    "Why is this different from dataframes?\n",
    "Dataframe is not a DAG computation graph, but Excel is. But Excel looks very similar to Dataframe in a way that it's tabular.\n",
    "\n",
    "So I'd like to build a python library that makes it easier to define an excel-like table, like:\n",
    "\n",
    "```python\n",
    "\n",
    "df = el.excelFrame({\"x\": [1, 2, 3]})\n",
    "df = df.with_columns(\n",
    "    # It'll define \"y\" as \"x\" column cell * 2 for each row.\n",
    "    (el.col(\"x\") * 2).alias(\"y\"),\n",
    "    # This is a common financial excel pattern (e.g. previous earnings * expected growth rate).\n",
    "    (el.col(\"y\").prev(1) * el.col(\"x\")).alias(\"z\"),\n",
    "    # Empty column.\n",
    "    (el.empty()).alias(\"empty_col\")\n",
    ")\n",
    "\n",
    "df[\"empty_col\"][2] = df[\"x\"][0] + df[\"y\"][0]\n",
    "df[\"y\"][:3].clear()\n",
    "\n",
    "df.write_excel()\n",
    "\n",
    "```"
   ]
  },
  {
   "cell_type": "code",
   "execution_count": 43,
   "metadata": {},
   "outputs": [],
   "source": [
    "[quarter, retail_square_foot, net_sales, other_income, ebit, capex, d_and_a] = [\n",
    "    pl.col(c) for c in df.columns\n",
    "]"
   ]
  },
  {
   "cell_type": "markdown",
   "metadata": {},
   "source": [
    "### Derive Other Columns"
   ]
  },
  {
   "cell_type": "code",
   "execution_count": 44,
   "metadata": {},
   "outputs": [],
   "source": [
    "lf = df.lazy().with_columns(\n",
    "    (net_sales / retail_square_foot).alias(\"Sales per Square Foot\"),\n",
    "    ((net_sales - ebit) / retail_square_foot).alias(\"COGS and OpEx per Square Foot\"),\n",
    "    (-capex / retail_square_foot.shift(1).fill_null(fy18_retail_square_foot)).alias(\n",
    "        \"Maintenance CapEx per Square Foot\"\n",
    "    ),\n",
    "    (d_and_a / retail_square_foot).alias(\"D&A per Square Foot\"),\n",
    "    (net_sales + other_income).alias(\"Total Revenue\"),\n",
    "    (-ebit * effective_tax_rate).alias(\"(-) Taxes, Excluding Effect of Interest:\"),\n",
    ")\n",
    "lf = lf.with_columns(\n",
    "    (pl.col(\"(-) Taxes, Excluding Effect of Interest:\") + ebit).alias(\n",
    "        \"Net Operating Profit After Tax (NOPAT)\"\n",
    "    ),\n",
    ")\n",
    "historical_df = lf.collect()"
   ]
  },
  {
   "cell_type": "markdown",
   "metadata": {},
   "source": [
    "### Projections"
   ]
  },
  {
   "cell_type": "code",
   "execution_count": 45,
   "metadata": {},
   "outputs": [],
   "source": [
    "projected_years = [f\"FY{22 + i}\" for i in range(10)]\n",
    "retail_square_foot_gr = [0.02] * 2 + [0.015] * 2 + [0.01] * 2 + [0.005] * 4\n",
    "sales_per_sqft_gr = [0.03] * 2 + [0.025] * 2 + [0.02] * 2 + [0.015] * 2 + [0.01] * 2\n",
    "cogs_and_opex_per_sqft_gr = sales_per_sqft_gr\n",
    "maintenance_capex_per_sqft_gr = sales_per_sqft_gr\n",
    "d_and_a_per_sqft_gr = [0.025] * 2 + [0.02] * 2 + [0.015] * 2 + [0.01] * 2 + [0.008] * 2\n",
    "initial_growth_capex_per_sqft = 150.\n",
    "growth_capex_per_sqft_gr = [np.nan] + [0.03] * 2 + [0.025] * 2 + [0.02] * 2 + [0.015] * 2 + [0.01]\n",
    "membersip_and_other_income_gr = [0.03] * 2 + [0.025] * 2 + [0.02] * 2 + [0.015] * 2 + [0.01] * 2"
   ]
  },
  {
   "cell_type": "code",
   "execution_count": 46,
   "metadata": {},
   "outputs": [
    {
     "data": {
      "text/html": [
       "<div><style>\n",
       ".dataframe > thead > tr,\n",
       ".dataframe > tbody > tr {\n",
       "  text-align: right;\n",
       "  white-space: pre-wrap;\n",
       "}\n",
       "</style>\n",
       "<small>shape: (10, 8)</small><table border=\"1\" class=\"dataframe\"><thead><tr><th>Year</th><th>Retail Square Foot Growth Rate</th><th>Sales per Square Foot Growth Rate</th><th>COGS and OPEX per Square Foot Growth Rate</th><th>Maintenance CapEx per Square Foot Growth Rate</th><th>D&amp;A per Square Foot Growth Rate</th><th>Growth CapEx per New Square Foot Growth Rate</th><th>Membership and Other Income Growth Rate</th></tr><tr><td>str</td><td>f64</td><td>f64</td><td>f64</td><td>f64</td><td>f64</td><td>f64</td><td>f64</td></tr></thead><tbody><tr><td>&quot;FY22&quot;</td><td>0.02</td><td>0.03</td><td>0.03</td><td>0.03</td><td>0.025</td><td>NaN</td><td>0.03</td></tr><tr><td>&quot;FY23&quot;</td><td>0.02</td><td>0.03</td><td>0.03</td><td>0.03</td><td>0.025</td><td>0.03</td><td>0.03</td></tr><tr><td>&quot;FY24&quot;</td><td>0.015</td><td>0.025</td><td>0.025</td><td>0.025</td><td>0.02</td><td>0.03</td><td>0.025</td></tr><tr><td>&quot;FY25&quot;</td><td>0.015</td><td>0.025</td><td>0.025</td><td>0.025</td><td>0.02</td><td>0.025</td><td>0.025</td></tr><tr><td>&quot;FY26&quot;</td><td>0.01</td><td>0.02</td><td>0.02</td><td>0.02</td><td>0.015</td><td>0.025</td><td>0.02</td></tr><tr><td>&quot;FY27&quot;</td><td>0.01</td><td>0.02</td><td>0.02</td><td>0.02</td><td>0.015</td><td>0.02</td><td>0.02</td></tr><tr><td>&quot;FY28&quot;</td><td>0.005</td><td>0.015</td><td>0.015</td><td>0.015</td><td>0.01</td><td>0.02</td><td>0.015</td></tr><tr><td>&quot;FY29&quot;</td><td>0.005</td><td>0.015</td><td>0.015</td><td>0.015</td><td>0.01</td><td>0.015</td><td>0.015</td></tr><tr><td>&quot;FY30&quot;</td><td>0.005</td><td>0.01</td><td>0.01</td><td>0.01</td><td>0.008</td><td>0.015</td><td>0.01</td></tr><tr><td>&quot;FY31&quot;</td><td>0.005</td><td>0.01</td><td>0.01</td><td>0.01</td><td>0.008</td><td>0.01</td><td>0.01</td></tr></tbody></table></div>"
      ],
      "text/plain": [
       "shape: (10, 8)\n",
       "┌──────┬────────┬──────────────┬──────────────┬──────────────┬─────────┬─────────────┬─────────────┐\n",
       "│ Year ┆ Retail ┆ Sales per    ┆ COGS and     ┆ Maintenance  ┆ D&A per ┆ Growth      ┆ Membership  │\n",
       "│ ---  ┆ Square ┆ Square Foot  ┆ OPEX per     ┆ CapEx per    ┆ Square  ┆ CapEx per   ┆ and Other   │\n",
       "│ str  ┆ Foot   ┆ Growth R…    ┆ Square Foot  ┆ Square F…    ┆ Foot    ┆ New Square  ┆ Income Gr…  │\n",
       "│      ┆ Growth ┆ ---          ┆ …            ┆ ---          ┆ Growth  ┆ Fo…         ┆ ---         │\n",
       "│      ┆ Rate   ┆ f64          ┆ ---          ┆ f64          ┆ Rat…    ┆ ---         ┆ f64         │\n",
       "│      ┆ ---    ┆              ┆ f64          ┆              ┆ ---     ┆ f64         ┆             │\n",
       "│      ┆ f64    ┆              ┆              ┆              ┆ f64     ┆             ┆             │\n",
       "╞══════╪════════╪══════════════╪══════════════╪══════════════╪═════════╪═════════════╪═════════════╡\n",
       "│ FY22 ┆ 0.02   ┆ 0.03         ┆ 0.03         ┆ 0.03         ┆ 0.025   ┆ NaN         ┆ 0.03        │\n",
       "│ FY23 ┆ 0.02   ┆ 0.03         ┆ 0.03         ┆ 0.03         ┆ 0.025   ┆ 0.03        ┆ 0.03        │\n",
       "│ FY24 ┆ 0.015  ┆ 0.025        ┆ 0.025        ┆ 0.025        ┆ 0.02    ┆ 0.03        ┆ 0.025       │\n",
       "│ FY25 ┆ 0.015  ┆ 0.025        ┆ 0.025        ┆ 0.025        ┆ 0.02    ┆ 0.025       ┆ 0.025       │\n",
       "│ FY26 ┆ 0.01   ┆ 0.02         ┆ 0.02         ┆ 0.02         ┆ 0.015   ┆ 0.025       ┆ 0.02        │\n",
       "│ FY27 ┆ 0.01   ┆ 0.02         ┆ 0.02         ┆ 0.02         ┆ 0.015   ┆ 0.02        ┆ 0.02        │\n",
       "│ FY28 ┆ 0.005  ┆ 0.015        ┆ 0.015        ┆ 0.015        ┆ 0.01    ┆ 0.02        ┆ 0.015       │\n",
       "│ FY29 ┆ 0.005  ┆ 0.015        ┆ 0.015        ┆ 0.015        ┆ 0.01    ┆ 0.015       ┆ 0.015       │\n",
       "│ FY30 ┆ 0.005  ┆ 0.01         ┆ 0.01         ┆ 0.01         ┆ 0.008   ┆ 0.015       ┆ 0.01        │\n",
       "│ FY31 ┆ 0.005  ┆ 0.01         ┆ 0.01         ┆ 0.01         ┆ 0.008   ┆ 0.01        ┆ 0.01        │\n",
       "└──────┴────────┴──────────────┴──────────────┴──────────────┴─────────┴─────────────┴─────────────┘"
      ]
     },
     "execution_count": 46,
     "metadata": {},
     "output_type": "execute_result"
    }
   ],
   "source": [
    "manual_inputs = pl.DataFrame(\n",
    "    {\n",
    "        \"Year\": projected_years,\n",
    "        \"Retail Square Foot Growth Rate\": retail_square_foot_gr,\n",
    "        \"Sales per Square Foot Growth Rate\": sales_per_sqft_gr,\n",
    "        \"COGS and OPEX per Square Foot Growth Rate\": cogs_and_opex_per_sqft_gr,\n",
    "        \"Maintenance CapEx per Square Foot Growth Rate\": maintenance_capex_per_sqft_gr,\n",
    "        \"D&A per Square Foot Growth Rate\": d_and_a_per_sqft_gr,\n",
    "        \"Growth CapEx per New Square Foot Growth Rate\": growth_capex_per_sqft_gr,\n",
    "        \"Membership and Other Income Growth Rate\": membersip_and_other_income_gr,\n",
    "    }\n",
    ")\n",
    "manual_inputs"
   ]
  },
  {
   "cell_type": "code",
   "execution_count": 47,
   "metadata": {},
   "outputs": [
    {
     "data": {
      "text/html": [
       "<div><style>\n",
       ".dataframe > thead > tr,\n",
       ".dataframe > tbody > tr {\n",
       "  text-align: right;\n",
       "  white-space: pre-wrap;\n",
       "}\n",
       "</style>\n",
       "<small>shape: (13, 21)</small><table border=\"1\" class=\"dataframe\"><thead><tr><th>Year</th><th>Retail Square Foot</th><th>Net Sales</th><th>Membership &amp; Other Income</th><th>Operating Income (EBIT)</th><th>Capital Expenditures</th><th>Depreciation &amp; Amortization</th><th>Sales per Square Foot</th><th>COGS and OpEx per Square Foot</th><th>Maintenance CapEx per Square Foot</th><th>D&amp;A per Square Foot</th><th>Total Revenue</th><th>(-) Taxes, Excluding Effect of Interest:</th><th>Net Operating Profit After Tax (NOPAT)</th><th>Retail Square Foot Growth Rate</th><th>Sales per Square Foot Growth Rate</th><th>COGS and OPEX per Square Foot Growth Rate</th><th>Maintenance CapEx per Square Foot Growth Rate</th><th>D&amp;A per Square Foot Growth Rate</th><th>Growth CapEx per New Square Foot Growth Rate</th><th>Membership and Other Income Growth Rate</th></tr><tr><td>str</td><td>i64</td><td>i64</td><td>i64</td><td>i64</td><td>i64</td><td>i64</td><td>f64</td><td>f64</td><td>f64</td><td>f64</td><td>i64</td><td>f64</td><td>f64</td><td>f64</td><td>f64</td><td>f64</td><td>f64</td><td>f64</td><td>f64</td><td>f64</td></tr></thead><tbody><tr><td>&quot;FY19&quot;</td><td>1129</td><td>510329</td><td>4076</td><td>21957</td><td>-10344</td><td>10678</td><td>452.018601</td><td>432.570416</td><td>8.932642</td><td>9.457927</td><td>514405</td><td>-6963.212488</td><td>14993.787512</td><td>null</td><td>null</td><td>null</td><td>null</td><td>null</td><td>null</td><td>null</td></tr><tr><td>&quot;FY20&quot;</td><td>1129</td><td>519926</td><td>4038</td><td>20568</td><td>-10705</td><td>10987</td><td>460.519043</td><td>442.301151</td><td>9.481842</td><td>9.731621</td><td>523964</td><td>-6522.719609</td><td>14045.280391</td><td>null</td><td>null</td><td>null</td><td>null</td><td>null</td><td>null</td><td>null</td></tr><tr><td>&quot;FY21&quot;</td><td>1121</td><td>555233</td><td>3918</td><td>22548</td><td>-10604</td><td>11152</td><td>495.301517</td><td>475.187333</td><td>9.392383</td><td>9.94826</td><td>559151</td><td>-7150.636024</td><td>15397.363976</td><td>null</td><td>null</td><td>null</td><td>null</td><td>null</td><td>null</td><td>null</td></tr><tr><td>&quot;FY22&quot;</td><td>null</td><td>null</td><td>null</td><td>null</td><td>null</td><td>null</td><td>null</td><td>null</td><td>null</td><td>null</td><td>null</td><td>null</td><td>null</td><td>0.02</td><td>0.03</td><td>0.03</td><td>0.03</td><td>0.025</td><td>NaN</td><td>0.03</td></tr><tr><td>&quot;FY23&quot;</td><td>null</td><td>null</td><td>null</td><td>null</td><td>null</td><td>null</td><td>null</td><td>null</td><td>null</td><td>null</td><td>null</td><td>null</td><td>null</td><td>0.02</td><td>0.03</td><td>0.03</td><td>0.03</td><td>0.025</td><td>0.03</td><td>0.03</td></tr><tr><td>&hellip;</td><td>&hellip;</td><td>&hellip;</td><td>&hellip;</td><td>&hellip;</td><td>&hellip;</td><td>&hellip;</td><td>&hellip;</td><td>&hellip;</td><td>&hellip;</td><td>&hellip;</td><td>&hellip;</td><td>&hellip;</td><td>&hellip;</td><td>&hellip;</td><td>&hellip;</td><td>&hellip;</td><td>&hellip;</td><td>&hellip;</td><td>&hellip;</td><td>&hellip;</td></tr><tr><td>&quot;FY27&quot;</td><td>null</td><td>null</td><td>null</td><td>null</td><td>null</td><td>null</td><td>null</td><td>null</td><td>null</td><td>null</td><td>null</td><td>null</td><td>null</td><td>0.01</td><td>0.02</td><td>0.02</td><td>0.02</td><td>0.015</td><td>0.02</td><td>0.02</td></tr><tr><td>&quot;FY28&quot;</td><td>null</td><td>null</td><td>null</td><td>null</td><td>null</td><td>null</td><td>null</td><td>null</td><td>null</td><td>null</td><td>null</td><td>null</td><td>null</td><td>0.005</td><td>0.015</td><td>0.015</td><td>0.015</td><td>0.01</td><td>0.02</td><td>0.015</td></tr><tr><td>&quot;FY29&quot;</td><td>null</td><td>null</td><td>null</td><td>null</td><td>null</td><td>null</td><td>null</td><td>null</td><td>null</td><td>null</td><td>null</td><td>null</td><td>null</td><td>0.005</td><td>0.015</td><td>0.015</td><td>0.015</td><td>0.01</td><td>0.015</td><td>0.015</td></tr><tr><td>&quot;FY30&quot;</td><td>null</td><td>null</td><td>null</td><td>null</td><td>null</td><td>null</td><td>null</td><td>null</td><td>null</td><td>null</td><td>null</td><td>null</td><td>null</td><td>0.005</td><td>0.01</td><td>0.01</td><td>0.01</td><td>0.008</td><td>0.015</td><td>0.01</td></tr><tr><td>&quot;FY31&quot;</td><td>null</td><td>null</td><td>null</td><td>null</td><td>null</td><td>null</td><td>null</td><td>null</td><td>null</td><td>null</td><td>null</td><td>null</td><td>null</td><td>0.005</td><td>0.01</td><td>0.01</td><td>0.01</td><td>0.008</td><td>0.01</td><td>0.01</td></tr></tbody></table></div>"
      ],
      "text/plain": [
       "shape: (13, 21)\n",
       "┌──────┬────────┬───────────┬──────────────┬───┬─────────────┬─────────┬─────────────┬─────────────┐\n",
       "│ Year ┆ Retail ┆ Net Sales ┆ Membership & ┆ … ┆ Maintenance ┆ D&A per ┆ Growth      ┆ Membership  │\n",
       "│ ---  ┆ Square ┆ ---       ┆ Other Income ┆   ┆ CapEx per   ┆ Square  ┆ CapEx per   ┆ and Other   │\n",
       "│ str  ┆ Foot   ┆ i64       ┆ ---          ┆   ┆ Square F…   ┆ Foot    ┆ New Square  ┆ Income Gr…  │\n",
       "│      ┆ ---    ┆           ┆ i64          ┆   ┆ ---         ┆ Growth  ┆ Fo…         ┆ ---         │\n",
       "│      ┆ i64    ┆           ┆              ┆   ┆ f64         ┆ Rat…    ┆ ---         ┆ f64         │\n",
       "│      ┆        ┆           ┆              ┆   ┆             ┆ ---     ┆ f64         ┆             │\n",
       "│      ┆        ┆           ┆              ┆   ┆             ┆ f64     ┆             ┆             │\n",
       "╞══════╪════════╪═══════════╪══════════════╪═══╪═════════════╪═════════╪═════════════╪═════════════╡\n",
       "│ FY19 ┆ 1129   ┆ 510329    ┆ 4076         ┆ … ┆ null        ┆ null    ┆ null        ┆ null        │\n",
       "│ FY20 ┆ 1129   ┆ 519926    ┆ 4038         ┆ … ┆ null        ┆ null    ┆ null        ┆ null        │\n",
       "│ FY21 ┆ 1121   ┆ 555233    ┆ 3918         ┆ … ┆ null        ┆ null    ┆ null        ┆ null        │\n",
       "│ FY22 ┆ null   ┆ null      ┆ null         ┆ … ┆ 0.03        ┆ 0.025   ┆ NaN         ┆ 0.03        │\n",
       "│ FY23 ┆ null   ┆ null      ┆ null         ┆ … ┆ 0.03        ┆ 0.025   ┆ 0.03        ┆ 0.03        │\n",
       "│ …    ┆ …      ┆ …         ┆ …            ┆ … ┆ …           ┆ …       ┆ …           ┆ …           │\n",
       "│ FY27 ┆ null   ┆ null      ┆ null         ┆ … ┆ 0.02        ┆ 0.015   ┆ 0.02        ┆ 0.02        │\n",
       "│ FY28 ┆ null   ┆ null      ┆ null         ┆ … ┆ 0.015       ┆ 0.01    ┆ 0.02        ┆ 0.015       │\n",
       "│ FY29 ┆ null   ┆ null      ┆ null         ┆ … ┆ 0.015       ┆ 0.01    ┆ 0.015       ┆ 0.015       │\n",
       "│ FY30 ┆ null   ┆ null      ┆ null         ┆ … ┆ 0.01        ┆ 0.008   ┆ 0.015       ┆ 0.01        │\n",
       "│ FY31 ┆ null   ┆ null      ┆ null         ┆ … ┆ 0.01        ┆ 0.008   ┆ 0.01        ┆ 0.01        │\n",
       "└──────┴────────┴───────────┴──────────────┴───┴─────────────┴─────────┴─────────────┴─────────────┘"
      ]
     },
     "execution_count": 47,
     "metadata": {},
     "output_type": "execute_result"
    }
   ],
   "source": [
    "joined_df = (\n",
    "    historical_df.join(manual_inputs, on=\"Year\", how=\"full\")\n",
    "    .with_columns(pl.coalesce([\"Year\", \"Year_right\"]).alias(\"Year\"))\n",
    "    .drop(\"Year_right\")\n",
    "    .sort(\"Year\")\n",
    ")\n",
    "joined_df"
   ]
  },
  {
   "cell_type": "code",
   "execution_count": 48,
   "metadata": {},
   "outputs": [
    {
     "data": {
      "text/html": [
       "<div><style>\n",
       ".dataframe > thead > tr,\n",
       ".dataframe > tbody > tr {\n",
       "  text-align: right;\n",
       "  white-space: pre-wrap;\n",
       "}\n",
       "</style>\n",
       "<small>shape: (1, 21)</small><table border=\"1\" class=\"dataframe\"><thead><tr><th>Year</th><th>Retail Square Foot</th><th>Net Sales</th><th>Membership &amp; Other Income</th><th>Operating Income (EBIT)</th><th>Capital Expenditures</th><th>Depreciation &amp; Amortization</th><th>Sales per Square Foot</th><th>COGS and OpEx per Square Foot</th><th>Maintenance CapEx per Square Foot</th><th>D&amp;A per Square Foot</th><th>Total Revenue</th><th>(-) Taxes, Excluding Effect of Interest:</th><th>Net Operating Profit After Tax (NOPAT)</th><th>Retail Square Foot Growth Rate</th><th>Sales per Square Foot Growth Rate</th><th>COGS and OPEX per Square Foot Growth Rate</th><th>Maintenance CapEx per Square Foot Growth Rate</th><th>D&amp;A per Square Foot Growth Rate</th><th>Growth CapEx per New Square Foot Growth Rate</th><th>Membership and Other Income Growth Rate</th></tr><tr><td>str</td><td>i64</td><td>i64</td><td>i64</td><td>i64</td><td>i64</td><td>i64</td><td>f64</td><td>f64</td><td>f64</td><td>f64</td><td>i64</td><td>f64</td><td>f64</td><td>f64</td><td>f64</td><td>f64</td><td>f64</td><td>f64</td><td>f64</td><td>f64</td></tr></thead><tbody><tr><td>&quot;FY25&quot;</td><td>null</td><td>null</td><td>null</td><td>null</td><td>null</td><td>null</td><td>null</td><td>null</td><td>null</td><td>null</td><td>null</td><td>null</td><td>null</td><td>0.015</td><td>0.025</td><td>0.025</td><td>0.025</td><td>0.02</td><td>0.025</td><td>0.025</td></tr></tbody></table></div>"
      ],
      "text/plain": [
       "shape: (1, 21)\n",
       "┌──────┬────────┬───────────┬──────────────┬───┬─────────────┬─────────┬─────────────┬─────────────┐\n",
       "│ Year ┆ Retail ┆ Net Sales ┆ Membership & ┆ … ┆ Maintenance ┆ D&A per ┆ Growth      ┆ Membership  │\n",
       "│ ---  ┆ Square ┆ ---       ┆ Other Income ┆   ┆ CapEx per   ┆ Square  ┆ CapEx per   ┆ and Other   │\n",
       "│ str  ┆ Foot   ┆ i64       ┆ ---          ┆   ┆ Square F…   ┆ Foot    ┆ New Square  ┆ Income Gr…  │\n",
       "│      ┆ ---    ┆           ┆ i64          ┆   ┆ ---         ┆ Growth  ┆ Fo…         ┆ ---         │\n",
       "│      ┆ i64    ┆           ┆              ┆   ┆ f64         ┆ Rat…    ┆ ---         ┆ f64         │\n",
       "│      ┆        ┆           ┆              ┆   ┆             ┆ ---     ┆ f64         ┆             │\n",
       "│      ┆        ┆           ┆              ┆   ┆             ┆ f64     ┆             ┆             │\n",
       "╞══════╪════════╪═══════════╪══════════════╪═══╪═════════════╪═════════╪═════════════╪═════════════╡\n",
       "│ FY25 ┆ null   ┆ null      ┆ null         ┆ … ┆ 0.025       ┆ 0.02    ┆ 0.025       ┆ 0.025       │\n",
       "└──────┴────────┴───────────┴──────────────┴───┴─────────────┴─────────┴─────────────┴─────────────┘"
      ]
     },
     "execution_count": 48,
     "metadata": {},
     "output_type": "execute_result"
    }
   ],
   "source": [
    "joined_df.filter(pl.col(\"Year\") == \"FY25\")"
   ]
  },
  {
   "cell_type": "code",
   "execution_count": 52,
   "metadata": {},
   "outputs": [
    {
     "data": {
      "text/plain": [
       "'\\nsyntax I want:\\n\\n\"x\".prev(1) * \"r\"\\n'"
      ]
     },
     "execution_count": 52,
     "metadata": {},
     "output_type": "execute_result"
    }
   ],
   "source": [
    "\"\"\"\n",
    "syntax I want:\n",
    "\n",
    "\"x\".prev(1) * \"r\"\n",
    "\"\"\""
   ]
  },
  {
   "cell_type": "code",
   "execution_count": null,
   "metadata": {},
   "outputs": [],
   "source": []
  }
 ],
 "metadata": {
  "kernelspec": {
   "display_name": "Python 3 (ipykernel)",
   "language": "python",
   "name": "python3"
  },
  "language_info": {
   "codemirror_mode": {
    "name": "ipython",
    "version": 3
   },
   "file_extension": ".py",
   "mimetype": "text/x-python",
   "name": "python",
   "nbconvert_exporter": "python",
   "pygments_lexer": "ipython3",
   "version": "3.11.11"
  }
 },
 "nbformat": 4,
 "nbformat_minor": 4
}
